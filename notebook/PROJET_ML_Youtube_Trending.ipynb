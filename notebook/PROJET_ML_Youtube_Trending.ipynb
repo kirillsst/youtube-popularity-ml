{
 "cells": [
  {
   "cell_type": "markdown",
   "id": "f478863d",
   "metadata": {},
   "source": [
    "# PROJET ML — CLASSIFICATION DE VIDÉOS YOUTUBE *TRENDING*\n",
    "\n",
    "**Dataset Kaggle**: https://www.kaggle.com/datasets/datasnaek/youtube-new\n",
    "\n",
    "**Objectif**: Développer un classificateur pour prédire si une vidéo YouTube deviendra *trending*.\n",
    "\n",
    "> Ce notebook est conçu pour être complété. Chaque section contient des consignes détaillées et des zones de code à compléter.\n"
   ]
  },
  {
   "cell_type": "markdown",
   "id": "546bd156",
   "metadata": {},
   "source": [
    "## 1. Importation des librairies"
   ]
  },
  {
   "cell_type": "markdown",
   "id": "07d5e9d0",
   "metadata": {},
   "source": [
    "**Consigne 1.1 — Importez toutes les librairies nécessaires**\n",
    "- `pandas`, `numpy` pour la manipulation de données  \n",
    "- `matplotlib.pyplot`, `seaborn` pour la visualisation  \n",
    "- `sklearn` pour le machine learning  \n",
    "- `warnings` pour supprimer les avertissements"
   ]
  },
  {
   "cell_type": "code",
   "execution_count": 2,
   "id": "bb2ef50c",
   "metadata": {},
   "outputs": [
    {
     "name": "stdout",
     "output_type": "stream",
     "text": [
      "Kirill\n"
     ]
    }
   ],
   "source": [
    "# VOTRE CODE ICI - Section 1.1\n",
    "import pandas as pd\n",
    "import numpy as np\n",
    "import matplotlib.pyplot as plt\n",
    "import seaborn as sns\n",
    "import sklearn\n",
    "import json\n",
    "import datetime \n",
    "# Suppression des warnings\n",
    "import warnings\n",
    "warnings.filterwarnings('ignore')\n",
    "print(\"Kirill\")"
   ]
  },
  {
   "cell_type": "markdown",
   "id": "879269a0",
   "metadata": {},
   "source": [
    "## 2. Chargement et exploration des données"
   ]
  },
  {
   "cell_type": "markdown",
   "id": "09a658e0",
   "metadata": {},
   "source": [
    "**Consigne 2.1 — Chargement des données**\n",
    "- Chargez le fichier `USvideos.csv` avec pandas  \n",
    "- Affichez les 5 premières lignes  \n",
    "- Affichez les informations générales (`info()`, `shape`, `describe()`)\n",
    "\n",
    "*Aide* :\n",
    "- Utilisez `pd.read_csv()` avec `encoding='utf-8'`\n",
    "- `.info()` donne les types de colonnes et valeurs non-nulles\n",
    "- `.describe()` donne les statistiques descriptives"
   ]
  },
  {
   "cell_type": "code",
   "execution_count": 3,
   "id": "21041baa",
   "metadata": {},
   "outputs": [
    {
     "name": "stdout",
     "output_type": "stream",
     "text": [
      "Premières lignes:        video_id trending_date  \\\n",
      "0  2kyS6SvSYSE      17.14.11   \n",
      "1  1ZAPwfrtAFY      17.14.11   \n",
      "2  5qpjK5DgCt4      17.14.11   \n",
      "3  puqaWrEC7tY      17.14.11   \n",
      "4  d380meD0W0M      17.14.11   \n",
      "\n",
      "                                               title          channel_title  \\\n",
      "0                 WE WANT TO TALK ABOUT OUR MARRIAGE           CaseyNeistat   \n",
      "1  The Trump Presidency: Last Week Tonight with J...        LastWeekTonight   \n",
      "2  Racist Superman | Rudy Mancuso, King Bach & Le...           Rudy Mancuso   \n",
      "3                   Nickelback Lyrics: Real or Fake?  Good Mythical Morning   \n",
      "4                           I Dare You: GOING BALD!?               nigahiga   \n",
      "\n",
      "   category_id              publish_time  \\\n",
      "0           22  2017-11-13T17:13:01.000Z   \n",
      "1           24  2017-11-13T07:30:00.000Z   \n",
      "2           23  2017-11-12T19:05:24.000Z   \n",
      "3           24  2017-11-13T11:00:04.000Z   \n",
      "4           24  2017-11-12T18:01:41.000Z   \n",
      "\n",
      "                                                tags    views   likes  \\\n",
      "0                                    SHANtell martin   748374   57527   \n",
      "1  last week tonight trump presidency|\"last week ...  2418783   97185   \n",
      "2  racist superman|\"rudy\"|\"mancuso\"|\"king\"|\"bach\"...  3191434  146033   \n",
      "3  rhett and link|\"gmm\"|\"good mythical morning\"|\"...   343168   10172   \n",
      "4  ryan|\"higa\"|\"higatv\"|\"nigahiga\"|\"i dare you\"|\"...  2095731  132235   \n",
      "\n",
      "   dislikes  comment_count                                  thumbnail_link  \\\n",
      "0      2966          15954  https://i.ytimg.com/vi/2kyS6SvSYSE/default.jpg   \n",
      "1      6146          12703  https://i.ytimg.com/vi/1ZAPwfrtAFY/default.jpg   \n",
      "2      5339           8181  https://i.ytimg.com/vi/5qpjK5DgCt4/default.jpg   \n",
      "3       666           2146  https://i.ytimg.com/vi/puqaWrEC7tY/default.jpg   \n",
      "4      1989          17518  https://i.ytimg.com/vi/d380meD0W0M/default.jpg   \n",
      "\n",
      "   comments_disabled  ratings_disabled  video_error_or_removed  \\\n",
      "0              False             False                   False   \n",
      "1              False             False                   False   \n",
      "2              False             False                   False   \n",
      "3              False             False                   False   \n",
      "4              False             False                   False   \n",
      "\n",
      "                                         description  \n",
      "0  SHANTELL'S CHANNEL - https://www.youtube.com/s...  \n",
      "1  One year after the presidential election, John...  \n",
      "2  WATCH MY PREVIOUS VIDEO ▶ \\n\\nSUBSCRIBE ► http...  \n",
      "3  Today we find out if Link is a Nickelback amat...  \n",
      "4  I know it's been a while since we did this sho...  \n"
     ]
    },
    {
     "data": {
      "application/vnd.microsoft.datawrangler.viewer.v0+json": {
       "columns": [
        {
         "name": "index",
         "rawType": "int64",
         "type": "integer"
        },
        {
         "name": "video_id",
         "rawType": "object",
         "type": "string"
        },
        {
         "name": "trending_date",
         "rawType": "object",
         "type": "string"
        },
        {
         "name": "title",
         "rawType": "object",
         "type": "string"
        },
        {
         "name": "channel_title",
         "rawType": "object",
         "type": "string"
        },
        {
         "name": "category_id",
         "rawType": "int64",
         "type": "integer"
        },
        {
         "name": "publish_time",
         "rawType": "object",
         "type": "string"
        },
        {
         "name": "tags",
         "rawType": "object",
         "type": "string"
        },
        {
         "name": "views",
         "rawType": "int64",
         "type": "integer"
        },
        {
         "name": "likes",
         "rawType": "int64",
         "type": "integer"
        },
        {
         "name": "dislikes",
         "rawType": "int64",
         "type": "integer"
        },
        {
         "name": "comment_count",
         "rawType": "int64",
         "type": "integer"
        },
        {
         "name": "thumbnail_link",
         "rawType": "object",
         "type": "string"
        },
        {
         "name": "comments_disabled",
         "rawType": "bool",
         "type": "boolean"
        },
        {
         "name": "ratings_disabled",
         "rawType": "bool",
         "type": "boolean"
        },
        {
         "name": "video_error_or_removed",
         "rawType": "bool",
         "type": "boolean"
        },
        {
         "name": "description",
         "rawType": "object",
         "type": "string"
        }
       ],
       "ref": "7dd6af26-fd23-4c67-8ffc-635a0513466e",
       "rows": [
        [
         "0",
         "2kyS6SvSYSE",
         "17.14.11",
         "WE WANT TO TALK ABOUT OUR MARRIAGE",
         "CaseyNeistat",
         "22",
         "2017-11-13T17:13:01.000Z",
         "SHANtell martin",
         "748374",
         "57527",
         "2966",
         "15954",
         "https://i.ytimg.com/vi/2kyS6SvSYSE/default.jpg",
         "False",
         "False",
         "False",
         "SHANTELL'S CHANNEL - https://www.youtube.com/shantellmartin\\nCANDICE - https://www.lovebilly.com\\n\\nfilmed this video in 4k on this -- http://amzn.to/2sTDnRZ\\nwith this lens -- http://amzn.to/2rUJOmD\\nbig drone - http://tinyurl.com/h4ft3oy\\nOTHER GEAR ---  http://amzn.to/2o3GLX5\\nSony CAMERA http://amzn.to/2nOBmnv\\nOLD CAMERA; http://amzn.to/2o2cQBT\\nMAIN LENS; http://amzn.to/2od5gBJ\\nBIG SONY CAMERA; http://amzn.to/2nrdJRO\\nBIG Canon CAMERA; http://tinyurl.com/jn4q4vz\\nBENDY TRIPOD THING; http://tinyurl.com/gw3ylz2\\nYOU NEED THIS FOR THE BENDY TRIPOD; http://tinyurl.com/j8mzzua\\nWIDE LENS; http://tinyurl.com/jkfcm8t\\nMORE EXPENSIVE WIDE LENS; http://tinyurl.com/zrdgtou\\nSMALL CAMERA; http://tinyurl.com/hrrzhor\\nMICROPHONE; http://tinyurl.com/zefm4jy\\nOTHER MICROPHONE; http://tinyurl.com/jxgpj86\\nOLD DRONE (cheaper but still great);http://tinyurl.com/zcfmnmd\\n\\nfollow me; on http://instagram.com/caseyneistat\\non https://www.facebook.com/cneistat\\non https://twitter.com/CaseyNeistat\\n\\namazing intro song by https://soundcloud.com/discoteeth\\n\\nad disclosure.  THIS IS NOT AN AD.  not selling or promoting anything.  but samsung did produce the Shantell Video as a 'GALAXY PROJECT' which is an initiative that enables creators like Shantell and me to make projects we might otherwise not have the opportunity to make.  hope that's clear.  if not ask in the comments and i'll answer any specifics."
        ],
        [
         "1",
         "1ZAPwfrtAFY",
         "17.14.11",
         "The Trump Presidency: Last Week Tonight with John Oliver (HBO)",
         "LastWeekTonight",
         "24",
         "2017-11-13T07:30:00.000Z",
         "last week tonight trump presidency|\"last week tonight donald trump\"|\"john oliver trump\"|\"donald trump\"",
         "2418783",
         "97185",
         "6146",
         "12703",
         "https://i.ytimg.com/vi/1ZAPwfrtAFY/default.jpg",
         "False",
         "False",
         "False",
         "One year after the presidential election, John Oliver discusses what we've learned so far and enlists our catheter cowboy to teach Donald Trump what he hasn't.\\n\\nConnect with Last Week Tonight online...\\n\\nSubscribe to the Last Week Tonight YouTube channel for more almost news as it almost happens: www.youtube.com/user/LastWeekTonight\\n\\nFind Last Week Tonight on Facebook like your mom would: http://Facebook.com/LastWeekTonight\\n\\nFollow us on Twitter for news about jokes and jokes about news: http://Twitter.com/LastWeekTonight\\n\\nVisit our official site for all that other stuff at once: http://www.hbo.com/lastweektonight"
        ],
        [
         "2",
         "5qpjK5DgCt4",
         "17.14.11",
         "Racist Superman | Rudy Mancuso, King Bach & Lele Pons",
         "Rudy Mancuso",
         "23",
         "2017-11-12T19:05:24.000Z",
         "racist superman|\"rudy\"|\"mancuso\"|\"king\"|\"bach\"|\"racist\"|\"superman\"|\"love\"|\"rudy mancuso poo bear black white official music video\"|\"iphone x by pineapple\"|\"lelepons\"|\"hannahstocking\"|\"rudymancuso\"|\"inanna\"|\"anwar\"|\"sarkis\"|\"shots\"|\"shotsstudios\"|\"alesso\"|\"anitta\"|\"brazil\"|\"Getting My Driver's License | Lele Pons\"",
         "3191434",
         "146033",
         "5339",
         "8181",
         "https://i.ytimg.com/vi/5qpjK5DgCt4/default.jpg",
         "False",
         "False",
         "False",
         "WATCH MY PREVIOUS VIDEO ▶ \\n\\nSUBSCRIBE ► https://www.youtube.com/channel/UC5jkXpfnBhlDjqh0ir5FsIQ?sub_confirmation=1\\n\\nTHANKS FOR WATCHING! LIKE & SUBSCRIBE FOR MORE VIDEOS!\\n-----------------------------------------------------------\\nFIND ME ON: \\nInstagram | http://instagram.com/rudymancuso\\nTwitter | http://twitter.com/rudymancuso\\nFacebook | http://facebook.com/rudymancuso\\n\\nCAST: \\nRudy Mancuso | http://youtube.com/c/rudymancuso\\nLele Pons | http://youtube.com/c/lelepons\\nKing Bach | https://youtube.com/user/BachelorsPadTv\\n\\nVideo Effects: \\nCaleb Natale | https://instagram.com/calebnatale\\n\\nPA:\\nPaulina Gregory\\n\\n\\nShots Studios Channels:\\nAlesso | https://youtube.com/c/alesso\\nAnitta | http://youtube.com/c/anitta\\nAnwar Jibawi | http://youtube.com/c/anwar\\nAwkward Puppets | http://youtube.com/c/awkwardpuppets\\nHannah Stocking | http://youtube.com/c/hannahstocking\\nInanna Sarkis | http://youtube.com/c/inanna\\nLele Pons | http://youtube.com/c/lelepons\\nMaejor | http://youtube.com/c/maejor\\nMike Tyson | http://youtube.com/c/miketyson \\nRudy Mancuso | http://youtube.com/c/rudymancuso\\nShots Studios | http://youtube.com/c/shots\\n\\n#Rudy\\n#RudyMancuso"
        ],
        [
         "3",
         "puqaWrEC7tY",
         "17.14.11",
         "Nickelback Lyrics: Real or Fake?",
         "Good Mythical Morning",
         "24",
         "2017-11-13T11:00:04.000Z",
         "rhett and link|\"gmm\"|\"good mythical morning\"|\"rhett and link good mythical morning\"|\"good mythical morning rhett and link\"|\"mythical morning\"|\"Season 12\"|\"nickelback lyrics\"|\"nickelback lyrics real or fake\"|\"nickelback\"|\"nickelback songs\"|\"nickelback song\"|\"rhett link nickelback\"|\"gmm nickelback\"|\"lyrics (website category)\"|\"nickelback (musical group)\"|\"rock\"|\"music\"|\"lyrics\"|\"chad kroeger\"|\"canada\"|\"music (industry)\"|\"mythical\"|\"gmm challenge\"|\"comedy\"|\"funny\"|\"challenge\"",
         "343168",
         "10172",
         "666",
         "2146",
         "https://i.ytimg.com/vi/puqaWrEC7tY/default.jpg",
         "False",
         "False",
         "False",
         "Today we find out if Link is a Nickelback amateur or a secret Nickelback devotee. GMM #1218\\nDon't miss an all new Ear Biscuits: https://goo.gl/xeZNQt\\nWatch Part 4: https://youtu.be/MhCdiiB8CQg | Watch Part 2: https://youtu.be/7qiOrNao9fg\\nWatch today's episode from the start: http://bit.ly/GMM1218\\n\\nPick up all of the official GMM merch only at https://mythical.store\\n\\nFollow Rhett & Link: \\nInstagram: https://instagram.com/rhettandlink\\nFacebook: https://facebook.com/rhettandlink\\nTwitter: https://twitter.com/rhettandlink\\nTumblr: https://rhettandlink.tumblr.com\\nSnapchat: @realrhettlink\\nWebsite: https://mythical.co/\\n\\nCheck Out Our Other Mythical Channels:\\nGood Mythical MORE: https://youtube.com/goodmythicalmore\\nRhett & Link: https://youtube.com/rhettandlink\\nThis Is Mythical: https://youtube.com/thisismythical\\nEar Biscuits: https://applepodcasts.com/earbiscuits\\n\\nWant to send us something? https://mythical.co/contact\\nHave you made a Wheel of Mythicality intro video? Submit it here: https://bit.ly/GMMWheelIntro\\n\\nIntro Animation by Digital Twigs: https://www.digitaltwigs.com\\nIntro & Outro Music by Jeff Zeigler & Sarah Schimeneck https://www.jeffzeigler.com\\nWheel of Mythicality theme: https://www.royaltyfreemusiclibrary.com/\\nAll Supplemental Music fromOpus 1 Music: https://opus1.sourceaudio.com/\\nWe use ‘The Mouse’ by Blue Microphones https://www.bluemic.com/mouse/"
        ],
        [
         "4",
         "d380meD0W0M",
         "17.14.11",
         "I Dare You: GOING BALD!?",
         "nigahiga",
         "24",
         "2017-11-12T18:01:41.000Z",
         "ryan|\"higa\"|\"higatv\"|\"nigahiga\"|\"i dare you\"|\"idy\"|\"rhpc\"|\"dares\"|\"no truth\"|\"comments\"|\"comedy\"|\"funny\"|\"stupid\"|\"fail\"",
         "2095731",
         "132235",
         "1989",
         "17518",
         "https://i.ytimg.com/vi/d380meD0W0M/default.jpg",
         "False",
         "False",
         "False",
         "I know it's been a while since we did this show, but we're back with what might be the best episode yet!\\nLeave your dares in the comment section! \\n\\nOrder my book how to write good \\nhttp://higatv.com/ryan-higas-how-to-write-good-pre-order-links/\\n\\nJust Launched New Official Store\\nhttps://www.gianthugs.com/collections/ryan\\n\\nHigaTV Channel\\nhttp://www.youtube.com/higatv\\n\\nTwitter\\nhttp://www.twitter.com/therealryanhiga\\n\\nFacebook\\nhttp://www.facebook.com/higatv\\n\\nWebsite\\nhttp://www.higatv.com\\n\\nInstagram\\nhttp://www.instagram.com/notryanhiga\\n\\nSend us mail or whatever you want here!\\nPO Box 232355\\nLas Vegas, NV 89105"
        ]
       ],
       "shape": {
        "columns": 16,
        "rows": 5
       }
      },
      "text/html": [
       "<div>\n",
       "<style scoped>\n",
       "    .dataframe tbody tr th:only-of-type {\n",
       "        vertical-align: middle;\n",
       "    }\n",
       "\n",
       "    .dataframe tbody tr th {\n",
       "        vertical-align: top;\n",
       "    }\n",
       "\n",
       "    .dataframe thead th {\n",
       "        text-align: right;\n",
       "    }\n",
       "</style>\n",
       "<table border=\"1\" class=\"dataframe\">\n",
       "  <thead>\n",
       "    <tr style=\"text-align: right;\">\n",
       "      <th></th>\n",
       "      <th>video_id</th>\n",
       "      <th>trending_date</th>\n",
       "      <th>title</th>\n",
       "      <th>channel_title</th>\n",
       "      <th>category_id</th>\n",
       "      <th>publish_time</th>\n",
       "      <th>tags</th>\n",
       "      <th>views</th>\n",
       "      <th>likes</th>\n",
       "      <th>dislikes</th>\n",
       "      <th>comment_count</th>\n",
       "      <th>thumbnail_link</th>\n",
       "      <th>comments_disabled</th>\n",
       "      <th>ratings_disabled</th>\n",
       "      <th>video_error_or_removed</th>\n",
       "      <th>description</th>\n",
       "    </tr>\n",
       "  </thead>\n",
       "  <tbody>\n",
       "    <tr>\n",
       "      <th>0</th>\n",
       "      <td>2kyS6SvSYSE</td>\n",
       "      <td>17.14.11</td>\n",
       "      <td>WE WANT TO TALK ABOUT OUR MARRIAGE</td>\n",
       "      <td>CaseyNeistat</td>\n",
       "      <td>22</td>\n",
       "      <td>2017-11-13T17:13:01.000Z</td>\n",
       "      <td>SHANtell martin</td>\n",
       "      <td>748374</td>\n",
       "      <td>57527</td>\n",
       "      <td>2966</td>\n",
       "      <td>15954</td>\n",
       "      <td>https://i.ytimg.com/vi/2kyS6SvSYSE/default.jpg</td>\n",
       "      <td>False</td>\n",
       "      <td>False</td>\n",
       "      <td>False</td>\n",
       "      <td>SHANTELL'S CHANNEL - https://www.youtube.com/s...</td>\n",
       "    </tr>\n",
       "    <tr>\n",
       "      <th>1</th>\n",
       "      <td>1ZAPwfrtAFY</td>\n",
       "      <td>17.14.11</td>\n",
       "      <td>The Trump Presidency: Last Week Tonight with J...</td>\n",
       "      <td>LastWeekTonight</td>\n",
       "      <td>24</td>\n",
       "      <td>2017-11-13T07:30:00.000Z</td>\n",
       "      <td>last week tonight trump presidency|\"last week ...</td>\n",
       "      <td>2418783</td>\n",
       "      <td>97185</td>\n",
       "      <td>6146</td>\n",
       "      <td>12703</td>\n",
       "      <td>https://i.ytimg.com/vi/1ZAPwfrtAFY/default.jpg</td>\n",
       "      <td>False</td>\n",
       "      <td>False</td>\n",
       "      <td>False</td>\n",
       "      <td>One year after the presidential election, John...</td>\n",
       "    </tr>\n",
       "    <tr>\n",
       "      <th>2</th>\n",
       "      <td>5qpjK5DgCt4</td>\n",
       "      <td>17.14.11</td>\n",
       "      <td>Racist Superman | Rudy Mancuso, King Bach &amp; Le...</td>\n",
       "      <td>Rudy Mancuso</td>\n",
       "      <td>23</td>\n",
       "      <td>2017-11-12T19:05:24.000Z</td>\n",
       "      <td>racist superman|\"rudy\"|\"mancuso\"|\"king\"|\"bach\"...</td>\n",
       "      <td>3191434</td>\n",
       "      <td>146033</td>\n",
       "      <td>5339</td>\n",
       "      <td>8181</td>\n",
       "      <td>https://i.ytimg.com/vi/5qpjK5DgCt4/default.jpg</td>\n",
       "      <td>False</td>\n",
       "      <td>False</td>\n",
       "      <td>False</td>\n",
       "      <td>WATCH MY PREVIOUS VIDEO ▶ \\n\\nSUBSCRIBE ► http...</td>\n",
       "    </tr>\n",
       "    <tr>\n",
       "      <th>3</th>\n",
       "      <td>puqaWrEC7tY</td>\n",
       "      <td>17.14.11</td>\n",
       "      <td>Nickelback Lyrics: Real or Fake?</td>\n",
       "      <td>Good Mythical Morning</td>\n",
       "      <td>24</td>\n",
       "      <td>2017-11-13T11:00:04.000Z</td>\n",
       "      <td>rhett and link|\"gmm\"|\"good mythical morning\"|\"...</td>\n",
       "      <td>343168</td>\n",
       "      <td>10172</td>\n",
       "      <td>666</td>\n",
       "      <td>2146</td>\n",
       "      <td>https://i.ytimg.com/vi/puqaWrEC7tY/default.jpg</td>\n",
       "      <td>False</td>\n",
       "      <td>False</td>\n",
       "      <td>False</td>\n",
       "      <td>Today we find out if Link is a Nickelback amat...</td>\n",
       "    </tr>\n",
       "    <tr>\n",
       "      <th>4</th>\n",
       "      <td>d380meD0W0M</td>\n",
       "      <td>17.14.11</td>\n",
       "      <td>I Dare You: GOING BALD!?</td>\n",
       "      <td>nigahiga</td>\n",
       "      <td>24</td>\n",
       "      <td>2017-11-12T18:01:41.000Z</td>\n",
       "      <td>ryan|\"higa\"|\"higatv\"|\"nigahiga\"|\"i dare you\"|\"...</td>\n",
       "      <td>2095731</td>\n",
       "      <td>132235</td>\n",
       "      <td>1989</td>\n",
       "      <td>17518</td>\n",
       "      <td>https://i.ytimg.com/vi/d380meD0W0M/default.jpg</td>\n",
       "      <td>False</td>\n",
       "      <td>False</td>\n",
       "      <td>False</td>\n",
       "      <td>I know it's been a while since we did this sho...</td>\n",
       "    </tr>\n",
       "  </tbody>\n",
       "</table>\n",
       "</div>"
      ],
      "text/plain": [
       "      video_id trending_date  \\\n",
       "0  2kyS6SvSYSE      17.14.11   \n",
       "1  1ZAPwfrtAFY      17.14.11   \n",
       "2  5qpjK5DgCt4      17.14.11   \n",
       "3  puqaWrEC7tY      17.14.11   \n",
       "4  d380meD0W0M      17.14.11   \n",
       "\n",
       "                                               title          channel_title  \\\n",
       "0                 WE WANT TO TALK ABOUT OUR MARRIAGE           CaseyNeistat   \n",
       "1  The Trump Presidency: Last Week Tonight with J...        LastWeekTonight   \n",
       "2  Racist Superman | Rudy Mancuso, King Bach & Le...           Rudy Mancuso   \n",
       "3                   Nickelback Lyrics: Real or Fake?  Good Mythical Morning   \n",
       "4                           I Dare You: GOING BALD!?               nigahiga   \n",
       "\n",
       "   category_id              publish_time  \\\n",
       "0           22  2017-11-13T17:13:01.000Z   \n",
       "1           24  2017-11-13T07:30:00.000Z   \n",
       "2           23  2017-11-12T19:05:24.000Z   \n",
       "3           24  2017-11-13T11:00:04.000Z   \n",
       "4           24  2017-11-12T18:01:41.000Z   \n",
       "\n",
       "                                                tags    views   likes  \\\n",
       "0                                    SHANtell martin   748374   57527   \n",
       "1  last week tonight trump presidency|\"last week ...  2418783   97185   \n",
       "2  racist superman|\"rudy\"|\"mancuso\"|\"king\"|\"bach\"...  3191434  146033   \n",
       "3  rhett and link|\"gmm\"|\"good mythical morning\"|\"...   343168   10172   \n",
       "4  ryan|\"higa\"|\"higatv\"|\"nigahiga\"|\"i dare you\"|\"...  2095731  132235   \n",
       "\n",
       "   dislikes  comment_count                                  thumbnail_link  \\\n",
       "0      2966          15954  https://i.ytimg.com/vi/2kyS6SvSYSE/default.jpg   \n",
       "1      6146          12703  https://i.ytimg.com/vi/1ZAPwfrtAFY/default.jpg   \n",
       "2      5339           8181  https://i.ytimg.com/vi/5qpjK5DgCt4/default.jpg   \n",
       "3       666           2146  https://i.ytimg.com/vi/puqaWrEC7tY/default.jpg   \n",
       "4      1989          17518  https://i.ytimg.com/vi/d380meD0W0M/default.jpg   \n",
       "\n",
       "   comments_disabled  ratings_disabled  video_error_or_removed  \\\n",
       "0              False             False                   False   \n",
       "1              False             False                   False   \n",
       "2              False             False                   False   \n",
       "3              False             False                   False   \n",
       "4              False             False                   False   \n",
       "\n",
       "                                         description  \n",
       "0  SHANTELL'S CHANNEL - https://www.youtube.com/s...  \n",
       "1  One year after the presidential election, John...  \n",
       "2  WATCH MY PREVIOUS VIDEO ▶ \\n\\nSUBSCRIBE ► http...  \n",
       "3  Today we find out if Link is a Nickelback amat...  \n",
       "4  I know it's been a while since we did this sho...  "
      ]
     },
     "metadata": {},
     "output_type": "display_data"
    },
    {
     "name": "stdout",
     "output_type": "stream",
     "text": [
      "<class 'pandas.core.frame.DataFrame'>\n",
      "RangeIndex: 40949 entries, 0 to 40948\n",
      "Data columns (total 16 columns):\n",
      " #   Column                  Non-Null Count  Dtype \n",
      "---  ------                  --------------  ----- \n",
      " 0   video_id                40949 non-null  object\n",
      " 1   trending_date           40949 non-null  object\n",
      " 2   title                   40949 non-null  object\n",
      " 3   channel_title           40949 non-null  object\n",
      " 4   category_id             40949 non-null  int64 \n",
      " 5   publish_time            40949 non-null  object\n",
      " 6   tags                    40949 non-null  object\n",
      " 7   views                   40949 non-null  int64 \n",
      " 8   likes                   40949 non-null  int64 \n",
      " 9   dislikes                40949 non-null  int64 \n",
      " 10  comment_count           40949 non-null  int64 \n",
      " 11  thumbnail_link          40949 non-null  object\n",
      " 12  comments_disabled       40949 non-null  bool  \n",
      " 13  ratings_disabled        40949 non-null  bool  \n",
      " 14  video_error_or_removed  40949 non-null  bool  \n",
      " 15  description             40379 non-null  object\n",
      "dtypes: bool(3), int64(5), object(8)\n",
      "memory usage: 4.2+ MB\n",
      "\n",
      "Informations générales: None\n",
      "<class 'pandas.core.frame.DataFrame'>\n",
      "RangeIndex: 40949 entries, 0 to 40948\n",
      "Data columns (total 16 columns):\n",
      " #   Column                  Non-Null Count  Dtype \n",
      "---  ------                  --------------  ----- \n",
      " 0   video_id                40949 non-null  object\n",
      " 1   trending_date           40949 non-null  object\n",
      " 2   title                   40949 non-null  object\n",
      " 3   channel_title           40949 non-null  object\n",
      " 4   category_id             40949 non-null  int64 \n",
      " 5   publish_time            40949 non-null  object\n",
      " 6   tags                    40949 non-null  object\n",
      " 7   views                   40949 non-null  int64 \n",
      " 8   likes                   40949 non-null  int64 \n",
      " 9   dislikes                40949 non-null  int64 \n",
      " 10  comment_count           40949 non-null  int64 \n",
      " 11  thumbnail_link          40949 non-null  object\n",
      " 12  comments_disabled       40949 non-null  bool  \n",
      " 13  ratings_disabled        40949 non-null  bool  \n",
      " 14  video_error_or_removed  40949 non-null  bool  \n",
      " 15  description             40379 non-null  object\n",
      "dtypes: bool(3), int64(5), object(8)\n",
      "memory usage: 4.2+ MB\n"
     ]
    },
    {
     "data": {
      "text/plain": [
       "None"
      ]
     },
     "metadata": {},
     "output_type": "display_data"
    },
    {
     "name": "stdout",
     "output_type": "stream",
     "text": [
      "Shape: (40949, 16)\n"
     ]
    },
    {
     "data": {
      "application/vnd.microsoft.datawrangler.viewer.v0+json": {
       "columns": [
        {
         "name": "index",
         "rawType": "object",
         "type": "string"
        },
        {
         "name": "count",
         "rawType": "object",
         "type": "unknown"
        },
        {
         "name": "unique",
         "rawType": "object",
         "type": "unknown"
        },
        {
         "name": "top",
         "rawType": "object",
         "type": "unknown"
        },
        {
         "name": "freq",
         "rawType": "object",
         "type": "unknown"
        },
        {
         "name": "mean",
         "rawType": "object",
         "type": "unknown"
        },
        {
         "name": "std",
         "rawType": "object",
         "type": "unknown"
        },
        {
         "name": "min",
         "rawType": "object",
         "type": "unknown"
        },
        {
         "name": "25%",
         "rawType": "object",
         "type": "unknown"
        },
        {
         "name": "50%",
         "rawType": "object",
         "type": "unknown"
        },
        {
         "name": "75%",
         "rawType": "object",
         "type": "unknown"
        },
        {
         "name": "max",
         "rawType": "object",
         "type": "unknown"
        }
       ],
       "ref": "720d90e9-d79c-4e51-b200-6bbb01d2cc16",
       "rows": [
        [
         "video_id",
         "40949",
         "6351",
         "j4KvrAUjn6c",
         "30",
         null,
         null,
         null,
         null,
         null,
         null,
         null
        ],
        [
         "trending_date",
         "40949",
         "205",
         "17.14.11",
         "200",
         null,
         null,
         null,
         null,
         null,
         null,
         null
        ],
        [
         "title",
         "40949",
         "6455",
         "WE MADE OUR MOM CRY...HER DREAM CAME TRUE!",
         "30",
         null,
         null,
         null,
         null,
         null,
         null,
         null
        ],
        [
         "channel_title",
         "40949",
         "2207",
         "ESPN",
         "203",
         null,
         null,
         null,
         null,
         null,
         null,
         null
        ],
        [
         "category_id",
         "40949.0",
         null,
         null,
         null,
         "19.97242911914821",
         "7.56832682828046",
         "1.0",
         "17.0",
         "24.0",
         "25.0",
         "43.0"
        ],
        [
         "publish_time",
         "40949",
         "6269",
         "2018-05-18T14:00:04.000Z",
         "50",
         null,
         null,
         null,
         null,
         null,
         null,
         null
        ],
        [
         "tags",
         "40949",
         "6055",
         "[none]",
         "1535",
         null,
         null,
         null,
         null,
         null,
         null,
         null
        ],
        [
         "views",
         "40949.0",
         null,
         null,
         null,
         "2360784.6382573447",
         "7394113.75970394",
         "549.0",
         "242329.0",
         "681861.0",
         "1823157.0",
         "225211923.0"
        ],
        [
         "likes",
         "40949.0",
         null,
         null,
         null,
         "74266.7024347359",
         "228885.33820949917",
         "0.0",
         "5424.0",
         "18091.0",
         "55417.0",
         "5613827.0"
        ],
        [
         "dislikes",
         "40949.0",
         null,
         null,
         null,
         "3711.400888910596",
         "29029.705945001795",
         "0.0",
         "202.0",
         "631.0",
         "1938.0",
         "1674420.0"
        ],
        [
         "comment_count",
         "40949.0",
         null,
         null,
         null,
         "8446.803682629612",
         "37430.48699437981",
         "0.0",
         "614.0",
         "1856.0",
         "5755.0",
         "1361580.0"
        ],
        [
         "thumbnail_link",
         "40949",
         "6352",
         "https://i.ytimg.com/vi/j4KvrAUjn6c/default.jpg",
         "30",
         null,
         null,
         null,
         null,
         null,
         null,
         null
        ],
        [
         "comments_disabled",
         "40949",
         "2",
         "False",
         "40316",
         null,
         null,
         null,
         null,
         null,
         null,
         null
        ],
        [
         "ratings_disabled",
         "40949",
         "2",
         "False",
         "40780",
         null,
         null,
         null,
         null,
         null,
         null,
         null
        ],
        [
         "video_error_or_removed",
         "40949",
         "2",
         "False",
         "40926",
         null,
         null,
         null,
         null,
         null,
         null,
         null
        ],
        [
         "description",
         "40379",
         "6901",
         "► Listen LIVE: http://power1051fm.com/\\n► Facebook: https://www.facebook.com/Power1051NY/\\n► Twitter: https://twitter.com/power1051/\\n► Instagram: https://www.instagram.com/power1051/",
         "58",
         null,
         null,
         null,
         null,
         null,
         null,
         null
        ]
       ],
       "shape": {
        "columns": 11,
        "rows": 16
       }
      },
      "text/html": [
       "<div>\n",
       "<style scoped>\n",
       "    .dataframe tbody tr th:only-of-type {\n",
       "        vertical-align: middle;\n",
       "    }\n",
       "\n",
       "    .dataframe tbody tr th {\n",
       "        vertical-align: top;\n",
       "    }\n",
       "\n",
       "    .dataframe thead th {\n",
       "        text-align: right;\n",
       "    }\n",
       "</style>\n",
       "<table border=\"1\" class=\"dataframe\">\n",
       "  <thead>\n",
       "    <tr style=\"text-align: right;\">\n",
       "      <th></th>\n",
       "      <th>count</th>\n",
       "      <th>unique</th>\n",
       "      <th>top</th>\n",
       "      <th>freq</th>\n",
       "      <th>mean</th>\n",
       "      <th>std</th>\n",
       "      <th>min</th>\n",
       "      <th>25%</th>\n",
       "      <th>50%</th>\n",
       "      <th>75%</th>\n",
       "      <th>max</th>\n",
       "    </tr>\n",
       "  </thead>\n",
       "  <tbody>\n",
       "    <tr>\n",
       "      <th>video_id</th>\n",
       "      <td>40949</td>\n",
       "      <td>6351</td>\n",
       "      <td>j4KvrAUjn6c</td>\n",
       "      <td>30</td>\n",
       "      <td>NaN</td>\n",
       "      <td>NaN</td>\n",
       "      <td>NaN</td>\n",
       "      <td>NaN</td>\n",
       "      <td>NaN</td>\n",
       "      <td>NaN</td>\n",
       "      <td>NaN</td>\n",
       "    </tr>\n",
       "    <tr>\n",
       "      <th>trending_date</th>\n",
       "      <td>40949</td>\n",
       "      <td>205</td>\n",
       "      <td>17.14.11</td>\n",
       "      <td>200</td>\n",
       "      <td>NaN</td>\n",
       "      <td>NaN</td>\n",
       "      <td>NaN</td>\n",
       "      <td>NaN</td>\n",
       "      <td>NaN</td>\n",
       "      <td>NaN</td>\n",
       "      <td>NaN</td>\n",
       "    </tr>\n",
       "    <tr>\n",
       "      <th>title</th>\n",
       "      <td>40949</td>\n",
       "      <td>6455</td>\n",
       "      <td>WE MADE OUR MOM CRY...HER DREAM CAME TRUE!</td>\n",
       "      <td>30</td>\n",
       "      <td>NaN</td>\n",
       "      <td>NaN</td>\n",
       "      <td>NaN</td>\n",
       "      <td>NaN</td>\n",
       "      <td>NaN</td>\n",
       "      <td>NaN</td>\n",
       "      <td>NaN</td>\n",
       "    </tr>\n",
       "    <tr>\n",
       "      <th>channel_title</th>\n",
       "      <td>40949</td>\n",
       "      <td>2207</td>\n",
       "      <td>ESPN</td>\n",
       "      <td>203</td>\n",
       "      <td>NaN</td>\n",
       "      <td>NaN</td>\n",
       "      <td>NaN</td>\n",
       "      <td>NaN</td>\n",
       "      <td>NaN</td>\n",
       "      <td>NaN</td>\n",
       "      <td>NaN</td>\n",
       "    </tr>\n",
       "    <tr>\n",
       "      <th>category_id</th>\n",
       "      <td>40949.0</td>\n",
       "      <td>NaN</td>\n",
       "      <td>NaN</td>\n",
       "      <td>NaN</td>\n",
       "      <td>19.972429</td>\n",
       "      <td>7.568327</td>\n",
       "      <td>1.0</td>\n",
       "      <td>17.0</td>\n",
       "      <td>24.0</td>\n",
       "      <td>25.0</td>\n",
       "      <td>43.0</td>\n",
       "    </tr>\n",
       "    <tr>\n",
       "      <th>publish_time</th>\n",
       "      <td>40949</td>\n",
       "      <td>6269</td>\n",
       "      <td>2018-05-18T14:00:04.000Z</td>\n",
       "      <td>50</td>\n",
       "      <td>NaN</td>\n",
       "      <td>NaN</td>\n",
       "      <td>NaN</td>\n",
       "      <td>NaN</td>\n",
       "      <td>NaN</td>\n",
       "      <td>NaN</td>\n",
       "      <td>NaN</td>\n",
       "    </tr>\n",
       "    <tr>\n",
       "      <th>tags</th>\n",
       "      <td>40949</td>\n",
       "      <td>6055</td>\n",
       "      <td>[none]</td>\n",
       "      <td>1535</td>\n",
       "      <td>NaN</td>\n",
       "      <td>NaN</td>\n",
       "      <td>NaN</td>\n",
       "      <td>NaN</td>\n",
       "      <td>NaN</td>\n",
       "      <td>NaN</td>\n",
       "      <td>NaN</td>\n",
       "    </tr>\n",
       "    <tr>\n",
       "      <th>views</th>\n",
       "      <td>40949.0</td>\n",
       "      <td>NaN</td>\n",
       "      <td>NaN</td>\n",
       "      <td>NaN</td>\n",
       "      <td>2360784.638257</td>\n",
       "      <td>7394113.759704</td>\n",
       "      <td>549.0</td>\n",
       "      <td>242329.0</td>\n",
       "      <td>681861.0</td>\n",
       "      <td>1823157.0</td>\n",
       "      <td>225211923.0</td>\n",
       "    </tr>\n",
       "    <tr>\n",
       "      <th>likes</th>\n",
       "      <td>40949.0</td>\n",
       "      <td>NaN</td>\n",
       "      <td>NaN</td>\n",
       "      <td>NaN</td>\n",
       "      <td>74266.702435</td>\n",
       "      <td>228885.338209</td>\n",
       "      <td>0.0</td>\n",
       "      <td>5424.0</td>\n",
       "      <td>18091.0</td>\n",
       "      <td>55417.0</td>\n",
       "      <td>5613827.0</td>\n",
       "    </tr>\n",
       "    <tr>\n",
       "      <th>dislikes</th>\n",
       "      <td>40949.0</td>\n",
       "      <td>NaN</td>\n",
       "      <td>NaN</td>\n",
       "      <td>NaN</td>\n",
       "      <td>3711.400889</td>\n",
       "      <td>29029.705945</td>\n",
       "      <td>0.0</td>\n",
       "      <td>202.0</td>\n",
       "      <td>631.0</td>\n",
       "      <td>1938.0</td>\n",
       "      <td>1674420.0</td>\n",
       "    </tr>\n",
       "    <tr>\n",
       "      <th>comment_count</th>\n",
       "      <td>40949.0</td>\n",
       "      <td>NaN</td>\n",
       "      <td>NaN</td>\n",
       "      <td>NaN</td>\n",
       "      <td>8446.803683</td>\n",
       "      <td>37430.486994</td>\n",
       "      <td>0.0</td>\n",
       "      <td>614.0</td>\n",
       "      <td>1856.0</td>\n",
       "      <td>5755.0</td>\n",
       "      <td>1361580.0</td>\n",
       "    </tr>\n",
       "    <tr>\n",
       "      <th>thumbnail_link</th>\n",
       "      <td>40949</td>\n",
       "      <td>6352</td>\n",
       "      <td>https://i.ytimg.com/vi/j4KvrAUjn6c/default.jpg</td>\n",
       "      <td>30</td>\n",
       "      <td>NaN</td>\n",
       "      <td>NaN</td>\n",
       "      <td>NaN</td>\n",
       "      <td>NaN</td>\n",
       "      <td>NaN</td>\n",
       "      <td>NaN</td>\n",
       "      <td>NaN</td>\n",
       "    </tr>\n",
       "    <tr>\n",
       "      <th>comments_disabled</th>\n",
       "      <td>40949</td>\n",
       "      <td>2</td>\n",
       "      <td>False</td>\n",
       "      <td>40316</td>\n",
       "      <td>NaN</td>\n",
       "      <td>NaN</td>\n",
       "      <td>NaN</td>\n",
       "      <td>NaN</td>\n",
       "      <td>NaN</td>\n",
       "      <td>NaN</td>\n",
       "      <td>NaN</td>\n",
       "    </tr>\n",
       "    <tr>\n",
       "      <th>ratings_disabled</th>\n",
       "      <td>40949</td>\n",
       "      <td>2</td>\n",
       "      <td>False</td>\n",
       "      <td>40780</td>\n",
       "      <td>NaN</td>\n",
       "      <td>NaN</td>\n",
       "      <td>NaN</td>\n",
       "      <td>NaN</td>\n",
       "      <td>NaN</td>\n",
       "      <td>NaN</td>\n",
       "      <td>NaN</td>\n",
       "    </tr>\n",
       "    <tr>\n",
       "      <th>video_error_or_removed</th>\n",
       "      <td>40949</td>\n",
       "      <td>2</td>\n",
       "      <td>False</td>\n",
       "      <td>40926</td>\n",
       "      <td>NaN</td>\n",
       "      <td>NaN</td>\n",
       "      <td>NaN</td>\n",
       "      <td>NaN</td>\n",
       "      <td>NaN</td>\n",
       "      <td>NaN</td>\n",
       "      <td>NaN</td>\n",
       "    </tr>\n",
       "    <tr>\n",
       "      <th>description</th>\n",
       "      <td>40379</td>\n",
       "      <td>6901</td>\n",
       "      <td>► Listen LIVE: http://power1051fm.com/\\n► Face...</td>\n",
       "      <td>58</td>\n",
       "      <td>NaN</td>\n",
       "      <td>NaN</td>\n",
       "      <td>NaN</td>\n",
       "      <td>NaN</td>\n",
       "      <td>NaN</td>\n",
       "      <td>NaN</td>\n",
       "      <td>NaN</td>\n",
       "    </tr>\n",
       "  </tbody>\n",
       "</table>\n",
       "</div>"
      ],
      "text/plain": [
       "                          count unique  \\\n",
       "video_id                  40949   6351   \n",
       "trending_date             40949    205   \n",
       "title                     40949   6455   \n",
       "channel_title             40949   2207   \n",
       "category_id             40949.0    NaN   \n",
       "publish_time              40949   6269   \n",
       "tags                      40949   6055   \n",
       "views                   40949.0    NaN   \n",
       "likes                   40949.0    NaN   \n",
       "dislikes                40949.0    NaN   \n",
       "comment_count           40949.0    NaN   \n",
       "thumbnail_link            40949   6352   \n",
       "comments_disabled         40949      2   \n",
       "ratings_disabled          40949      2   \n",
       "video_error_or_removed    40949      2   \n",
       "description               40379   6901   \n",
       "\n",
       "                                                                      top  \\\n",
       "video_id                                                      j4KvrAUjn6c   \n",
       "trending_date                                                    17.14.11   \n",
       "title                          WE MADE OUR MOM CRY...HER DREAM CAME TRUE!   \n",
       "channel_title                                                        ESPN   \n",
       "category_id                                                           NaN   \n",
       "publish_time                                     2018-05-18T14:00:04.000Z   \n",
       "tags                                                               [none]   \n",
       "views                                                                 NaN   \n",
       "likes                                                                 NaN   \n",
       "dislikes                                                              NaN   \n",
       "comment_count                                                         NaN   \n",
       "thumbnail_link             https://i.ytimg.com/vi/j4KvrAUjn6c/default.jpg   \n",
       "comments_disabled                                                   False   \n",
       "ratings_disabled                                                    False   \n",
       "video_error_or_removed                                              False   \n",
       "description             ► Listen LIVE: http://power1051fm.com/\\n► Face...   \n",
       "\n",
       "                         freq            mean             std    min  \\\n",
       "video_id                   30             NaN             NaN    NaN   \n",
       "trending_date             200             NaN             NaN    NaN   \n",
       "title                      30             NaN             NaN    NaN   \n",
       "channel_title             203             NaN             NaN    NaN   \n",
       "category_id               NaN       19.972429        7.568327    1.0   \n",
       "publish_time               50             NaN             NaN    NaN   \n",
       "tags                     1535             NaN             NaN    NaN   \n",
       "views                     NaN  2360784.638257  7394113.759704  549.0   \n",
       "likes                     NaN    74266.702435   228885.338209    0.0   \n",
       "dislikes                  NaN     3711.400889    29029.705945    0.0   \n",
       "comment_count             NaN     8446.803683    37430.486994    0.0   \n",
       "thumbnail_link             30             NaN             NaN    NaN   \n",
       "comments_disabled       40316             NaN             NaN    NaN   \n",
       "ratings_disabled        40780             NaN             NaN    NaN   \n",
       "video_error_or_removed  40926             NaN             NaN    NaN   \n",
       "description                58             NaN             NaN    NaN   \n",
       "\n",
       "                             25%       50%        75%          max  \n",
       "video_id                     NaN       NaN        NaN          NaN  \n",
       "trending_date                NaN       NaN        NaN          NaN  \n",
       "title                        NaN       NaN        NaN          NaN  \n",
       "channel_title                NaN       NaN        NaN          NaN  \n",
       "category_id                 17.0      24.0       25.0         43.0  \n",
       "publish_time                 NaN       NaN        NaN          NaN  \n",
       "tags                         NaN       NaN        NaN          NaN  \n",
       "views                   242329.0  681861.0  1823157.0  225211923.0  \n",
       "likes                     5424.0   18091.0    55417.0    5613827.0  \n",
       "dislikes                   202.0     631.0     1938.0    1674420.0  \n",
       "comment_count              614.0    1856.0     5755.0    1361580.0  \n",
       "thumbnail_link               NaN       NaN        NaN          NaN  \n",
       "comments_disabled            NaN       NaN        NaN          NaN  \n",
       "ratings_disabled             NaN       NaN        NaN          NaN  \n",
       "video_error_or_removed       NaN       NaN        NaN          NaN  \n",
       "description                  NaN       NaN        NaN          NaN  "
      ]
     },
     "metadata": {},
     "output_type": "display_data"
    }
   ],
   "source": [
    "# VOTRE CODE ICI - Section 2.1\n",
    "\n",
    "df = pd.read_csv('~/youtube-popularity-ml/archive/USvideos.csv', encoding='utf-8')\n",
    "print(\"Premières lignes: \", df.head())\n",
    "display(df.head())\n",
    "print(\"\\nInformations générales:\", df.info())\n",
    "display(df.info())\n",
    "print(\"Shape:\", df.shape)\n",
    "display(df.describe(include='all').transpose())"
   ]
  },
  {
   "cell_type": "markdown",
   "id": "ba03a263",
   "metadata": {},
   "source": [
    "**Consigne 2.2 — Analyse des valeurs manquantes**  \n",
    "- Comptez les valeurs manquantes par colonne  \n",
    "- Identifiez les colonnes avec le plus de valeurs manquantes  \n",
    "- Affichez le pourcentage de valeurs manquantes"
   ]
  },
  {
   "cell_type": "code",
   "execution_count": 4,
   "id": "44aa87cf",
   "metadata": {},
   "outputs": [
    {
     "name": "stdout",
     "output_type": "stream",
     "text": [
      "Valeurs manquantes (nombre):\n"
     ]
    },
    {
     "data": {
      "application/vnd.microsoft.datawrangler.viewer.v0+json": {
       "columns": [
        {
         "name": "index",
         "rawType": "object",
         "type": "string"
        },
        {
         "name": "0",
         "rawType": "int64",
         "type": "integer"
        }
       ],
       "ref": "0e81b10a-15f4-461e-92de-1f40336df1e8",
       "rows": [
        [
         "video_id",
         "0"
        ],
        [
         "trending_date",
         "0"
        ],
        [
         "title",
         "0"
        ],
        [
         "channel_title",
         "0"
        ],
        [
         "category_id",
         "0"
        ],
        [
         "publish_time",
         "0"
        ],
        [
         "tags",
         "0"
        ],
        [
         "views",
         "0"
        ],
        [
         "likes",
         "0"
        ],
        [
         "dislikes",
         "0"
        ],
        [
         "comment_count",
         "0"
        ],
        [
         "thumbnail_link",
         "0"
        ],
        [
         "comments_disabled",
         "0"
        ],
        [
         "ratings_disabled",
         "0"
        ],
        [
         "video_error_or_removed",
         "0"
        ],
        [
         "description",
         "570"
        ]
       ],
       "shape": {
        "columns": 1,
        "rows": 16
       }
      },
      "text/plain": [
       "video_id                    0\n",
       "trending_date               0\n",
       "title                       0\n",
       "channel_title               0\n",
       "category_id                 0\n",
       "publish_time                0\n",
       "tags                        0\n",
       "views                       0\n",
       "likes                       0\n",
       "dislikes                    0\n",
       "comment_count               0\n",
       "thumbnail_link              0\n",
       "comments_disabled           0\n",
       "ratings_disabled            0\n",
       "video_error_or_removed      0\n",
       "description               570\n",
       "dtype: int64"
      ]
     },
     "metadata": {},
     "output_type": "display_data"
    },
    {
     "name": "stdout",
     "output_type": "stream",
     "text": [
      "\n",
      "Valeurs manquantes (pourcentage):\n"
     ]
    },
    {
     "data": {
      "application/vnd.microsoft.datawrangler.viewer.v0+json": {
       "columns": [
        {
         "name": "index",
         "rawType": "object",
         "type": "string"
        },
        {
         "name": "0",
         "rawType": "float64",
         "type": "float"
        }
       ],
       "ref": "606e60f3-044c-4e6e-9276-78472a8176e5",
       "rows": [
        [
         "video_id",
         "0.0"
        ],
        [
         "trending_date",
         "0.0"
        ],
        [
         "title",
         "0.0"
        ],
        [
         "channel_title",
         "0.0"
        ],
        [
         "category_id",
         "0.0"
        ],
        [
         "publish_time",
         "0.0"
        ],
        [
         "tags",
         "0.0"
        ],
        [
         "views",
         "0.0"
        ],
        [
         "likes",
         "0.0"
        ],
        [
         "dislikes",
         "0.0"
        ],
        [
         "comment_count",
         "0.0"
        ],
        [
         "thumbnail_link",
         "0.0"
        ],
        [
         "comments_disabled",
         "0.0"
        ],
        [
         "ratings_disabled",
         "0.0"
        ],
        [
         "video_error_or_removed",
         "0.0"
        ],
        [
         "description",
         "1.3919753840142617"
        ]
       ],
       "shape": {
        "columns": 1,
        "rows": 16
       }
      },
      "text/plain": [
       "video_id                  0.000000\n",
       "trending_date             0.000000\n",
       "title                     0.000000\n",
       "channel_title             0.000000\n",
       "category_id               0.000000\n",
       "publish_time              0.000000\n",
       "tags                      0.000000\n",
       "views                     0.000000\n",
       "likes                     0.000000\n",
       "dislikes                  0.000000\n",
       "comment_count             0.000000\n",
       "thumbnail_link            0.000000\n",
       "comments_disabled         0.000000\n",
       "ratings_disabled          0.000000\n",
       "video_error_or_removed    0.000000\n",
       "description               1.391975\n",
       "dtype: float64"
      ]
     },
     "metadata": {},
     "output_type": "display_data"
    }
   ],
   "source": [
    "# VOTRE CODE ICI - Section 2.2\n",
    "missing = df.isna().sum()\n",
    "pct_missing = (missing / len(df)) * 100\n",
    "print(\"Valeurs manquantes (nombre):\")\n",
    "display(missing)\n",
    "print(\"\\nValeurs manquantes (pourcentage):\")\n",
    "display(pct_missing)"
   ]
  },
  {
   "cell_type": "markdown",
   "id": "f43660bf",
   "metadata": {},
   "source": [
    "**Consigne 2.3 — Exploration des catégories**  \n",
    "- Chargez le fichier JSON des catégories (`US_category_id.json`)  \n",
    "- Fusionnez avec le DataFrame principal  \n",
    "- Affichez la distribution des catégories\n",
    "\n",
    "*Aide* : La structure JSON est du type:  \n",
    "`{\"items\": [{\"id\": \"1\", \"snippet\": {\"title\": \"Film & Animation\"}}, ...]}`"
   ]
  },
  {
   "cell_type": "code",
   "execution_count": 5,
   "id": "53717a80",
   "metadata": {},
   "outputs": [
    {
     "name": "stdout",
     "output_type": "stream",
     "text": [
      "Distribution des catégories:\n"
     ]
    },
    {
     "data": {
      "application/vnd.microsoft.datawrangler.viewer.v0+json": {
       "columns": [
        {
         "name": "category_title",
         "rawType": "object",
         "type": "string"
        },
        {
         "name": "count",
         "rawType": "int64",
         "type": "integer"
        }
       ],
       "ref": "3e126908-4199-4451-96f1-bc9992f59684",
       "rows": [
        [
         "Entertainment",
         "9964"
        ],
        [
         "Music",
         "6472"
        ],
        [
         "Howto & Style",
         "4146"
        ],
        [
         "Comedy",
         "3457"
        ],
        [
         "People & Blogs",
         "3210"
        ],
        [
         "News & Politics",
         "2487"
        ],
        [
         "Science & Technology",
         "2401"
        ],
        [
         "Film & Animation",
         "2345"
        ],
        [
         "Sports",
         "2174"
        ],
        [
         "Education",
         "1656"
        ],
        [
         "Pets & Animals",
         "920"
        ],
        [
         "Gaming",
         "817"
        ],
        [
         "Travel & Events",
         "402"
        ],
        [
         "Autos & Vehicles",
         "384"
        ],
        [
         "Nonprofits & Activism",
         "57"
        ],
        [
         "Shows",
         "57"
        ]
       ],
       "shape": {
        "columns": 1,
        "rows": 16
       }
      },
      "text/html": [
       "<div>\n",
       "<style scoped>\n",
       "    .dataframe tbody tr th:only-of-type {\n",
       "        vertical-align: middle;\n",
       "    }\n",
       "\n",
       "    .dataframe tbody tr th {\n",
       "        vertical-align: top;\n",
       "    }\n",
       "\n",
       "    .dataframe thead th {\n",
       "        text-align: right;\n",
       "    }\n",
       "</style>\n",
       "<table border=\"1\" class=\"dataframe\">\n",
       "  <thead>\n",
       "    <tr style=\"text-align: right;\">\n",
       "      <th></th>\n",
       "      <th>count</th>\n",
       "    </tr>\n",
       "    <tr>\n",
       "      <th>category_title</th>\n",
       "      <th></th>\n",
       "    </tr>\n",
       "  </thead>\n",
       "  <tbody>\n",
       "    <tr>\n",
       "      <th>Entertainment</th>\n",
       "      <td>9964</td>\n",
       "    </tr>\n",
       "    <tr>\n",
       "      <th>Music</th>\n",
       "      <td>6472</td>\n",
       "    </tr>\n",
       "    <tr>\n",
       "      <th>Howto &amp; Style</th>\n",
       "      <td>4146</td>\n",
       "    </tr>\n",
       "    <tr>\n",
       "      <th>Comedy</th>\n",
       "      <td>3457</td>\n",
       "    </tr>\n",
       "    <tr>\n",
       "      <th>People &amp; Blogs</th>\n",
       "      <td>3210</td>\n",
       "    </tr>\n",
       "    <tr>\n",
       "      <th>News &amp; Politics</th>\n",
       "      <td>2487</td>\n",
       "    </tr>\n",
       "    <tr>\n",
       "      <th>Science &amp; Technology</th>\n",
       "      <td>2401</td>\n",
       "    </tr>\n",
       "    <tr>\n",
       "      <th>Film &amp; Animation</th>\n",
       "      <td>2345</td>\n",
       "    </tr>\n",
       "    <tr>\n",
       "      <th>Sports</th>\n",
       "      <td>2174</td>\n",
       "    </tr>\n",
       "    <tr>\n",
       "      <th>Education</th>\n",
       "      <td>1656</td>\n",
       "    </tr>\n",
       "    <tr>\n",
       "      <th>Pets &amp; Animals</th>\n",
       "      <td>920</td>\n",
       "    </tr>\n",
       "    <tr>\n",
       "      <th>Gaming</th>\n",
       "      <td>817</td>\n",
       "    </tr>\n",
       "    <tr>\n",
       "      <th>Travel &amp; Events</th>\n",
       "      <td>402</td>\n",
       "    </tr>\n",
       "    <tr>\n",
       "      <th>Autos &amp; Vehicles</th>\n",
       "      <td>384</td>\n",
       "    </tr>\n",
       "    <tr>\n",
       "      <th>Nonprofits &amp; Activism</th>\n",
       "      <td>57</td>\n",
       "    </tr>\n",
       "    <tr>\n",
       "      <th>Shows</th>\n",
       "      <td>57</td>\n",
       "    </tr>\n",
       "  </tbody>\n",
       "</table>\n",
       "</div>"
      ],
      "text/plain": [
       "                       count\n",
       "category_title              \n",
       "Entertainment           9964\n",
       "Music                   6472\n",
       "Howto & Style           4146\n",
       "Comedy                  3457\n",
       "People & Blogs          3210\n",
       "News & Politics         2487\n",
       "Science & Technology    2401\n",
       "Film & Animation        2345\n",
       "Sports                  2174\n",
       "Education               1656\n",
       "Pets & Animals           920\n",
       "Gaming                   817\n",
       "Travel & Events          402\n",
       "Autos & Vehicles         384\n",
       "Nonprofits & Activism     57\n",
       "Shows                     57"
      ]
     },
     "metadata": {},
     "output_type": "display_data"
    }
   ],
   "source": [
    "# VOTRE CODE ICI - Section 2.3\n",
    "import pandas as pd\n",
    "import json\n",
    "categories_raw = pd.read_json('~/youtube-popularity-ml/archive/US_category_id.json')\n",
    "items = categories_raw['items'].tolist()\n",
    "category_dict = {int(item['id']): item['snippet']['title'] for item in items}\n",
    "cat_df = pd.DataFrame(list(category_dict.items()), columns=['category_id', 'category_title'])\n",
    "df_merged = df.merge(cat_df, how='left', left_on='category_id', right_on='category_id')\n",
    "print(\"Distribution des catégories:\")\n",
    "display(df_merged['category_title'].value_counts().to_frame('count'))"
   ]
  },
  {
   "cell_type": "markdown",
   "id": "7f86ba1a",
   "metadata": {},
   "source": [
    "## 3. Nettoyage des données"
   ]
  },
  {
   "cell_type": "markdown",
   "id": "981825a0",
   "metadata": {},
   "source": [
    "**Consigne 3.1 — Nettoyage des données**\n",
    "- Supprimez les doublons basés sur `video_id`  \n",
    "- Gérez les valeurs manquantes dans `description` (remplacez par string vide)  \n",
    "- Convertissez `publish_time` en datetime  \n",
    "- Supprimez les lignes avec des valeurs aberrantes (ex: `views` négatives)"
   ]
  },
  {
   "cell_type": "code",
   "execution_count": 6,
   "id": "4966e9d4",
   "metadata": {},
   "outputs": [
    {
     "data": {
      "application/vnd.microsoft.datawrangler.viewer.v0+json": {
       "columns": [
        {
         "name": "index",
         "rawType": "object",
         "type": "string"
        },
        {
         "name": "0",
         "rawType": "int64",
         "type": "integer"
        }
       ],
       "ref": "852b7870-7782-4f97-8770-b5aeeabf4a3e",
       "rows": [
        [
         "video_id",
         "0"
        ],
        [
         "trending_date",
         "0"
        ],
        [
         "title",
         "0"
        ],
        [
         "channel_title",
         "0"
        ],
        [
         "category_id",
         "0"
        ],
        [
         "publish_time",
         "0"
        ],
        [
         "tags",
         "0"
        ],
        [
         "views",
         "0"
        ],
        [
         "likes",
         "0"
        ],
        [
         "dislikes",
         "0"
        ],
        [
         "comment_count",
         "0"
        ],
        [
         "thumbnail_link",
         "0"
        ],
        [
         "comments_disabled",
         "0"
        ],
        [
         "ratings_disabled",
         "0"
        ],
        [
         "video_error_or_removed",
         "0"
        ],
        [
         "description",
         "0"
        ]
       ],
       "shape": {
        "columns": 1,
        "rows": 16
       }
      },
      "text/plain": [
       "video_id                  0\n",
       "trending_date             0\n",
       "title                     0\n",
       "channel_title             0\n",
       "category_id               0\n",
       "publish_time              0\n",
       "tags                      0\n",
       "views                     0\n",
       "likes                     0\n",
       "dislikes                  0\n",
       "comment_count             0\n",
       "thumbnail_link            0\n",
       "comments_disabled         0\n",
       "ratings_disabled          0\n",
       "video_error_or_removed    0\n",
       "description               0\n",
       "dtype: int64"
      ]
     },
     "metadata": {},
     "output_type": "display_data"
    }
   ],
   "source": [
    "# VOTRE CODE ICI - Section 3.1\n",
    "df_clean = df.drop_duplicates(subset='video_id').copy()\n",
    "df_clean['description'] = df_clean['description'].fillna('')\n",
    "display(df_clean.isna().sum())\n",
    "import pandas as pd\n",
    "df_clean['publish_time'] = pd.to_datetime(df_clean['publish_time'], errors='coerce')\n",
    "# df_clean['publish_time'] =  errors='coerce'\n",
    "df_clean = df_clean[(df_clean['views'] >= 0) & (df_clean['likes'] >= 0) & (df_clean['dislikes'] >= 0) & (df_clean['comment_count'] >= 0)]\n",
    "df_clean = df_clean.dropna(subset=['publish_time'])\n"
   ]
  },
  {
   "cell_type": "markdown",
   "id": "f6c110ca",
   "metadata": {},
   "source": [
    "## 4. Feature Engineering"
   ]
  },
  {
   "cell_type": "markdown",
   "id": "460ce78b",
   "metadata": {},
   "source": [
    "**Consigne 4.1 — Variables d'engagement**\n",
    "** définition : https://support.google.com/youtube/answer/2991785?hl=fr**"
   ]
  },
  {
   "cell_type": "code",
   "execution_count": 7,
   "id": "eab13049",
   "metadata": {},
   "outputs": [
    {
     "data": {
      "application/vnd.microsoft.datawrangler.viewer.v0+json": {
       "columns": [
        {
         "name": "index",
         "rawType": "int64",
         "type": "integer"
        },
        {
         "name": "engagement_rate",
         "rawType": "float64",
         "type": "float"
        }
       ],
       "ref": "56974bfb-5de3-411a-a0e7-9a2133cb9a0e",
       "rows": [
        [
         "0",
         "0.10215079625962406"
        ],
        [
         "1",
         "0.04797205867578859"
        ],
        [
         "2",
         "0.049994140565024985"
        ],
        [
         "3",
         "0.03783569563595662"
        ],
        [
         "4",
         "0.07240528483855987"
        ],
        [
         "5",
         "0.09823795938915843"
        ],
        [
         "6",
         "0.009702308196615312"
        ],
        [
         "7",
         "0.03408573958216135"
        ],
        [
         "8",
         "0.004844690270307562"
        ],
        [
         "9",
         "0.06389757668879106"
        ],
        [
         "10",
         "0.01053123118325804"
        ],
        [
         "11",
         "0.03019755589129616"
        ],
        [
         "12",
         "0.18018505429170603"
        ],
        [
         "13",
         "0.02386328175193196"
        ],
        [
         "14",
         "0.047409556116646843"
        ],
        [
         "15",
         "0.14126359700073737"
        ],
        [
         "16",
         "0.0335036987677538"
        ],
        [
         "17",
         "0.07477833017272212"
        ],
        [
         "18",
         "0.1464842743307169"
        ],
        [
         "19",
         "0.04389134814245685"
        ],
        [
         "20",
         "0.10761630869411173"
        ],
        [
         "21",
         "0.017547618728768463"
        ],
        [
         "22",
         "0.08905399603927427"
        ],
        [
         "23",
         "0.020271242658698747"
        ],
        [
         "24",
         "0.1521483225426677"
        ],
        [
         "25",
         "0.04599757034566519"
        ],
        [
         "26",
         "0.06399851310327657"
        ],
        [
         "27",
         "0.08782625261954585"
        ],
        [
         "28",
         "0.009841462978205281"
        ],
        [
         "29",
         "0.02357127410698442"
        ],
        [
         "30",
         "0.05098700929069455"
        ],
        [
         "31",
         "0.007230769230768952"
        ],
        [
         "32",
         "0.05575774522888935"
        ],
        [
         "33",
         "0.06637501662700719"
        ],
        [
         "34",
         "0.013935727038285956"
        ],
        [
         "35",
         "0.0323545460056986"
        ],
        [
         "36",
         "0.03605817487072623"
        ],
        [
         "37",
         "0.10188977509519997"
        ],
        [
         "38",
         "0.07128852742551957"
        ],
        [
         "39",
         "0.13386625618779174"
        ],
        [
         "40",
         "0.0983373549730589"
        ],
        [
         "41",
         "0.021474773609313744"
        ],
        [
         "42",
         "0.021164021163998768"
        ],
        [
         "43",
         "0.11609661011786887"
        ],
        [
         "44",
         "0.02217079423023606"
        ],
        [
         "45",
         "0.02562699454572417"
        ],
        [
         "46",
         "0.05168661588683277"
        ],
        [
         "47",
         "0.006158953072103355"
        ],
        [
         "48",
         "0.015758371634927607"
        ],
        [
         "49",
         "0.027651015505141804"
        ]
       ],
       "shape": {
        "columns": 1,
        "rows": 6351
       }
      },
      "text/plain": [
       "0        0.102151\n",
       "1        0.047972\n",
       "2        0.049994\n",
       "3        0.037836\n",
       "4        0.072405\n",
       "           ...   \n",
       "40760    0.050341\n",
       "40761    0.012950\n",
       "40762    0.023472\n",
       "40764    0.029825\n",
       "40766    0.031101\n",
       "Name: engagement_rate, Length: 6351, dtype: float64"
      ]
     },
     "metadata": {},
     "output_type": "display_data"
    },
    {
     "data": {
      "application/vnd.microsoft.datawrangler.viewer.v0+json": {
       "columns": [
        {
         "name": "index",
         "rawType": "int64",
         "type": "integer"
        },
        {
         "name": "comments_per_view",
         "rawType": "float64",
         "type": "float"
        }
       ],
       "ref": "b59f7665-da1e-4952-9f9d-eb392c84ddb5",
       "rows": [
        [
         "0",
         "0.021318217896399365"
        ],
        [
         "1",
         "0.005251814652244536"
        ],
        [
         "2",
         "0.002563424466869751"
        ],
        [
         "3",
         "0.006253496829541198"
        ],
        [
         "4",
         "0.00835889720579597"
        ],
        [
         "5",
         "0.012032220171169557"
        ],
        [
         "6",
         "0.0009365713027896985"
        ],
        [
         "7",
         "0.004196974069744116"
        ],
        [
         "8",
         "0.00041159287653787387"
        ],
        [
         "9",
         "0.00923463299353416"
        ],
        [
         "10",
         "0.002175061749634391"
        ],
        [
         "11",
         "0.012230105758381186"
        ],
        [
         "12",
         "0.012174547908467627"
        ],
        [
         "13",
         "0.007307671127264703"
        ],
        [
         "14",
         "0.01021529209953159"
        ],
        [
         "15",
         "0.016237195057556022"
        ],
        [
         "16",
         "0.004248424598919614"
        ],
        [
         "17",
         "0.00493311465327245"
        ],
        [
         "18",
         "0.022792169637242437"
        ],
        [
         "19",
         "0.005422765789226808"
        ],
        [
         "20",
         "0.02418149942568918"
        ],
        [
         "21",
         "0.0009284926724965252"
        ],
        [
         "22",
         "0.007021285435333498"
        ],
        [
         "23",
         "0.004612084621130581"
        ],
        [
         "24",
         "0.006886403766921517"
        ],
        [
         "25",
         "0.006239997848276576"
        ],
        [
         "26",
         "0.005414782231584097"
        ],
        [
         "27",
         "0.011149121571810687"
        ],
        [
         "28",
         "0.0029703324625128666"
        ],
        [
         "29",
         "0.004836141309689881"
        ],
        [
         "30",
         "0.004940128890605573"
        ],
        [
         "31",
         "0.0"
        ],
        [
         "32",
         "0.007336408926848109"
        ],
        [
         "33",
         "0.00925200632565275"
        ],
        [
         "34",
         "0.0016720038541105672"
        ],
        [
         "35",
         "0.0053755835337388055"
        ],
        [
         "36",
         "0.0073064702584088185"
        ],
        [
         "37",
         "0.005460947043184202"
        ],
        [
         "38",
         "0.005630994897117159"
        ],
        [
         "39",
         "0.009882978537319004"
        ],
        [
         "40",
         "0.007519915380292739"
        ],
        [
         "41",
         "0.011872933735805323"
        ],
        [
         "42",
         "0.008465608465599508"
        ],
        [
         "43",
         "0.022794140042030814"
        ],
        [
         "44",
         "0.0027877017190308055"
        ],
        [
         "45",
         "0.001483035719189932"
        ],
        [
         "46",
         "0.0022908195406906493"
        ],
        [
         "47",
         "0.0015133308023999924"
        ],
        [
         "48",
         "0.00415845918143923"
        ],
        [
         "49",
         "0.004062313910430597"
        ]
       ],
       "shape": {
        "columns": 1,
        "rows": 6351
       }
      },
      "text/plain": [
       "0        0.021318\n",
       "1        0.005252\n",
       "2        0.002563\n",
       "3        0.006253\n",
       "4        0.008359\n",
       "           ...   \n",
       "40760    0.005790\n",
       "40761    0.003082\n",
       "40762    0.001243\n",
       "40764    0.002242\n",
       "40766    0.002579\n",
       "Name: comments_per_view, Length: 6351, dtype: float64"
      ]
     },
     "metadata": {},
     "output_type": "display_data"
    }
   ],
   "source": [
    "# VOTRE CODE ICI - Section 4.1\n",
    "import numpy as np\n",
    "eps = 1e-9\n",
    "denom = df_clean['likes'] + df_clean['dislikes']\n",
    "df_clean['like_ratio'] = np.where(denom > 0, df_clean['likes'] / denom, 0)\n",
    "df_clean['engagement_rate'] = np.where(df_clean['views'] > 0,\n",
    "                                       (df_clean['likes'] + df_clean['dislikes'] + df_clean['comment_count']) / (df_clean['views'] + eps),\n",
    "                                       0)\n",
    "\n",
    "df_clean['comments_per_view'] = np.where(df_clean['views'] > 0, df_clean['comment_count'] / (df_clean['views'] + eps), 0)\n",
    "\n",
    "display(df_clean['engagement_rate'])\n",
    "display(df_clean['comments_per_view'])"
   ]
  },
  {
   "cell_type": "markdown",
   "id": "d76ad347",
   "metadata": {},
   "source": [
    "**Consigne 4.2 — Variables temporelles**"
   ]
  },
  {
   "cell_type": "code",
   "execution_count": 8,
   "id": "b4c4ab58",
   "metadata": {},
   "outputs": [
    {
     "data": {
      "application/vnd.microsoft.datawrangler.viewer.v0+json": {
       "columns": [
        {
         "name": "index",
         "rawType": "int64",
         "type": "integer"
        },
        {
         "name": "publish_hour",
         "rawType": "int32",
         "type": "integer"
        }
       ],
       "ref": "8e88e175-a740-4407-8716-854645b2252c",
       "rows": [
        [
         "0",
         "17"
        ],
        [
         "1",
         "7"
        ],
        [
         "2",
         "19"
        ],
        [
         "3",
         "11"
        ],
        [
         "4",
         "18"
        ],
        [
         "5",
         "19"
        ],
        [
         "6",
         "5"
        ],
        [
         "7",
         "21"
        ],
        [
         "8",
         "14"
        ],
        [
         "9",
         "13"
        ],
        [
         "10",
         "2"
        ],
        [
         "11",
         "3"
        ],
        [
         "12",
         "17"
        ],
        [
         "13",
         "14"
        ],
        [
         "14",
         "18"
        ],
        [
         "15",
         "20"
        ],
        [
         "16",
         "17"
        ],
        [
         "17",
         "16"
        ],
        [
         "18",
         "15"
        ],
        [
         "19",
         "22"
        ],
        [
         "20",
         "14"
        ],
        [
         "21",
         "15"
        ],
        [
         "22",
         "16"
        ],
        [
         "23",
         "16"
        ],
        [
         "24",
         "14"
        ],
        [
         "25",
         "14"
        ],
        [
         "26",
         "12"
        ],
        [
         "27",
         "16"
        ],
        [
         "28",
         "15"
        ],
        [
         "29",
         "17"
        ],
        [
         "30",
         "1"
        ],
        [
         "31",
         "17"
        ],
        [
         "32",
         "17"
        ],
        [
         "33",
         "23"
        ],
        [
         "34",
         "5"
        ],
        [
         "35",
         "6"
        ],
        [
         "36",
         "18"
        ],
        [
         "37",
         "15"
        ],
        [
         "38",
         "23"
        ],
        [
         "39",
         "15"
        ],
        [
         "40",
         "17"
        ],
        [
         "41",
         "21"
        ],
        [
         "42",
         "15"
        ],
        [
         "43",
         "16"
        ],
        [
         "44",
         "15"
        ],
        [
         "45",
         "0"
        ],
        [
         "46",
         "13"
        ],
        [
         "47",
         "18"
        ],
        [
         "48",
         "2"
        ],
        [
         "49",
         "23"
        ]
       ],
       "shape": {
        "columns": 1,
        "rows": 6351
       }
      },
      "text/plain": [
       "0        17\n",
       "1         7\n",
       "2        19\n",
       "3        11\n",
       "4        18\n",
       "         ..\n",
       "40760    18\n",
       "40761    15\n",
       "40762     5\n",
       "40764    16\n",
       "40766     9\n",
       "Name: publish_hour, Length: 6351, dtype: int32"
      ]
     },
     "metadata": {},
     "output_type": "display_data"
    },
    {
     "data": {
      "application/vnd.microsoft.datawrangler.viewer.v0+json": {
       "columns": [
        {
         "name": "index",
         "rawType": "int64",
         "type": "integer"
        },
        {
         "name": "publish_day_of_week",
         "rawType": "int32",
         "type": "integer"
        }
       ],
       "ref": "40431236-bfac-43fb-819d-ce02b5c60378",
       "rows": [
        [
         "0",
         "0"
        ],
        [
         "1",
         "0"
        ],
        [
         "2",
         "6"
        ],
        [
         "3",
         "0"
        ],
        [
         "4",
         "6"
        ],
        [
         "5",
         "0"
        ],
        [
         "6",
         "6"
        ],
        [
         "7",
         "6"
        ],
        [
         "8",
         "0"
        ],
        [
         "9",
         "0"
        ],
        [
         "10",
         "0"
        ],
        [
         "11",
         "0"
        ],
        [
         "12",
         "0"
        ],
        [
         "13",
         "6"
        ],
        [
         "14",
         "6"
        ],
        [
         "15",
         "0"
        ],
        [
         "16",
         "6"
        ],
        [
         "17",
         "0"
        ],
        [
         "18",
         "0"
        ],
        [
         "19",
         "6"
        ],
        [
         "20",
         "0"
        ],
        [
         "21",
         "6"
        ],
        [
         "22",
         "0"
        ],
        [
         "23",
         "6"
        ],
        [
         "24",
         "0"
        ],
        [
         "25",
         "6"
        ],
        [
         "26",
         "0"
        ],
        [
         "27",
         "0"
        ],
        [
         "28",
         "0"
        ],
        [
         "29",
         "6"
        ],
        [
         "30",
         "0"
        ],
        [
         "31",
         "0"
        ],
        [
         "32",
         "4"
        ],
        [
         "33",
         "6"
        ],
        [
         "34",
         "6"
        ],
        [
         "35",
         "4"
        ],
        [
         "36",
         "6"
        ],
        [
         "37",
         "0"
        ],
        [
         "38",
         "6"
        ],
        [
         "39",
         "0"
        ],
        [
         "40",
         "0"
        ],
        [
         "41",
         "6"
        ],
        [
         "42",
         "0"
        ],
        [
         "43",
         "5"
        ],
        [
         "44",
         "5"
        ],
        [
         "45",
         "6"
        ],
        [
         "46",
         "0"
        ],
        [
         "47",
         "4"
        ],
        [
         "48",
         "0"
        ],
        [
         "49",
         "4"
        ]
       ],
       "shape": {
        "columns": 1,
        "rows": 6351
       }
      },
      "text/plain": [
       "0        0\n",
       "1        0\n",
       "2        6\n",
       "3        0\n",
       "4        6\n",
       "        ..\n",
       "40760    1\n",
       "40761    2\n",
       "40762    2\n",
       "40764    1\n",
       "40766    2\n",
       "Name: publish_day_of_week, Length: 6351, dtype: int32"
      ]
     },
     "metadata": {},
     "output_type": "display_data"
    },
    {
     "data": {
      "application/vnd.microsoft.datawrangler.viewer.v0+json": {
       "columns": [
        {
         "name": "index",
         "rawType": "int64",
         "type": "integer"
        },
        {
         "name": "publish_month",
         "rawType": "int32",
         "type": "integer"
        }
       ],
       "ref": "9491772c-ef1d-440b-8987-10e120fdb17c",
       "rows": [
        [
         "0",
         "11"
        ],
        [
         "1",
         "11"
        ],
        [
         "2",
         "11"
        ],
        [
         "3",
         "11"
        ],
        [
         "4",
         "11"
        ],
        [
         "5",
         "11"
        ],
        [
         "6",
         "11"
        ],
        [
         "7",
         "11"
        ],
        [
         "8",
         "11"
        ],
        [
         "9",
         "11"
        ],
        [
         "10",
         "11"
        ],
        [
         "11",
         "11"
        ],
        [
         "12",
         "11"
        ],
        [
         "13",
         "11"
        ],
        [
         "14",
         "11"
        ],
        [
         "15",
         "11"
        ],
        [
         "16",
         "11"
        ],
        [
         "17",
         "11"
        ],
        [
         "18",
         "11"
        ],
        [
         "19",
         "11"
        ],
        [
         "20",
         "11"
        ],
        [
         "21",
         "11"
        ],
        [
         "22",
         "11"
        ],
        [
         "23",
         "11"
        ],
        [
         "24",
         "11"
        ],
        [
         "25",
         "11"
        ],
        [
         "26",
         "11"
        ],
        [
         "27",
         "11"
        ],
        [
         "28",
         "11"
        ],
        [
         "29",
         "5"
        ],
        [
         "30",
         "11"
        ],
        [
         "31",
         "11"
        ],
        [
         "32",
         "11"
        ],
        [
         "33",
         "11"
        ],
        [
         "34",
         "11"
        ],
        [
         "35",
         "4"
        ],
        [
         "36",
         "11"
        ],
        [
         "37",
         "11"
        ],
        [
         "38",
         "11"
        ],
        [
         "39",
         "11"
        ],
        [
         "40",
         "11"
        ],
        [
         "41",
         "11"
        ],
        [
         "42",
         "11"
        ],
        [
         "43",
         "11"
        ],
        [
         "44",
         "11"
        ],
        [
         "45",
         "11"
        ],
        [
         "46",
         "11"
        ],
        [
         "47",
         "11"
        ],
        [
         "48",
         "11"
        ],
        [
         "49",
         "11"
        ]
       ],
       "shape": {
        "columns": 1,
        "rows": 6351
       }
      },
      "text/plain": [
       "0        11\n",
       "1        11\n",
       "2        11\n",
       "3        11\n",
       "4        11\n",
       "         ..\n",
       "40760     6\n",
       "40761     6\n",
       "40762     6\n",
       "40764     6\n",
       "40766     6\n",
       "Name: publish_month, Length: 6351, dtype: int32"
      ]
     },
     "metadata": {},
     "output_type": "display_data"
    }
   ],
   "source": [
    "# VOTRE CODE ICI - Section 4.2\n",
    "df_clean['publish_hour'] = df_clean['publish_time'].dt.hour\n",
    "display(df_clean['publish_hour'])\n",
    "df_clean['publish_day_of_week'] = df_clean['publish_time'].dt.weekday\n",
    "display(df_clean['publish_day_of_week'])\n",
    "df_clean['publish_month'] = df_clean['publish_time'].dt.month\n",
    "display(df_clean['publish_month'])"
   ]
  },
  {
   "cell_type": "markdown",
   "id": "0252ebee",
   "metadata": {},
   "source": [
    "**Consigne 4.3 — Variables textuelles (titre)**"
   ]
  },
  {
   "cell_type": "code",
   "execution_count": 9,
   "id": "786ebdac",
   "metadata": {},
   "outputs": [
    {
     "data": {
      "application/vnd.microsoft.datawrangler.viewer.v0+json": {
       "columns": [
        {
         "name": "index",
         "rawType": "int64",
         "type": "integer"
        },
        {
         "name": "title_length",
         "rawType": "int64",
         "type": "integer"
        }
       ],
       "ref": "c47d3e25-8b4e-4dae-aa9f-337e6b05a975",
       "rows": [
        [
         "0",
         "34"
        ],
        [
         "1",
         "62"
        ],
        [
         "2",
         "53"
        ],
        [
         "3",
         "32"
        ],
        [
         "4",
         "24"
        ],
        [
         "5",
         "21"
        ],
        [
         "6",
         "41"
        ],
        [
         "7",
         "35"
        ],
        [
         "8",
         "65"
        ],
        [
         "9",
         "53"
        ],
        [
         "10",
         "86"
        ],
        [
         "11",
         "78"
        ],
        [
         "12",
         "42"
        ],
        [
         "13",
         "38"
        ],
        [
         "14",
         "24"
        ],
        [
         "15",
         "16"
        ],
        [
         "16",
         "48"
        ],
        [
         "17",
         "52"
        ],
        [
         "18",
         "26"
        ],
        [
         "19",
         "40"
        ],
        [
         "20",
         "32"
        ],
        [
         "21",
         "50"
        ],
        [
         "22",
         "50"
        ],
        [
         "23",
         "67"
        ],
        [
         "24",
         "28"
        ],
        [
         "25",
         "38"
        ],
        [
         "26",
         "36"
        ],
        [
         "27",
         "47"
        ],
        [
         "28",
         "100"
        ],
        [
         "29",
         "23"
        ],
        [
         "30",
         "60"
        ],
        [
         "31",
         "43"
        ],
        [
         "32",
         "42"
        ],
        [
         "33",
         "31"
        ],
        [
         "34",
         "54"
        ],
        [
         "35",
         "20"
        ],
        [
         "36",
         "46"
        ],
        [
         "37",
         "57"
        ],
        [
         "38",
         "33"
        ],
        [
         "39",
         "50"
        ],
        [
         "40",
         "17"
        ],
        [
         "41",
         "65"
        ],
        [
         "42",
         "51"
        ],
        [
         "43",
         "75"
        ],
        [
         "44",
         "75"
        ],
        [
         "45",
         "48"
        ],
        [
         "46",
         "65"
        ],
        [
         "47",
         "50"
        ],
        [
         "48",
         "54"
        ],
        [
         "49",
         "55"
        ]
       ],
       "shape": {
        "columns": 1,
        "rows": 6351
       }
      },
      "text/plain": [
       "0        34\n",
       "1        62\n",
       "2        53\n",
       "3        32\n",
       "4        24\n",
       "         ..\n",
       "40760    29\n",
       "40761    94\n",
       "40762    49\n",
       "40764    65\n",
       "40766    64\n",
       "Name: title_length, Length: 6351, dtype: int64"
      ]
     },
     "metadata": {},
     "output_type": "display_data"
    },
    {
     "data": {
      "application/vnd.microsoft.datawrangler.viewer.v0+json": {
       "columns": [
        {
         "name": "index",
         "rawType": "int64",
         "type": "integer"
        },
        {
         "name": "title_word_count",
         "rawType": "int64",
         "type": "integer"
        }
       ],
       "ref": "e230f5ef-0dff-4c0b-b9ec-e59783cdeb0e",
       "rows": [
        [
         "0",
         "7"
        ],
        [
         "1",
         "10"
        ],
        [
         "2",
         "10"
        ],
        [
         "3",
         "5"
        ],
        [
         "4",
         "5"
        ],
        [
         "5",
         "5"
        ],
        [
         "6",
         "9"
        ],
        [
         "7",
         "8"
        ],
        [
         "8",
         "12"
        ],
        [
         "9",
         "12"
        ],
        [
         "10",
         "16"
        ],
        [
         "11",
         "14"
        ],
        [
         "12",
         "6"
        ],
        [
         "13",
         "6"
        ],
        [
         "14",
         "4"
        ],
        [
         "15",
         "3"
        ],
        [
         "16",
         "9"
        ],
        [
         "17",
         "10"
        ],
        [
         "18",
         "3"
        ],
        [
         "19",
         "5"
        ],
        [
         "20",
         "6"
        ],
        [
         "21",
         "8"
        ],
        [
         "22",
         "10"
        ],
        [
         "23",
         "14"
        ],
        [
         "24",
         "4"
        ],
        [
         "25",
         "5"
        ],
        [
         "26",
         "6"
        ],
        [
         "27",
         "9"
        ],
        [
         "28",
         "17"
        ],
        [
         "29",
         "3"
        ],
        [
         "30",
         "10"
        ],
        [
         "31",
         "8"
        ],
        [
         "32",
         "8"
        ],
        [
         "33",
         "5"
        ],
        [
         "34",
         "10"
        ],
        [
         "35",
         "3"
        ],
        [
         "36",
         "8"
        ],
        [
         "37",
         "11"
        ],
        [
         "38",
         "4"
        ],
        [
         "39",
         "8"
        ],
        [
         "40",
         "4"
        ],
        [
         "41",
         "10"
        ],
        [
         "42",
         "10"
        ],
        [
         "43",
         "13"
        ],
        [
         "44",
         "13"
        ],
        [
         "45",
         "8"
        ],
        [
         "46",
         "11"
        ],
        [
         "47",
         "8"
        ],
        [
         "48",
         "7"
        ],
        [
         "49",
         "8"
        ]
       ],
       "shape": {
        "columns": 1,
        "rows": 6351
       }
      },
      "text/plain": [
       "0         7\n",
       "1        10\n",
       "2        10\n",
       "3         5\n",
       "4         5\n",
       "         ..\n",
       "40760     6\n",
       "40761    16\n",
       "40762    10\n",
       "40764    12\n",
       "40766    10\n",
       "Name: title_word_count, Length: 6351, dtype: int64"
      ]
     },
     "metadata": {},
     "output_type": "display_data"
    },
    {
     "data": {
      "application/vnd.microsoft.datawrangler.viewer.v0+json": {
       "columns": [
        {
         "name": "index",
         "rawType": "int64",
         "type": "integer"
        },
        {
         "name": "has_caps",
         "rawType": "bool",
         "type": "boolean"
        }
       ],
       "ref": "89ce08ba-20b4-4048-9420-a68c726cba64",
       "rows": [
        [
         "0",
         "True"
        ],
        [
         "1",
         "True"
        ],
        [
         "2",
         "True"
        ],
        [
         "3",
         "True"
        ],
        [
         "4",
         "True"
        ],
        [
         "5",
         "True"
        ],
        [
         "6",
         "True"
        ],
        [
         "7",
         "True"
        ],
        [
         "8",
         "True"
        ],
        [
         "9",
         "True"
        ],
        [
         "10",
         "True"
        ],
        [
         "11",
         "True"
        ],
        [
         "12",
         "True"
        ],
        [
         "13",
         "True"
        ],
        [
         "14",
         "True"
        ],
        [
         "15",
         "True"
        ],
        [
         "16",
         "True"
        ],
        [
         "17",
         "True"
        ],
        [
         "18",
         "True"
        ],
        [
         "19",
         "True"
        ],
        [
         "20",
         "True"
        ],
        [
         "21",
         "True"
        ],
        [
         "22",
         "True"
        ],
        [
         "23",
         "True"
        ],
        [
         "24",
         "True"
        ],
        [
         "25",
         "True"
        ],
        [
         "26",
         "True"
        ],
        [
         "27",
         "True"
        ],
        [
         "28",
         "True"
        ],
        [
         "29",
         "True"
        ],
        [
         "30",
         "True"
        ],
        [
         "31",
         "True"
        ],
        [
         "32",
         "True"
        ],
        [
         "33",
         "True"
        ],
        [
         "34",
         "True"
        ],
        [
         "35",
         "True"
        ],
        [
         "36",
         "True"
        ],
        [
         "37",
         "True"
        ],
        [
         "38",
         "True"
        ],
        [
         "39",
         "True"
        ],
        [
         "40",
         "True"
        ],
        [
         "41",
         "True"
        ],
        [
         "42",
         "True"
        ],
        [
         "43",
         "True"
        ],
        [
         "44",
         "True"
        ],
        [
         "45",
         "True"
        ],
        [
         "46",
         "True"
        ],
        [
         "47",
         "True"
        ],
        [
         "48",
         "True"
        ],
        [
         "49",
         "True"
        ]
       ],
       "shape": {
        "columns": 1,
        "rows": 6351
       }
      },
      "text/plain": [
       "0        True\n",
       "1        True\n",
       "2        True\n",
       "3        True\n",
       "4        True\n",
       "         ... \n",
       "40760    True\n",
       "40761    True\n",
       "40762    True\n",
       "40764    True\n",
       "40766    True\n",
       "Name: has_caps, Length: 6351, dtype: bool"
      ]
     },
     "metadata": {},
     "output_type": "display_data"
    },
    {
     "data": {
      "application/vnd.microsoft.datawrangler.viewer.v0+json": {
       "columns": [
        {
         "name": "index",
         "rawType": "int64",
         "type": "integer"
        },
        {
         "name": "has_numbers",
         "rawType": "bool",
         "type": "boolean"
        }
       ],
       "ref": "632db4f6-b5b4-4ff1-85fd-b1d04636ef8e",
       "rows": [
        [
         "0",
         "False"
        ],
        [
         "1",
         "False"
        ],
        [
         "2",
         "False"
        ],
        [
         "3",
         "False"
        ],
        [
         "4",
         "False"
        ],
        [
         "5",
         "True"
        ],
        [
         "6",
         "False"
        ],
        [
         "7",
         "True"
        ],
        [
         "8",
         "True"
        ],
        [
         "9",
         "False"
        ],
        [
         "10",
         "True"
        ],
        [
         "11",
         "True"
        ],
        [
         "12",
         "False"
        ],
        [
         "13",
         "False"
        ],
        [
         "14",
         "False"
        ],
        [
         "15",
         "False"
        ],
        [
         "16",
         "False"
        ],
        [
         "17",
         "False"
        ],
        [
         "18",
         "False"
        ],
        [
         "19",
         "False"
        ],
        [
         "20",
         "False"
        ],
        [
         "21",
         "False"
        ],
        [
         "22",
         "False"
        ],
        [
         "23",
         "True"
        ],
        [
         "24",
         "False"
        ],
        [
         "25",
         "False"
        ],
        [
         "26",
         "True"
        ],
        [
         "27",
         "False"
        ],
        [
         "28",
         "False"
        ],
        [
         "29",
         "False"
        ],
        [
         "30",
         "True"
        ],
        [
         "31",
         "True"
        ],
        [
         "32",
         "False"
        ],
        [
         "33",
         "False"
        ],
        [
         "34",
         "True"
        ],
        [
         "35",
         "False"
        ],
        [
         "36",
         "False"
        ],
        [
         "37",
         "False"
        ],
        [
         "38",
         "True"
        ],
        [
         "39",
         "False"
        ],
        [
         "40",
         "True"
        ],
        [
         "41",
         "False"
        ],
        [
         "42",
         "False"
        ],
        [
         "43",
         "False"
        ],
        [
         "44",
         "True"
        ],
        [
         "45",
         "False"
        ],
        [
         "46",
         "False"
        ],
        [
         "47",
         "False"
        ],
        [
         "48",
         "False"
        ],
        [
         "49",
         "False"
        ]
       ],
       "shape": {
        "columns": 1,
        "rows": 6351
       }
      },
      "text/plain": [
       "0        False\n",
       "1        False\n",
       "2        False\n",
       "3        False\n",
       "4        False\n",
       "         ...  \n",
       "40760    False\n",
       "40761    False\n",
       "40762    False\n",
       "40764    False\n",
       "40766     True\n",
       "Name: has_numbers, Length: 6351, dtype: bool"
      ]
     },
     "metadata": {},
     "output_type": "display_data"
    }
   ],
   "source": [
    "# VOTRE CODE ICI - Section 4.3\n",
    "\n",
    "df_clean['title_length'] = df_clean['title'].str.len()\n",
    "display(df_clean['title_length'])\n",
    "df_clean['title_word_count'] = df_clean['title'].str.rsplit().str.len()\n",
    "display(df_clean['title_word_count'])\n",
    "df_clean['has_caps'] = df_clean['title'].str.contains(r'[A-Z]')\n",
    "display(df_clean['has_caps'])\n",
    "df_clean['has_numbers'] = df_clean['title'].str.contains(r'[0-9]')\n",
    "display(df_clean['has_numbers'])"
   ]
  },
  {
   "cell_type": "markdown",
   "id": "a1b7eb43",
   "metadata": {},
   "source": [
    "## 5. Création de la variable cible"
   ]
  },
  {
   "cell_type": "markdown",
   "id": "e8ad73d8",
   "metadata": {},
   "source": [
    "**Consigne 5.1 — Définition de `is_trending`**  \n",
    "- Une vidéo est *trending* si elle a plus de vues que le 80e percentile de sa catégorie"
   ]
  },
  {
   "cell_type": "code",
   "execution_count": 10,
   "id": "53bbcd85",
   "metadata": {},
   "outputs": [
    {
     "name": "stdout",
     "output_type": "stream",
     "text": [
      "Distribution de la variable cible:\n"
     ]
    },
    {
     "data": {
      "application/vnd.microsoft.datawrangler.viewer.v0+json": {
       "columns": [
        {
         "name": "is_trending",
         "rawType": "int64",
         "type": "integer"
        },
        {
         "name": "count",
         "rawType": "int64",
         "type": "integer"
        }
       ],
       "ref": "3bb9e692-587f-481b-97e6-3f905b68412b",
       "rows": [
        [
         "0",
         "5078"
        ],
        [
         "1",
         "1273"
        ]
       ],
       "shape": {
        "columns": 1,
        "rows": 2
       }
      },
      "text/html": [
       "<div>\n",
       "<style scoped>\n",
       "    .dataframe tbody tr th:only-of-type {\n",
       "        vertical-align: middle;\n",
       "    }\n",
       "\n",
       "    .dataframe tbody tr th {\n",
       "        vertical-align: top;\n",
       "    }\n",
       "\n",
       "    .dataframe thead th {\n",
       "        text-align: right;\n",
       "    }\n",
       "</style>\n",
       "<table border=\"1\" class=\"dataframe\">\n",
       "  <thead>\n",
       "    <tr style=\"text-align: right;\">\n",
       "      <th></th>\n",
       "      <th>count</th>\n",
       "    </tr>\n",
       "    <tr>\n",
       "      <th>is_trending</th>\n",
       "      <th></th>\n",
       "    </tr>\n",
       "  </thead>\n",
       "  <tbody>\n",
       "    <tr>\n",
       "      <th>0</th>\n",
       "      <td>5078</td>\n",
       "    </tr>\n",
       "    <tr>\n",
       "      <th>1</th>\n",
       "      <td>1273</td>\n",
       "    </tr>\n",
       "  </tbody>\n",
       "</table>\n",
       "</div>"
      ],
      "text/plain": [
       "             count\n",
       "is_trending       \n",
       "0             5078\n",
       "1             1273"
      ]
     },
     "metadata": {},
     "output_type": "display_data"
    }
   ],
   "source": [
    "# VOTRE CODE ICI - Section 5.1\n",
    "df_clean['is_trending'] = (df_clean.groupby('category_id')['views']\n",
    "                                  .transform(lambda x: x > x.quantile(0.8))).astype(int)\n",
    "print(\"Distribution de la variable cible:\")\n",
    "display(df_clean['is_trending'].value_counts().to_frame('count'))"
   ]
  },
  {
   "cell_type": "markdown",
   "id": "bfac7477",
   "metadata": {},
   "source": [
    "## 6. Préparation des données pour l'entraînement"
   ]
  },
  {
   "cell_type": "markdown",
   "id": "828d672c",
   "metadata": {},
   "source": [
    "**Consignes 6.1 & 6.2 — Sélection des features & split train/test**"
   ]
  },
  {
   "cell_type": "code",
   "execution_count": 11,
   "id": "c91a2b35",
   "metadata": {},
   "outputs": [
    {
     "name": "stdout",
     "output_type": "stream",
     "text": [
      "Taille train: (5080, 9)\n",
      "Taille test: (1271, 9)\n"
     ]
    },
    {
     "data": {
      "text/plain": [
       "'Accuracy : '"
      ]
     },
     "metadata": {},
     "output_type": "display_data"
    },
    {
     "data": {
      "text/plain": [
       "0.9354838709677419"
      ]
     },
     "metadata": {},
     "output_type": "display_data"
    },
    {
     "name": "stdout",
     "output_type": "stream",
     "text": [
      "[[989  12]\n",
      " [ 70 200]]\n",
      "              precision    recall  f1-score   support\n",
      "\n",
      "           0       0.93      0.99      0.96      1001\n",
      "           1       0.94      0.74      0.83       270\n",
      "\n",
      "    accuracy                           0.94      1271\n",
      "   macro avg       0.94      0.86      0.90      1271\n",
      "weighted avg       0.94      0.94      0.93      1271\n",
      "\n"
     ]
    }
   ],
   "source": [
    "# VOTRE CODE ICI - Section 6.1 et 6.2\n",
    "\n",
    "from sklearn import svm\n",
    "from sklearn.model_selection import train_test_split\n",
    "from sklearn.metrics import confusion_matrix, accuracy_score, classification_report\n",
    "\n",
    "features = ['views', 'likes', 'dislikes', 'comment_count',\n",
    "            'like_ratio', 'engagement_rate', 'title_length', 'publish_hour', 'category_id']\n",
    "X = df_clean[features].copy()\n",
    "y = df_clean['is_trending'].copy()\n",
    "\n",
    "# Split AVANT d'entraîner\n",
    "X_train, X_test, y_train, y_test = train_test_split(X, y, test_size=0.2, random_state=42)\n",
    "\n",
    "# Sélection du modèle\n",
    "clf = svm.SVC()\n",
    "\n",
    "# Fit sur train uniquement\n",
    "clf.fit(X_train, y_train)\n",
    "\n",
    "# Prédictions sur test\n",
    "pred = clf.predict(X_test)\n",
    "\n",
    "print(f\"Taille train: {X_train.shape}\")\n",
    "print(f\"Taille test: {X_test.shape}\")\n",
    "display(f'Accuracy : ', accuracy_score(y_test, pred))\n",
    "print(confusion_matrix(y_test, pred))\n",
    "print(classification_report(y_test, pred))\n"
   ]
  },
  {
   "cell_type": "markdown",
   "id": "fbd9f34b",
   "metadata": {},
   "source": [
    "**Consigne 6.3 — Normalisation des données (StandardScaler)**"
   ]
  },
  {
   "cell_type": "code",
   "execution_count": 12,
   "id": "173c3a0f",
   "metadata": {},
   "outputs": [
    {
     "name": "stdout",
     "output_type": "stream",
     "text": [
      "Avant : \n",
      "         views   likes  dislikes  comment_count  like_ratio  engagement_rate  \\\n",
      "0       748374   57527      2966          15954    0.950970         0.102151   \n",
      "1      2418783   97185      6146          12703    0.940521         0.047972   \n",
      "2      3191434  146033      5339           8181    0.964729         0.049994   \n",
      "3       343168   10172       666           2146    0.938550         0.037836   \n",
      "4      2095731  132235      1989          17518    0.985181         0.072405   \n",
      "...        ...     ...       ...            ...         ...              ...   \n",
      "40760   607422   26166       895           3517    0.966927         0.050341   \n",
      "40761   812832    7701       320           2505    0.960105         0.012950   \n",
      "40762   864189   18811       399           1074    0.979230         0.023472   \n",
      "40764   540149   14206       693           1211    0.953487         0.029825   \n",
      "40766   296295    8157       294            764    0.965211         0.031101   \n",
      "\n",
      "       title_length  publish_hour  category_id  \n",
      "0                34            17           22  \n",
      "1                62             7           24  \n",
      "2                53            19           23  \n",
      "3                32            11           24  \n",
      "4                24            18           24  \n",
      "...             ...           ...          ...  \n",
      "40760            29            18           26  \n",
      "40761            94            15           17  \n",
      "40762            49             5           24  \n",
      "40764            65            16           26  \n",
      "40766            64             9           24  \n",
      "\n",
      "[6351 rows x 9 columns]\n",
      "Après : \n",
      "[[-0.00509921  0.19816309  0.12740482 ... -0.80033608  0.53582805\n",
      "   0.215712  ]\n",
      " [ 0.86091764  0.53935203  0.39069641 ...  0.62027164 -1.00428959\n",
      "   0.49300922]\n",
      " [ 1.26149545  0.95960512  0.32387996 ...  0.16364773  0.84385158\n",
      "   0.35436061]\n",
      " ...\n",
      " [ 0.05494461 -0.13492156 -0.08513277 ... -0.03929623 -1.31231312\n",
      "   0.49300922]\n",
      " [-0.11305263 -0.17453968 -0.06079072 ...  0.77247961  0.38181628\n",
      "   0.77030644]\n",
      " [-0.23947775 -0.22658093 -0.09382636 ...  0.72174362 -0.69626606\n",
      "   0.49300922]]\n"
     ]
    }
   ],
   "source": [
    "# VOTRE CODE ICI - Section 6.3\n",
    "from sklearn.preprocessing import StandardScaler\n",
    "scaler = StandardScaler()\n",
    "num_cols = ['views', 'likes', 'dislikes', 'comment_count', 'like_ratio', 'engagement_rate', 'title_length', 'publish_hour', 'category_id']\n",
    "# Fit uniquement sur train\n",
    "scaled = scaler.fit_transform(X[num_cols])\n",
    "\n",
    "print(\"Avant : \")\n",
    "print(X[num_cols])\n",
    "print(\"Après : \")\n",
    "print(scaled)\n"
   ]
  },
  {
   "cell_type": "code",
   "execution_count": 29,
   "id": "ab2f7b68",
   "metadata": {},
   "outputs": [
    {
     "name": "stdout",
     "output_type": "stream",
     "text": [
      "[0 0 0 ... 0 0 0]\n",
      "Accuracy : 0.953579858379229\n",
      "[[994   7]\n",
      " [ 52 218]]\n",
      "Rapport de classification : \n",
      "              precision    recall  f1-score   support\n",
      "\n",
      "           0       0.95      0.99      0.97      1001\n",
      "           1       0.97      0.81      0.88       270\n",
      "\n",
      "    accuracy                           0.95      1271\n",
      "   macro avg       0.96      0.90      0.93      1271\n",
      "weighted avg       0.95      0.95      0.95      1271\n",
      "\n"
     ]
    }
   ],
   "source": [
    "# Entrainement du modèle avec les données normalisées\n",
    "# Split AVANT d'entraîner\n",
    "X_train, X_test, y_train, y_test = train_test_split(X, y, test_size=0.2, random_state=42)\n",
    "\n",
    "X_train[num_cols] = scaler.fit_transform(X_train[num_cols])\n",
    "X_test[num_cols] = scaler.transform(X_test[num_cols])\n",
    "\n",
    "clf.fit(X_train, y_train)\n",
    "\n",
    "y_pred = clf.predict(X_test)\n",
    "\n",
    "print(y_pred)\n",
    "print('Accuracy :', accuracy_score(y_test, y_pred))\n",
    "print(confusion_matrix(y_test, y_pred))\n",
    "print('Rapport de classification : ')\n",
    "print(classification_report(y_test, y_pred))\n"
   ]
  },
  {
   "cell_type": "code",
   "execution_count": 36,
   "id": "aa03e205",
   "metadata": {},
   "outputs": [
    {
     "data": {
      "image/png": "[encoded data removed]",
      "text/plain": [
       "<Figure size 600x400 with 2 Axes>"
      ]
     },
     "metadata": {},
     "output_type": "display_data"
    }
   ],
   "source": [
    "# Visualisation\n",
    "\n",
    "# Matrice de confusion\n",
    "\n",
    "cm = confusion_matrix(y_test, y_pred)\n",
    "plt.figure(figsize=(6,4))\n",
    "sns.heatmap(data=cm, annot=True, fmt='d', cmap='Reds')\n",
    "plt.ylabel('Valeurs réelles')\n",
    "plt.xlabel('Valeurs prédites')\n",
    "plt.title('Matrice de confusion')\n",
    "plt.show()"
   ]
  },
  {
   "cell_type": "markdown",
   "id": "3894d055",
   "metadata": {},
   "source": [
    "## Analyse résultats\n",
    "### Accuracy : 95% de vidéos bien classées par le modèle\n",
    "### Matrice de confusion\n",
    "- 994 vidéos vrai positifs / 218 vrais négatifs\n",
    "- 7 vidéos faux positifs / 52 faux négatifs\n",
    "### Rapport de classification\n",
    "#### 0 -> Non trending\n",
    "- Precision :  95% bien classées\n",
    "- Recall : 99% de vidéos réellement non trending\n",
    "- f1-score : 97% (rapport entre precision et recall)\n",
    "#### 1 -> Trending\n",
    "- Precision : 97% bien classées\n",
    "- Recall : 81% réellement prédites comme trending\n",
    "- f1-score : 88% "
   ]
  },
  {
   "cell_type": "markdown",
   "id": "27586c4a",
   "metadata": {},
   "source": [
    "## 7. Modèle 1 — Random Forest"
   ]
  },
  {
   "cell_type": "markdown",
   "id": "4dc20f6b",
   "metadata": {},
   "source": [
    "**Consigne 7.1 — Entraînement**"
   ]
  },
  {
   "cell_type": "code",
   "execution_count": 14,
   "id": "6bd08b5c",
   "metadata": {},
   "outputs": [],
   "source": [
    "# VOTRE CODE ICI - Section 7.1\n",
    "# from sklearn.ensemble import RandomForestClassifier\n",
    "# ....\n",
    "# ....\n",
    "# ...."
   ]
  },
  {
   "cell_type": "markdown",
   "id": "4ee70bbb",
   "metadata": {},
   "source": [
    "**Consigne 7.2 — Évaluation**"
   ]
  },
  {
   "cell_type": "code",
   "execution_count": 15,
   "id": "ecc1abe3",
   "metadata": {},
   "outputs": [],
   "source": [
    "# VOTRE CODE ICI - Section 7.2\n",
    "# from sklearn.metrics import accuracy_score, precision_score, recall_score, f1_score, confusion_matrix\n",
    "# print(\"Random Forest - Résultats:\")\n",
    "# print(f\"Accuracy: {accuracy_score(y_test, rf_predictions):.4f}\")\n",
    "# print(f\"Precision: {precision_score(y_test, rf_predictions):.4f}\")\n",
    "# print(f\"Recall: {recall_score(y_test, rf_predictions):.4f}\")\n",
    "# print(f\"F1-Score: {f1_score(y_test, rf_predictions):.4f}\")\n",
    "# # Importance des variables\n",
    "# import pandas as pd\n",
    "# feature_importance = pd.DataFrame({\n",
    "#     'feature': X.columns,\n",
    "#     'importance': rf_model.feature_importances_\n",
    "# }).sort_values('importance', ascending=False)\n",
    "# print(\"\\nTop 10 variables importantes:\")\n",
    "# display(feature_importance.head(10))"
   ]
  },
  {
   "cell_type": "markdown",
   "id": "34bd0a5c",
   "metadata": {},
   "source": [
    "## 8. Modèle 2 — Support Vector Machine (SVM)"
   ]
  },
  {
   "cell_type": "markdown",
   "id": "2aad95c6",
   "metadata": {},
   "source": [
    "**Consigne 8.1 — Entraînement (utiliser données normalisées)**"
   ]
  },
  {
   "cell_type": "code",
   "execution_count": 16,
   "id": "711bf04b",
   "metadata": {},
   "outputs": [],
   "source": [
    "# VOTRE CODE ICI - Section 8.1\n",
    "# from sklearn.svm import SVC\n",
    "# ...\n",
    "# ...\n",
    "# ..."
   ]
  },
  {
   "cell_type": "markdown",
   "id": "979a3ce6",
   "metadata": {},
   "source": [
    "**Consigne 8.2 — Évaluation**"
   ]
  },
  {
   "cell_type": "code",
   "execution_count": 17,
   "id": "29d067ed",
   "metadata": {},
   "outputs": [],
   "source": [
    "# VOTRE CODE ICI - Section 8.2\n",
    "# print(\"SVM - Résultats:\")\n",
    "# print(f\"Accuracy: {accuracy_score(y_test, svm_predictions):.4f}\")\n",
    "#....\n",
    "# ...\n",
    "# ..."
   ]
  },
  {
   "cell_type": "markdown",
   "id": "d4372dac",
   "metadata": {},
   "source": [
    "## 9. Modèle 3 — Gradient Boosting (XGBoost)"
   ]
  },
  {
   "cell_type": "markdown",
   "id": "7c4c3bfd",
   "metadata": {},
   "source": [
    "**Consigne 9.1 — Entraînement**"
   ]
  },
  {
   "cell_type": "code",
   "execution_count": 30,
   "id": "d831f458",
   "metadata": {},
   "outputs": [],
   "source": [
    "# VOTRE CODE ICI - Section 9.1\n",
    "try:\n",
    "    from xgboost import XGBClassifier\n",
    "    xgb_model = XGBClassifier(n_estimators=100, max_depth=6, learning_rate=0.1, subsample=1.0, colsample_bytree=1.0, random_state=42, n_jobs=-1, eval_metric='logloss')\n",
    "    xgb_model.fit(X_train, y_train)\n",
    "    xgb_predictions = xgb_model.predict(X_test)\n",
    "except ImportError:\n",
    "    print(\"XGBoost n'est pas installé. Installez avec: pip install xgboost\")\n",
    "    xgb_model = None\n",
    "    xgb_predictions = None"
   ]
  },
  {
   "cell_type": "markdown",
   "id": "b9311d79",
   "metadata": {},
   "source": [
    "**Consigne 9.2 — Évaluation**"
   ]
  },
  {
   "cell_type": "code",
   "execution_count": 31,
   "id": "462bb271",
   "metadata": {},
   "outputs": [
    {
     "name": "stdout",
     "output_type": "stream",
     "text": [
      "XGBoost - Résultats:\n",
      "Accuracy: 0.9921\n",
      "Precision: 0.9924\n",
      "Recall: 0.9704\n",
      "F1-Score: 0.9813\n"
     ]
    }
   ],
   "source": [
    "# VOTRE CODE ICI - Section 9.2\n",
    "from sklearn.metrics import precision_score, recall_score, f1_score\n",
    "\n",
    "if xgb_predictions is not None:\n",
    "    print(\"XGBoost - Résultats:\")\n",
    "    print(f\"Accuracy: {accuracy_score(y_test, xgb_predictions):.4f}\")\n",
    "    print(f\"Precision: {precision_score(y_test, xgb_predictions):.4f}\")\n",
    "    print(f\"Recall: {recall_score(y_test, xgb_predictions):.4f}\")\n",
    "    print(f\"F1-Score: {f1_score(y_test, xgb_predictions):.4f}\")"
   ]
  },
  {
   "cell_type": "markdown",
   "id": "2e11ab75",
   "metadata": {},
   "source": [
    "## 10. Modèle 4 — Réseau de Neurones (MLPClassifier)"
   ]
  },
  {
   "cell_type": "markdown",
   "id": "c346cba0",
   "metadata": {},
   "source": [
    "**Consigne 10.1 — Entraînement (données normalisées)**"
   ]
  },
  {
   "cell_type": "code",
   "execution_count": 32,
   "id": "80c15608",
   "metadata": {},
   "outputs": [],
   "source": [
    "# VOTRE CODE ICI - Section 10.1\n",
    "from sklearn.neural_network import MLPClassifier\n",
    "X_train_scaled = scaler.fit_transform(X_train)\n",
    "X_test_scaled = scaler.transform(X_test)\n",
    "nn_model = MLPClassifier(hidden_layer_sizes=(100, 50), activation='relu', solver='adam', max_iter=1000, random_state=42)\n",
    "\n",
    "nn_model.fit(X_train_scaled, y_train)\n",
    "nn_predictions = nn_model.predict(X_test_scaled)"
   ]
  },
  {
   "cell_type": "markdown",
   "id": "b77af7a2",
   "metadata": {},
   "source": [
    "**Consigne 10.2 — Évaluation**"
   ]
  },
  {
   "cell_type": "code",
   "execution_count": null,
   "id": "ae67284a",
   "metadata": {},
   "outputs": [
    {
     "name": "stdout",
     "output_type": "stream",
     "text": [
      "Réseau de Neurones - Résultats:\n",
      "Precision: 0.9180\n",
      "Recall: 0.8704\n",
      "F1-Score: 0.8935\n",
      "Nb itération : 211\n"
     ]
    }
   ],
   "source": [
    "# VOTRE CODE ICI - Section 10.2\n",
    "print(\"Réseau de Neurones - Résultats:\")\n",
    "\n",
    "print(f\"Precision: {precision_score(y_test, nn_predictions):.4f}\")\n",
    "print(f\"Recall: {recall_score(y_test, nn_predictions):.4f}\")\n",
    "print(f\"F1-Score: {f1_score(y_test, nn_predictions):.4f}\")\n",
    "# Nombre d'itérations\n",
    "print(f'Nb itérations : {nn_model.n_iter_}')"
   ]
  },
  {
   "cell_type": "markdown",
   "id": "7bc77978",
   "metadata": {},
   "source": [
    "## 11. Comparaison des modèles"
   ]
  },
  {
   "cell_type": "code",
   "execution_count": 22,
   "id": "9681619f",
   "metadata": {},
   "outputs": [],
   "source": [
    "# VOTRE CODE ICI - Section 11.1\n",
    "# import pandas as pd\n",
    "# results = []\n",
    "# # Remplir en fonction des métriques calculées plus haut\n",
    "# # results.append({'Model': 'Random Forest', 'Accuracy': ..., 'Precision': ..., 'Recall': ..., 'F1-Score': ...})\n",
    "# # results.append({'Model': 'SVM', 'Accuracy': ..., 'Precision': ..., 'Recall': ..., 'F1-Score': ...})\n",
    "# # if xgb_predictions is not None: results.append({'Model': 'XGBoost', 'Accuracy': ..., 'Precision': ..., 'Recall': ..., 'F1-Score': ...})\n",
    "# # results.append({'Model': 'Neural Network', 'Accuracy': ..., 'Precision': ..., 'Recall': ..., 'F1-Score': ...})\n",
    "# results_df = pd.DataFrame(results)\n",
    "# display(results_df)\n",
    "# # Graphique comparatif des F1-scores (optionnel)\n",
    "# # import matplotlib.pyplot as plt\n",
    "# # plt.figure()\n",
    "# # plt.bar(results_df['Model'], results_df['F1-Score'])\n",
    "# # plt.title('Comparaison des F1-scores')\n",
    "# # plt.ylabel('F1-Score')\n",
    "# # plt.show()"
   ]
  },
  {
   "cell_type": "markdown",
   "id": "ecb2a166",
   "metadata": {},
   "source": [
    "## 12. Validation croisée"
   ]
  },
  {
   "cell_type": "code",
   "execution_count": 23,
   "id": "aac69276",
   "metadata": {},
   "outputs": [],
   "source": [
    "# VOTRE CODE ICI - Section 12.1\n",
    "# from sklearn.model_selection import cross_val_score\n",
    "# # Exemple avec Random Forest (remplacez par votre meilleur modèle)\n",
    "# # scores = cross_val_score(rf_model, X_train, y_train, cv=5, scoring='f1', n_jobs=-1)\n",
    "# # print(f\"Validation croisée - F1-Score: {scores.mean():.4f} (+/- {scores.std() * 2:.4f})\")"
   ]
  },
  {
   "cell_type": "markdown",
   "id": "38b7ac2d",
   "metadata": {},
   "source": [
    "## 13. Optimisation des hyperparamètres (Grid Search)"
   ]
  },
  {
   "cell_type": "code",
   "execution_count": 24,
   "id": "509756b9",
   "metadata": {},
   "outputs": [],
   "source": [
    "# VOTRE CODE ICI - Section 13.1\n",
    "# from sklearn.model_selection import GridSearchCV\n",
    "# from sklearn.ensemble import RandomForestClassifier\n",
    "# param_grid = {\n",
    "#     'n_estimators': [50, 100, 200],\n",
    "#     'max_depth': [5, 10, None],\n",
    "#     'min_samples_split': [2, 5, 10]\n",
    "# }\n",
    "# grid_search = GridSearchCV(\n",
    "#     RandomForestClassifier(random_state=42),\n",
    "#     param_grid,\n",
    "#     cv=3,\n",
    "#     scoring='f1',\n",
    "#     n_jobs=-1\n",
    "# )\n",
    "# grid_search.fit(X_train, y_train)\n",
    "# print(\"Meilleurs paramètres:\", grid_search.best_params_)\n",
    "# print(\"Meilleur score CV:\", grid_search.best_score_)\n",
    "# best_rf = grid_search.best_estimator_\n",
    "# best_rf_pred = best_rf.predict(X_test)"
   ]
  },
  {
   "cell_type": "markdown",
   "id": "a4a30039",
   "metadata": {},
   "source": [
    "## 14. Analyse des erreurs"
   ]
  },
  {
   "cell_type": "code",
   "execution_count": 25,
   "id": "686bb0d4",
   "metadata": {},
   "outputs": [],
   "source": [
    "# VOTRE CODE ICI - Section 14.1\n",
    "# import matplotlib.pyplot as plt\n",
    "# import seaborn as sns\n",
    "# from sklearn.metrics import confusion_matrix\n",
    "# # Exemple: matrice de confusion pour le meilleur modèle (remplacez best_rf_pred)\n",
    "# # cm = confusion_matrix(y_test, best_rf_pred)\n",
    "# # plt.figure(figsize=(8, 6))\n",
    "# # sns.heatmap(cm, annot=True, fmt='d', cmap='Blues',\n",
    "# #             xticklabels=['Non-Trending', 'Trending'],\n",
    "# #             yticklabels=['Non-Trending', 'Trending'])\n",
    "# # plt.title('Matrice de Confusion - Meilleur Modèle')\n",
    "# # plt.ylabel('Valeurs Réelles')\n",
    "# # plt.xlabel('Prédictions')\n",
    "# # plt.show()"
   ]
  },
  {
   "cell_type": "code",
   "execution_count": 26,
   "id": "d05fb987",
   "metadata": {},
   "outputs": [],
   "source": [
    "# VOTRE CODE ICI - Section 14.2\n",
    "# # Identifier des exemples mal classifiés (adapter selon le modèle choisi)\n",
    "# # errors_mask = (y_test != best_rf_pred)\n",
    "# # error_indices = X_test[errors_mask].index\n",
    "# # print(\"Exemples de vidéos mal classifiées:\")\n",
    "# # for idx in list(error_indices)[:5]:\n",
    "# #     real_label = y_test.loc[idx]\n",
    "# #     predicted_label = best_rf_pred[list(error_indices).index(idx)]  # à adapter si nécessaire\n",
    "# #     print(f\"Index {idx}: Réel={real_label}, Prédit={predicted_label}\")"
   ]
  },
  {
   "cell_type": "markdown",
   "id": "7338b06f",
   "metadata": {},
   "source": [
    "## 15. Sauvegarde & conclusions"
   ]
  },
  {
   "cell_type": "code",
   "execution_count": 27,
   "id": "1eab9baf",
   "metadata": {},
   "outputs": [],
   "source": [
    "# VOTRE CODE ICI - Section 15.1\n",
    "# import joblib\n",
    "# # Remplacez 'best_rf' / 'scaler' par vos objets\n",
    "# # joblib.dump(best_model, 'best_youtube_classifier.pkl')\n",
    "# # joblib.dump(scaler, 'feature_scaler.pkl')\n",
    "# # print(\"Modèle et scaler sauvegardés avec succès!\")"
   ]
  },
  {
   "cell_type": "markdown",
   "id": "ed7eddb3",
   "metadata": {},
   "source": [
    "### Conclusions à rédiger\n",
    "\n",
    "1. **Meilleur modèle**  \n",
    "   - Modèle: *[À compléter]*  \n",
    "   - Performances: *[À compléter]*  \n",
    "   - Raisons: *[À compléter]*\n",
    "\n",
    "2. **Variables les plus importantes**  \n",
    "   - *[À compléter]*\n",
    "\n",
    "3. **Limitations**  \n",
    "   - *[À compléter]*\n",
    "\n",
    "4. **Améliorations suggérées**  \n",
    "   - *[À compléter]*\n",
    "\n",
    "5. **Apprentissages**  \n",
    "   - *[À compléter]*"
   ]
  },
  {
   "cell_type": "markdown",
   "id": "72c6e844",
   "metadata": {},
   "source": [
    "---\n",
    "## Guide de testing pour les étudiants\n",
    "\n",
    "**Comment tester vos implémentations :**\n",
    "1. **Vérifications de base** : `.shape`, `.info()`, `.head()`  \n",
    "2. **Validation des features** : pas de NaN, ratios entre 0 et 1, plages temporelles correctes  \n",
    "3. **Validation des modèles** : prédictions binaires {0,1}, longueurs cohérentes, comparaisons rigoureuses  \n",
    "4. **Tests de cohérence** : scores réalistes, F1 entre précision et rappel, impact de la normalisation  \n",
    "5. **Debugging** : augmenter `max_iter` si nécessaire, vérifier entrées/sorties et dimensions"
   ]
  }
 ],
 "metadata": {
  "kernelspec": {
   "display_name": ".venv",
   "language": "python",
   "name": "python3"
  },
  "language_info": {
   "codemirror_mode": {
    "name": "ipython",
    "version": 3
   },
   "file_extension": ".py",
   "mimetype": "text/x-python",
   "name": "python",
   "nbconvert_exporter": "python",
   "pygments_lexer": "ipython3",
   "version": "3.12.3"
  }
 },
 "nbformat": 4,
 "nbformat_minor": 5
}
