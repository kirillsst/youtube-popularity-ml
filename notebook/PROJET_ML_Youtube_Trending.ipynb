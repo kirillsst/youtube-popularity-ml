{
 "cells": [
  {
   "cell_type": "markdown",
   "id": "f478863d",
   "metadata": {},
   "source": [
    "# PROJET ML — CLASSIFICATION DE VIDÉOS YOUTUBE *TRENDING*\n",
    "\n",
    "**Dataset Kaggle**: https://www.kaggle.com/datasets/datasnaek/youtube-new\n",
    "\n",
    "**Objectif**: Développer un classificateur pour prédire si une vidéo YouTube deviendra *trending*.\n",
    "\n",
    "> Ce notebook est conçu pour être complété. Chaque section contient des consignes détaillées et des zones de code à compléter.\n"
   ]
  },
  {
   "cell_type": "markdown",
   "id": "546bd156",
   "metadata": {},
   "source": [
    "## 1. Importation des librairies"
   ]
  },
  {
   "cell_type": "markdown",
   "id": "07d5e9d0",
   "metadata": {},
   "source": [
    "**Consigne 1.1 — Importez toutes les librairies nécessaires**\n",
    "- `pandas`, `numpy` pour la manipulation de données  \n",
    "- `matplotlib.pyplot`, `seaborn` pour la visualisation  \n",
    "- `sklearn` pour le machine learning  \n",
    "- `warnings` pour supprimer les avertissements"
   ]
  },
  {
   "cell_type": "code",
   "execution_count": 2,
   "id": "bb2ef50c",
   "metadata": {},
   "outputs": [
    {
     "name": "stdout",
     "output_type": "stream",
     "text": [
      "Kirill\n"
     ]
    }
   ],
   "source": [
    "# VOTRE CODE ICI - Section 1.1\n",
    "import pandas as pd\n",
    "import numpy as np\n",
    "from matplotlib import pyplot\n",
    "import seaborn \n",
    "import sklearn\n",
    "import datetime as dt\n",
    "import re\n",
    "from sklearn import svm\n",
    "from sklearn.model_selection import train_test_split\n",
    "from sklearn.metrics import accuracy_score, classification_report\n",
    "from sklearn.preprocessing import StandardScaler\n",
    "\n",
    "# Suppression des warnings\n",
    "import warnings\n",
    "warnings.filterwarnings('ignore')\n",
    "print(\"Kirill\")"
   ]
  },
  {
   "cell_type": "markdown",
   "id": "879269a0",
   "metadata": {},
   "source": [
    "## 2. Chargement et exploration des données"
   ]
  },
  {
   "cell_type": "markdown",
   "id": "09a658e0",
   "metadata": {},
   "source": [
    "**Consigne 2.1 — Chargement des données**\n",
    "- Chargez le fichier `USvideos.csv` avec pandas  \n",
    "- Affichez les 5 premières lignes  \n",
    "- Affichez les informations générales (`info()`, `shape`, `describe()`)\n",
    "\n",
    "*Aide* :\n",
    "- Utilisez `pd.read_csv()` avec `encoding='utf-8'`\n",
    "- `.info()` donne les types de colonnes et valeurs non-nulles\n",
    "- `.describe()` donne les statistiques descriptives"
   ]
  },
  {
   "cell_type": "code",
   "execution_count": 3,
   "id": "21041baa",
   "metadata": {},
   "outputs": [
    {
     "name": "stdout",
     "output_type": "stream",
     "text": [
      "Premières lignes:\n"
     ]
    },
    {
     "data": {
      "application/vnd.microsoft.datawrangler.viewer.v0+json": {
       "columns": [
        {
         "name": "index",
         "rawType": "int64",
         "type": "integer"
        },
        {
         "name": "video_id",
         "rawType": "object",
         "type": "string"
        },
        {
         "name": "trending_date",
         "rawType": "object",
         "type": "string"
        },
        {
         "name": "title",
         "rawType": "object",
         "type": "string"
        },
        {
         "name": "channel_title",
         "rawType": "object",
         "type": "string"
        },
        {
         "name": "category_id",
         "rawType": "int64",
         "type": "integer"
        },
        {
         "name": "publish_time",
         "rawType": "object",
         "type": "string"
        },
        {
         "name": "tags",
         "rawType": "object",
         "type": "string"
        },
        {
         "name": "views",
         "rawType": "int64",
         "type": "integer"
        },
        {
         "name": "likes",
         "rawType": "int64",
         "type": "integer"
        },
        {
         "name": "dislikes",
         "rawType": "int64",
         "type": "integer"
        },
        {
         "name": "comment_count",
         "rawType": "int64",
         "type": "integer"
        },
        {
         "name": "thumbnail_link",
         "rawType": "object",
         "type": "string"
        },
        {
         "name": "comments_disabled",
         "rawType": "bool",
         "type": "boolean"
        },
        {
         "name": "ratings_disabled",
         "rawType": "bool",
         "type": "boolean"
        },
        {
         "name": "video_error_or_removed",
         "rawType": "bool",
         "type": "boolean"
        },
        {
         "name": "description",
         "rawType": "object",
         "type": "string"
        }
       ],
       "ref": "57b22c71-e8d6-4609-89c5-a3173df67c19",
       "rows": [
        [
         "0",
         "2kyS6SvSYSE",
         "17.14.11",
         "WE WANT TO TALK ABOUT OUR MARRIAGE",
         "CaseyNeistat",
         "22",
         "2017-11-13T17:13:01.000Z",
         "SHANtell martin",
         "748374",
         "57527",
         "2966",
         "15954",
         "https://i.ytimg.com/vi/2kyS6SvSYSE/default.jpg",
         "False",
         "False",
         "False",
         "SHANTELL'S CHANNEL - https://www.youtube.com/shantellmartin\\nCANDICE - https://www.lovebilly.com\\n\\nfilmed this video in 4k on this -- http://amzn.to/2sTDnRZ\\nwith this lens -- http://amzn.to/2rUJOmD\\nbig drone - http://tinyurl.com/h4ft3oy\\nOTHER GEAR ---  http://amzn.to/2o3GLX5\\nSony CAMERA http://amzn.to/2nOBmnv\\nOLD CAMERA; http://amzn.to/2o2cQBT\\nMAIN LENS; http://amzn.to/2od5gBJ\\nBIG SONY CAMERA; http://amzn.to/2nrdJRO\\nBIG Canon CAMERA; http://tinyurl.com/jn4q4vz\\nBENDY TRIPOD THING; http://tinyurl.com/gw3ylz2\\nYOU NEED THIS FOR THE BENDY TRIPOD; http://tinyurl.com/j8mzzua\\nWIDE LENS; http://tinyurl.com/jkfcm8t\\nMORE EXPENSIVE WIDE LENS; http://tinyurl.com/zrdgtou\\nSMALL CAMERA; http://tinyurl.com/hrrzhor\\nMICROPHONE; http://tinyurl.com/zefm4jy\\nOTHER MICROPHONE; http://tinyurl.com/jxgpj86\\nOLD DRONE (cheaper but still great);http://tinyurl.com/zcfmnmd\\n\\nfollow me; on http://instagram.com/caseyneistat\\non https://www.facebook.com/cneistat\\non https://twitter.com/CaseyNeistat\\n\\namazing intro song by https://soundcloud.com/discoteeth\\n\\nad disclosure.  THIS IS NOT AN AD.  not selling or promoting anything.  but samsung did produce the Shantell Video as a 'GALAXY PROJECT' which is an initiative that enables creators like Shantell and me to make projects we might otherwise not have the opportunity to make.  hope that's clear.  if not ask in the comments and i'll answer any specifics."
        ],
        [
         "1",
         "1ZAPwfrtAFY",
         "17.14.11",
         "The Trump Presidency: Last Week Tonight with John Oliver (HBO)",
         "LastWeekTonight",
         "24",
         "2017-11-13T07:30:00.000Z",
         "last week tonight trump presidency|\"last week tonight donald trump\"|\"john oliver trump\"|\"donald trump\"",
         "2418783",
         "97185",
         "6146",
         "12703",
         "https://i.ytimg.com/vi/1ZAPwfrtAFY/default.jpg",
         "False",
         "False",
         "False",
         "One year after the presidential election, John Oliver discusses what we've learned so far and enlists our catheter cowboy to teach Donald Trump what he hasn't.\\n\\nConnect with Last Week Tonight online...\\n\\nSubscribe to the Last Week Tonight YouTube channel for more almost news as it almost happens: www.youtube.com/user/LastWeekTonight\\n\\nFind Last Week Tonight on Facebook like your mom would: http://Facebook.com/LastWeekTonight\\n\\nFollow us on Twitter for news about jokes and jokes about news: http://Twitter.com/LastWeekTonight\\n\\nVisit our official site for all that other stuff at once: http://www.hbo.com/lastweektonight"
        ],
        [
         "2",
         "5qpjK5DgCt4",
         "17.14.11",
         "Racist Superman | Rudy Mancuso, King Bach & Lele Pons",
         "Rudy Mancuso",
         "23",
         "2017-11-12T19:05:24.000Z",
         "racist superman|\"rudy\"|\"mancuso\"|\"king\"|\"bach\"|\"racist\"|\"superman\"|\"love\"|\"rudy mancuso poo bear black white official music video\"|\"iphone x by pineapple\"|\"lelepons\"|\"hannahstocking\"|\"rudymancuso\"|\"inanna\"|\"anwar\"|\"sarkis\"|\"shots\"|\"shotsstudios\"|\"alesso\"|\"anitta\"|\"brazil\"|\"Getting My Driver's License | Lele Pons\"",
         "3191434",
         "146033",
         "5339",
         "8181",
         "https://i.ytimg.com/vi/5qpjK5DgCt4/default.jpg",
         "False",
         "False",
         "False",
         "WATCH MY PREVIOUS VIDEO ▶ \\n\\nSUBSCRIBE ► https://www.youtube.com/channel/UC5jkXpfnBhlDjqh0ir5FsIQ?sub_confirmation=1\\n\\nTHANKS FOR WATCHING! LIKE & SUBSCRIBE FOR MORE VIDEOS!\\n-----------------------------------------------------------\\nFIND ME ON: \\nInstagram | http://instagram.com/rudymancuso\\nTwitter | http://twitter.com/rudymancuso\\nFacebook | http://facebook.com/rudymancuso\\n\\nCAST: \\nRudy Mancuso | http://youtube.com/c/rudymancuso\\nLele Pons | http://youtube.com/c/lelepons\\nKing Bach | https://youtube.com/user/BachelorsPadTv\\n\\nVideo Effects: \\nCaleb Natale | https://instagram.com/calebnatale\\n\\nPA:\\nPaulina Gregory\\n\\n\\nShots Studios Channels:\\nAlesso | https://youtube.com/c/alesso\\nAnitta | http://youtube.com/c/anitta\\nAnwar Jibawi | http://youtube.com/c/anwar\\nAwkward Puppets | http://youtube.com/c/awkwardpuppets\\nHannah Stocking | http://youtube.com/c/hannahstocking\\nInanna Sarkis | http://youtube.com/c/inanna\\nLele Pons | http://youtube.com/c/lelepons\\nMaejor | http://youtube.com/c/maejor\\nMike Tyson | http://youtube.com/c/miketyson \\nRudy Mancuso | http://youtube.com/c/rudymancuso\\nShots Studios | http://youtube.com/c/shots\\n\\n#Rudy\\n#RudyMancuso"
        ],
        [
         "3",
         "puqaWrEC7tY",
         "17.14.11",
         "Nickelback Lyrics: Real or Fake?",
         "Good Mythical Morning",
         "24",
         "2017-11-13T11:00:04.000Z",
         "rhett and link|\"gmm\"|\"good mythical morning\"|\"rhett and link good mythical morning\"|\"good mythical morning rhett and link\"|\"mythical morning\"|\"Season 12\"|\"nickelback lyrics\"|\"nickelback lyrics real or fake\"|\"nickelback\"|\"nickelback songs\"|\"nickelback song\"|\"rhett link nickelback\"|\"gmm nickelback\"|\"lyrics (website category)\"|\"nickelback (musical group)\"|\"rock\"|\"music\"|\"lyrics\"|\"chad kroeger\"|\"canada\"|\"music (industry)\"|\"mythical\"|\"gmm challenge\"|\"comedy\"|\"funny\"|\"challenge\"",
         "343168",
         "10172",
         "666",
         "2146",
         "https://i.ytimg.com/vi/puqaWrEC7tY/default.jpg",
         "False",
         "False",
         "False",
         "Today we find out if Link is a Nickelback amateur or a secret Nickelback devotee. GMM #1218\\nDon't miss an all new Ear Biscuits: https://goo.gl/xeZNQt\\nWatch Part 4: https://youtu.be/MhCdiiB8CQg | Watch Part 2: https://youtu.be/7qiOrNao9fg\\nWatch today's episode from the start: http://bit.ly/GMM1218\\n\\nPick up all of the official GMM merch only at https://mythical.store\\n\\nFollow Rhett & Link: \\nInstagram: https://instagram.com/rhettandlink\\nFacebook: https://facebook.com/rhettandlink\\nTwitter: https://twitter.com/rhettandlink\\nTumblr: https://rhettandlink.tumblr.com\\nSnapchat: @realrhettlink\\nWebsite: https://mythical.co/\\n\\nCheck Out Our Other Mythical Channels:\\nGood Mythical MORE: https://youtube.com/goodmythicalmore\\nRhett & Link: https://youtube.com/rhettandlink\\nThis Is Mythical: https://youtube.com/thisismythical\\nEar Biscuits: https://applepodcasts.com/earbiscuits\\n\\nWant to send us something? https://mythical.co/contact\\nHave you made a Wheel of Mythicality intro video? Submit it here: https://bit.ly/GMMWheelIntro\\n\\nIntro Animation by Digital Twigs: https://www.digitaltwigs.com\\nIntro & Outro Music by Jeff Zeigler & Sarah Schimeneck https://www.jeffzeigler.com\\nWheel of Mythicality theme: https://www.royaltyfreemusiclibrary.com/\\nAll Supplemental Music fromOpus 1 Music: https://opus1.sourceaudio.com/\\nWe use ‘The Mouse’ by Blue Microphones https://www.bluemic.com/mouse/"
        ],
        [
         "4",
         "d380meD0W0M",
         "17.14.11",
         "I Dare You: GOING BALD!?",
         "nigahiga",
         "24",
         "2017-11-12T18:01:41.000Z",
         "ryan|\"higa\"|\"higatv\"|\"nigahiga\"|\"i dare you\"|\"idy\"|\"rhpc\"|\"dares\"|\"no truth\"|\"comments\"|\"comedy\"|\"funny\"|\"stupid\"|\"fail\"",
         "2095731",
         "132235",
         "1989",
         "17518",
         "https://i.ytimg.com/vi/d380meD0W0M/default.jpg",
         "False",
         "False",
         "False",
         "I know it's been a while since we did this show, but we're back with what might be the best episode yet!\\nLeave your dares in the comment section! \\n\\nOrder my book how to write good \\nhttp://higatv.com/ryan-higas-how-to-write-good-pre-order-links/\\n\\nJust Launched New Official Store\\nhttps://www.gianthugs.com/collections/ryan\\n\\nHigaTV Channel\\nhttp://www.youtube.com/higatv\\n\\nTwitter\\nhttp://www.twitter.com/therealryanhiga\\n\\nFacebook\\nhttp://www.facebook.com/higatv\\n\\nWebsite\\nhttp://www.higatv.com\\n\\nInstagram\\nhttp://www.instagram.com/notryanhiga\\n\\nSend us mail or whatever you want here!\\nPO Box 232355\\nLas Vegas, NV 89105"
        ],
        [
         "5",
         "gHZ1Qz0KiKM",
         "17.14.11",
         "2 Weeks with iPhone X",
         "iJustine",
         "28",
         "2017-11-13T19:07:23.000Z",
         "ijustine|\"week with iPhone X\"|\"iphone x\"|\"apple\"|\"iphone\"|\"iphone x review\"|\"iphone x unboxing\"",
         "119180",
         "9763",
         "511",
         "1434",
         "https://i.ytimg.com/vi/gHZ1Qz0KiKM/default.jpg",
         "False",
         "False",
         "False",
         "Using the iPhone for the past two weeks -- here's my thoughts!\\nAll my iPhone X Videos: https://www.youtube.com/watch?v=vqztGUwhRlQ&list=PLoYRB6C09WUDbCndtEDELX-Fpk_pgATvF\\n► SUBSCRIBE FOR MORE VIDEOS: http://www.youtube.com/subscription_center?add_user=ijustine\\n► Get my BOOK! http://ijustinebook.com\\n► Get my iOS 10 STICKERS! http://ijustinestickers.com\\n\\n▼ SOCIAL\\nhttp://instagram.com/ijustine\\nhttp://facebook.com/ijustine\\nhttp://twitter.com/ijustine\\nSnapchat: iJustine\\n\\n————————————\\n\\n▼ STUFF I USE TO MAKE VIDEOS\\n\\nSony rx100 V - http://amzn.to/2jesbxA\\nG7X ii - http://amzn.to/2f6n2Bs\\nCanon 80D - http://amzn.to/2eRKhQo\\nSony A7s ii - http://amzn.to/2ebLR16\\nSony a6500 - http://amzn.to/2okeG2a\\nGoPro Hero 5 - http://amzn.to/2e1KyhM\\nGoPro Hero 5 Session - http://amzn.to/2oksMQT\\nEpidemic Sound - https://goo.gl/Pe7GTL \\n\\nFavorite lenses: \\nCanon EF 24-70mm - http://amzn.to/2dT7mFr\\nCanon EF-S 10-18mm - http://amzn.to/2dT62SU\\nSony 16-35mm (full frame) - http://amzn.to/2ftPaTf\\nSony Distagon 35mm (full frame) - http://amzn.to/2oB0XQj\\nSony 10-18mm wide angle - http://amzn.to/2e1Myqz\\n\\nRode Small on camera microphone - http://amzn.to/2fkiVGJ\\nRode Larger (battery required) microphone - http://amzn.to/2ftNkl8\\nSony XLR adapter Microphone - http://amzn.to/2kCcIDH\\nSmall Sony Microphone - http://amzn.to/2oX7Eih\\n\\nFavorite SD Card - http://amzn.to/2oWRGoD\\n\\nDJI Mavic Pro - http://amzn.to/2f6nL5E\\nPhantom 4 Pro - http://amzn.to/2pbDrN1\\nPhantom 4 Pro Plus  - http://amzn.to/2oX63Jz"
        ],
        [
         "6",
         "39idVpFF7NQ",
         "17.14.11",
         "Roy Moore & Jeff Sessions Cold Open - SNL",
         "Saturday Night Live",
         "24",
         "2017-11-12T05:37:17.000Z",
         "SNL|\"Saturday Night Live\"|\"SNL Season 43\"|\"Episode 1730\"|\"Tiffany Haddish\"|\"Roy Moore\"|\"Mikey Day\"|\"Mike Pence\"|\"Beck Bennett\"|\"Jeff Sessions\"|\"Kate McKinnon\"|\"s43\"|\"s43e5\"|\"episode 5\"|\"live\"|\"new york\"|\"comedy\"|\"sketch\"|\"funny\"|\"hilarious\"|\"late night\"|\"host\"|\"music\"|\"guest\"|\"laugh\"|\"impersonation\"|\"actor\"|\"improv\"|\"musician\"|\"comedian\"|\"actress\"|\"If Loving You Is Wrong\"|\"Oprah Winfrey\"|\"OWN\"|\"Girls Trip\"|\"The Carmichael Show\"|\"Keanu\"|\"Taylor Swift\"|\"Reputation\"|\"Look What You Made Me Do\"|\"ready for it?\"|\"cold open\"",
         "2103417",
         "15993",
         "2445",
         "1970",
         "https://i.ytimg.com/vi/39idVpFF7NQ/default.jpg",
         "False",
         "False",
         "False",
         "Embattled Alabama Senate candidate Roy Moore (Mikey Day) meets with Vice President Mike Pence (Beck Bennett) and Attorney General Jeff Sessions (Kate McKinnon).\\n\\n#SNL #SNL43\\n\\nGet more SNL: http://www.nbc.com/saturday-night-live\\nFull Episodes: http://www.nbc.com/saturday-night-liv...\\n\\nLike SNL: https://www.facebook.com/snl\\nFollow SNL: https://twitter.com/nbcsnl\\nSNL Tumblr: http://nbcsnl.tumblr.com/\\nSNL Instagram: http://instagram.com/nbcsnl \\nSNL Pinterest: http://www.pinterest.com/nbcsnl/"
        ],
        [
         "7",
         "nc99ccSXST0",
         "17.14.11",
         "5 Ice Cream Gadgets put to the Test",
         "CrazyRussianHacker",
         "28",
         "2017-11-12T21:50:37.000Z",
         "5 Ice Cream Gadgets|\"Ice Cream\"|\"Cream Sandwich Maker\"|\"gadgets\"|\"gadget review\"|\"review\"|\"unboxing\"|\"kitchen gadgets\"|\"Gadgets put to the Test\"|\"testing\"|\"10 Kitchen Gadgets\"|\"7 Camping Coffee Gadgets\"|\"10 Kitchen Gadgets put to the Test\"",
         "817732",
         "23663",
         "778",
         "3432",
         "https://i.ytimg.com/vi/nc99ccSXST0/default.jpg",
         "False",
         "False",
         "False",
         "Ice Cream Pint Combination Lock - http://amzn.to/2ACipdI\\nMini Ice Cream Sandwich Maker - http://amzn.to/2ACiX3g\\nMotorized Ice Cream Cone - http://amzn.to/2jkrYdg\\nBall Ice Cream Maker - http://amzn.to/2AEbtwE\\nScoop and Stack - http://amzn.to/2zEMhGo\\n\\nSubscribe to: \\n2nd channel - https://www.youtube.com/user/origami768\\ninstagram https://instagram.com/crazyrussianhacker/\\nfacebook - https://www.facebook.com/CrazyRussianHacker\\n\\nDON'T TRY THIS AT HOME!\\n\\nBusiness email: crh.inquire@gmail.com\\n\\nFAN MAIL:  \\nCRAZY RUSSIAN HACKER\\nP.O. Box 49\\nWaynesville, NC 28786\\n\\nDISCLAIMER: In this video description contains affiliate links, which means that if you click on one of the product links, I’ll receive a small commission."
        ],
        [
         "8",
         "jr9QtXwC9vc",
         "17.14.11",
         "The Greatest Showman | Official Trailer 2 [HD] | 20th Century FOX",
         "20th Century Fox",
         "1",
         "2017-11-13T14:00:23.000Z",
         "Trailer|\"Hugh Jackman\"|\"Michelle Williams\"|\"Zac Efron\"|\"Zendaya\"|\"Rebecca Ferguson\"|\"pasek and paul\"|\"la la land\"|\"moulin rouge\"|\"high school musical\"|\"hugh jackman musical\"|\"zac efron musical\"|\"musical\"|\"the greatest showman\"|\"greatest showman\"|\"Michael Gracey\"|\"P.T. Barnum\"|\"Barnum and Bailey\"|\"Barnum Circus\"|\"Barnum and Bailey Circus\"|\"20th century fox\"|\"greatest showman trailer\"|\"trailer\"|\"official trailer\"|\"the greatest showman trailer\"|\"logan\"|\"Benj Pasek\"|\"Justin Paul\"",
         "826059",
         "3543",
         "119",
         "340",
         "https://i.ytimg.com/vi/jr9QtXwC9vc/default.jpg",
         "False",
         "False",
         "False",
         "Inspired by the imagination of P.T. Barnum, The Greatest Showman is an original musical that celebrates the birth of show business & tells of a visionary who rose from nothing to create a spectacle that became a worldwide sensation.\\n\\nIn Theaters This Christmas\\n\\nDirected By Michael Gracey\\nCast: Hugh Jackman, Michelle Williams, Zac Efron, Zendaya, Rebecca Ferguson\\n\\nSUBSCRIBE: http://bit.ly/FOXSubscribe\\n\\n\\nVisit the Official Site Here: http://www.foxmovies.com/movies/the-greatest-showman\\nLike The Greatest Showman on FACEBOOK: http://fox.co/GreatestShowmanFB\\nFollow The Greatest Showman on TWITTER: http://fox.co/GreatestShowmanTW\\nFollow The Greatest Showman on INSTAGRAM: http://fox.co/GreatestShowmanIG\\n\\n#GreatestShowman\\n\\nAbout 20th Century FOX:\\nOfficial YouTube Channel for 20th Century Fox Movies. Home of Avatar, Aliens, X-Men, Die Hard, Deadpool, Ice Age, Alvin and the Chipmunks, Rio, Peanuts, Maze Runner, Planet of the Apes, Wolverine and many more.\\n\\nConnect with 20th Century FOX Online:\\nVisit the 20th Century FOX WEBSITE: http://bit.ly/FOXMovie\\nLike 20th Century FOX on FACEBOOK: http://bit.ly/FOXFacebook\\nFollow 20th Century FOX on TWITTER: http://bit.ly/TwitterFOX\\n\\nThe Greatest Showman | Official Trailer 2 [HD] | 20th Century FOX\\nhttp://www.youtube.com/user/FoxMovies"
        ],
        [
         "9",
         "TUmyygCMMGA",
         "17.14.11",
         "Why the rise of the robots won’t mean the end of work",
         "Vox",
         "25",
         "2017-11-13T13:45:16.000Z",
         "vox.com|\"vox\"|\"explain\"|\"shift change\"|\"future of work\"|\"automation\"|\"robots\"|\"jobs\"|\"technological unemployment\"|\"joss fong\"|\"heidi shierholz\"|\"martin ford\"|\"rise of the robots\"|\"humans\"|\"workers\"|\"employment\"|\"economics\"|\"macroeconomics\"|\"silicon valley\"|\"basic income\"",
         "256426",
         "12654",
         "1363",
         "2368",
         "https://i.ytimg.com/vi/TUmyygCMMGA/default.jpg",
         "False",
         "False",
         "False",
         "For now, at least, we have better things to worry about.\\n\\n\\nSubscribe to our channel! http://goo.gl/0bsAjO\\n\\nSources: \\nhttps://economics.mit.edu/files/11563\\nhttps://www.aeaweb.org/full_issue.php?doi=10.1257/jep.29.3#page=33\\nhttp://voxeu.org/article/how-computer-automation-affects-occupations\\nhttps://www.opensocietyfoundations.org/sites/default/files/future-work-lit-review-20150428.pdf\\nhttps://obamawhitehouse.archives.gov/sites/whitehouse.gov/files/documents/Artificial-Intelligence-Automation-Economy.PDF\\nhttps://www.vox.com/2015/7/27/9038829/automation-myth\\nhttps://www.amazon.com/dp/B00PWX7RPG/ref=dp-kindle-redirect\\nhttps://www.amazon.com/Second-Machine-Age-Prosperity-Technologies-ebook/dp/B00D97HPQI/ref=sr_1_1\\nhttps://www.amazon.com/New-Division-Labor-Computers-Creating/dp/0691124027/ref=sr_1_1?\\nhttps://www.oxfordmartin.ox.ac.uk/downloads/academic/The_Future_of_Employment.pdf\\n\\nClips:\\nhttps://www.youtube.com/watch?v=VTlV0Y5yAww\\nhttps://www.youtube.com/watch?v=_luhn7TLfWU\\nhttps://www.youtube.com/watch?v=rVlhMGQgDkY\\nhttps://www.youtube.com/watch?v=rCoFKUJ_8Yo\\nhttps://www.youtube.com/watch?v=yeyn9zzrC84\\nhttps://www.youtube.com/watch?v=7Pq-S557XQU\\nhttps://www.youtube.com/watch?v=WSKi8HfcxEk\\n\\n///\\n\\nRecent advancements in artificial intelligence and robotics have commentators worrying about the coming obsolescence of the human worker. Some in Silicon Valley are even calling for a basic minimum income provided by the government for everyone, under the assumption that work will become scarce. But many economists are skeptical of these claims, because the notion that the the economy offers a fixed amount of work has been debunked time and time again over the centuries and current economic data show no signs of a productivity boom. Fortunately, we don't need to divine the future of the labor market in order to prepare for it. \\n\\n///\\n\\nVox.com is a news website that helps you cut through the noise and understand what's really driving the events in the headlines. Check out http://www.vox.com to get up to speed on everything from Kurdistan to the Kim Kardashian app. \\n\\nCheck out our full video catalog: http://goo.gl/IZONyE\\nFollow Vox on Twitter: http://goo.gl/XFrZ5H\\nOr on Facebook: http://goo.gl/U2g06o"
        ]
       ],
       "shape": {
        "columns": 16,
        "rows": 10
       }
      },
      "text/html": [
       "<div>\n",
       "<style scoped>\n",
       "    .dataframe tbody tr th:only-of-type {\n",
       "        vertical-align: middle;\n",
       "    }\n",
       "\n",
       "    .dataframe tbody tr th {\n",
       "        vertical-align: top;\n",
       "    }\n",
       "\n",
       "    .dataframe thead th {\n",
       "        text-align: right;\n",
       "    }\n",
       "</style>\n",
       "<table border=\"1\" class=\"dataframe\">\n",
       "  <thead>\n",
       "    <tr style=\"text-align: right;\">\n",
       "      <th></th>\n",
       "      <th>video_id</th>\n",
       "      <th>trending_date</th>\n",
       "      <th>title</th>\n",
       "      <th>channel_title</th>\n",
       "      <th>category_id</th>\n",
       "      <th>publish_time</th>\n",
       "      <th>tags</th>\n",
       "      <th>views</th>\n",
       "      <th>likes</th>\n",
       "      <th>dislikes</th>\n",
       "      <th>comment_count</th>\n",
       "      <th>thumbnail_link</th>\n",
       "      <th>comments_disabled</th>\n",
       "      <th>ratings_disabled</th>\n",
       "      <th>video_error_or_removed</th>\n",
       "      <th>description</th>\n",
       "    </tr>\n",
       "  </thead>\n",
       "  <tbody>\n",
       "    <tr>\n",
       "      <th>0</th>\n",
       "      <td>2kyS6SvSYSE</td>\n",
       "      <td>17.14.11</td>\n",
       "      <td>WE WANT TO TALK ABOUT OUR MARRIAGE</td>\n",
       "      <td>CaseyNeistat</td>\n",
       "      <td>22</td>\n",
       "      <td>2017-11-13T17:13:01.000Z</td>\n",
       "      <td>SHANtell martin</td>\n",
       "      <td>748374</td>\n",
       "      <td>57527</td>\n",
       "      <td>2966</td>\n",
       "      <td>15954</td>\n",
       "      <td>https://i.ytimg.com/vi/2kyS6SvSYSE/default.jpg</td>\n",
       "      <td>False</td>\n",
       "      <td>False</td>\n",
       "      <td>False</td>\n",
       "      <td>SHANTELL'S CHANNEL - https://www.youtube.com/s...</td>\n",
       "    </tr>\n",
       "    <tr>\n",
       "      <th>1</th>\n",
       "      <td>1ZAPwfrtAFY</td>\n",
       "      <td>17.14.11</td>\n",
       "      <td>The Trump Presidency: Last Week Tonight with J...</td>\n",
       "      <td>LastWeekTonight</td>\n",
       "      <td>24</td>\n",
       "      <td>2017-11-13T07:30:00.000Z</td>\n",
       "      <td>last week tonight trump presidency|\"last week ...</td>\n",
       "      <td>2418783</td>\n",
       "      <td>97185</td>\n",
       "      <td>6146</td>\n",
       "      <td>12703</td>\n",
       "      <td>https://i.ytimg.com/vi/1ZAPwfrtAFY/default.jpg</td>\n",
       "      <td>False</td>\n",
       "      <td>False</td>\n",
       "      <td>False</td>\n",
       "      <td>One year after the presidential election, John...</td>\n",
       "    </tr>\n",
       "    <tr>\n",
       "      <th>2</th>\n",
       "      <td>5qpjK5DgCt4</td>\n",
       "      <td>17.14.11</td>\n",
       "      <td>Racist Superman | Rudy Mancuso, King Bach &amp; Le...</td>\n",
       "      <td>Rudy Mancuso</td>\n",
       "      <td>23</td>\n",
       "      <td>2017-11-12T19:05:24.000Z</td>\n",
       "      <td>racist superman|\"rudy\"|\"mancuso\"|\"king\"|\"bach\"...</td>\n",
       "      <td>3191434</td>\n",
       "      <td>146033</td>\n",
       "      <td>5339</td>\n",
       "      <td>8181</td>\n",
       "      <td>https://i.ytimg.com/vi/5qpjK5DgCt4/default.jpg</td>\n",
       "      <td>False</td>\n",
       "      <td>False</td>\n",
       "      <td>False</td>\n",
       "      <td>WATCH MY PREVIOUS VIDEO ▶ \\n\\nSUBSCRIBE ► http...</td>\n",
       "    </tr>\n",
       "    <tr>\n",
       "      <th>3</th>\n",
       "      <td>puqaWrEC7tY</td>\n",
       "      <td>17.14.11</td>\n",
       "      <td>Nickelback Lyrics: Real or Fake?</td>\n",
       "      <td>Good Mythical Morning</td>\n",
       "      <td>24</td>\n",
       "      <td>2017-11-13T11:00:04.000Z</td>\n",
       "      <td>rhett and link|\"gmm\"|\"good mythical morning\"|\"...</td>\n",
       "      <td>343168</td>\n",
       "      <td>10172</td>\n",
       "      <td>666</td>\n",
       "      <td>2146</td>\n",
       "      <td>https://i.ytimg.com/vi/puqaWrEC7tY/default.jpg</td>\n",
       "      <td>False</td>\n",
       "      <td>False</td>\n",
       "      <td>False</td>\n",
       "      <td>Today we find out if Link is a Nickelback amat...</td>\n",
       "    </tr>\n",
       "    <tr>\n",
       "      <th>4</th>\n",
       "      <td>d380meD0W0M</td>\n",
       "      <td>17.14.11</td>\n",
       "      <td>I Dare You: GOING BALD!?</td>\n",
       "      <td>nigahiga</td>\n",
       "      <td>24</td>\n",
       "      <td>2017-11-12T18:01:41.000Z</td>\n",
       "      <td>ryan|\"higa\"|\"higatv\"|\"nigahiga\"|\"i dare you\"|\"...</td>\n",
       "      <td>2095731</td>\n",
       "      <td>132235</td>\n",
       "      <td>1989</td>\n",
       "      <td>17518</td>\n",
       "      <td>https://i.ytimg.com/vi/d380meD0W0M/default.jpg</td>\n",
       "      <td>False</td>\n",
       "      <td>False</td>\n",
       "      <td>False</td>\n",
       "      <td>I know it's been a while since we did this sho...</td>\n",
       "    </tr>\n",
       "    <tr>\n",
       "      <th>5</th>\n",
       "      <td>gHZ1Qz0KiKM</td>\n",
       "      <td>17.14.11</td>\n",
       "      <td>2 Weeks with iPhone X</td>\n",
       "      <td>iJustine</td>\n",
       "      <td>28</td>\n",
       "      <td>2017-11-13T19:07:23.000Z</td>\n",
       "      <td>ijustine|\"week with iPhone X\"|\"iphone x\"|\"appl...</td>\n",
       "      <td>119180</td>\n",
       "      <td>9763</td>\n",
       "      <td>511</td>\n",
       "      <td>1434</td>\n",
       "      <td>https://i.ytimg.com/vi/gHZ1Qz0KiKM/default.jpg</td>\n",
       "      <td>False</td>\n",
       "      <td>False</td>\n",
       "      <td>False</td>\n",
       "      <td>Using the iPhone for the past two weeks -- her...</td>\n",
       "    </tr>\n",
       "    <tr>\n",
       "      <th>6</th>\n",
       "      <td>39idVpFF7NQ</td>\n",
       "      <td>17.14.11</td>\n",
       "      <td>Roy Moore &amp; Jeff Sessions Cold Open - SNL</td>\n",
       "      <td>Saturday Night Live</td>\n",
       "      <td>24</td>\n",
       "      <td>2017-11-12T05:37:17.000Z</td>\n",
       "      <td>SNL|\"Saturday Night Live\"|\"SNL Season 43\"|\"Epi...</td>\n",
       "      <td>2103417</td>\n",
       "      <td>15993</td>\n",
       "      <td>2445</td>\n",
       "      <td>1970</td>\n",
       "      <td>https://i.ytimg.com/vi/39idVpFF7NQ/default.jpg</td>\n",
       "      <td>False</td>\n",
       "      <td>False</td>\n",
       "      <td>False</td>\n",
       "      <td>Embattled Alabama Senate candidate Roy Moore (...</td>\n",
       "    </tr>\n",
       "    <tr>\n",
       "      <th>7</th>\n",
       "      <td>nc99ccSXST0</td>\n",
       "      <td>17.14.11</td>\n",
       "      <td>5 Ice Cream Gadgets put to the Test</td>\n",
       "      <td>CrazyRussianHacker</td>\n",
       "      <td>28</td>\n",
       "      <td>2017-11-12T21:50:37.000Z</td>\n",
       "      <td>5 Ice Cream Gadgets|\"Ice Cream\"|\"Cream Sandwic...</td>\n",
       "      <td>817732</td>\n",
       "      <td>23663</td>\n",
       "      <td>778</td>\n",
       "      <td>3432</td>\n",
       "      <td>https://i.ytimg.com/vi/nc99ccSXST0/default.jpg</td>\n",
       "      <td>False</td>\n",
       "      <td>False</td>\n",
       "      <td>False</td>\n",
       "      <td>Ice Cream Pint Combination Lock - http://amzn....</td>\n",
       "    </tr>\n",
       "    <tr>\n",
       "      <th>8</th>\n",
       "      <td>jr9QtXwC9vc</td>\n",
       "      <td>17.14.11</td>\n",
       "      <td>The Greatest Showman | Official Trailer 2 [HD]...</td>\n",
       "      <td>20th Century Fox</td>\n",
       "      <td>1</td>\n",
       "      <td>2017-11-13T14:00:23.000Z</td>\n",
       "      <td>Trailer|\"Hugh Jackman\"|\"Michelle Williams\"|\"Za...</td>\n",
       "      <td>826059</td>\n",
       "      <td>3543</td>\n",
       "      <td>119</td>\n",
       "      <td>340</td>\n",
       "      <td>https://i.ytimg.com/vi/jr9QtXwC9vc/default.jpg</td>\n",
       "      <td>False</td>\n",
       "      <td>False</td>\n",
       "      <td>False</td>\n",
       "      <td>Inspired by the imagination of P.T. Barnum, Th...</td>\n",
       "    </tr>\n",
       "    <tr>\n",
       "      <th>9</th>\n",
       "      <td>TUmyygCMMGA</td>\n",
       "      <td>17.14.11</td>\n",
       "      <td>Why the rise of the robots won’t mean the end ...</td>\n",
       "      <td>Vox</td>\n",
       "      <td>25</td>\n",
       "      <td>2017-11-13T13:45:16.000Z</td>\n",
       "      <td>vox.com|\"vox\"|\"explain\"|\"shift change\"|\"future...</td>\n",
       "      <td>256426</td>\n",
       "      <td>12654</td>\n",
       "      <td>1363</td>\n",
       "      <td>2368</td>\n",
       "      <td>https://i.ytimg.com/vi/TUmyygCMMGA/default.jpg</td>\n",
       "      <td>False</td>\n",
       "      <td>False</td>\n",
       "      <td>False</td>\n",
       "      <td>For now, at least, we have better things to wo...</td>\n",
       "    </tr>\n",
       "  </tbody>\n",
       "</table>\n",
       "</div>"
      ],
      "text/plain": [
       "      video_id trending_date  \\\n",
       "0  2kyS6SvSYSE      17.14.11   \n",
       "1  1ZAPwfrtAFY      17.14.11   \n",
       "2  5qpjK5DgCt4      17.14.11   \n",
       "3  puqaWrEC7tY      17.14.11   \n",
       "4  d380meD0W0M      17.14.11   \n",
       "5  gHZ1Qz0KiKM      17.14.11   \n",
       "6  39idVpFF7NQ      17.14.11   \n",
       "7  nc99ccSXST0      17.14.11   \n",
       "8  jr9QtXwC9vc      17.14.11   \n",
       "9  TUmyygCMMGA      17.14.11   \n",
       "\n",
       "                                               title          channel_title  \\\n",
       "0                 WE WANT TO TALK ABOUT OUR MARRIAGE           CaseyNeistat   \n",
       "1  The Trump Presidency: Last Week Tonight with J...        LastWeekTonight   \n",
       "2  Racist Superman | Rudy Mancuso, King Bach & Le...           Rudy Mancuso   \n",
       "3                   Nickelback Lyrics: Real or Fake?  Good Mythical Morning   \n",
       "4                           I Dare You: GOING BALD!?               nigahiga   \n",
       "5                              2 Weeks with iPhone X               iJustine   \n",
       "6          Roy Moore & Jeff Sessions Cold Open - SNL    Saturday Night Live   \n",
       "7                5 Ice Cream Gadgets put to the Test     CrazyRussianHacker   \n",
       "8  The Greatest Showman | Official Trailer 2 [HD]...       20th Century Fox   \n",
       "9  Why the rise of the robots won’t mean the end ...                    Vox   \n",
       "\n",
       "   category_id              publish_time  \\\n",
       "0           22  2017-11-13T17:13:01.000Z   \n",
       "1           24  2017-11-13T07:30:00.000Z   \n",
       "2           23  2017-11-12T19:05:24.000Z   \n",
       "3           24  2017-11-13T11:00:04.000Z   \n",
       "4           24  2017-11-12T18:01:41.000Z   \n",
       "5           28  2017-11-13T19:07:23.000Z   \n",
       "6           24  2017-11-12T05:37:17.000Z   \n",
       "7           28  2017-11-12T21:50:37.000Z   \n",
       "8            1  2017-11-13T14:00:23.000Z   \n",
       "9           25  2017-11-13T13:45:16.000Z   \n",
       "\n",
       "                                                tags    views   likes  \\\n",
       "0                                    SHANtell martin   748374   57527   \n",
       "1  last week tonight trump presidency|\"last week ...  2418783   97185   \n",
       "2  racist superman|\"rudy\"|\"mancuso\"|\"king\"|\"bach\"...  3191434  146033   \n",
       "3  rhett and link|\"gmm\"|\"good mythical morning\"|\"...   343168   10172   \n",
       "4  ryan|\"higa\"|\"higatv\"|\"nigahiga\"|\"i dare you\"|\"...  2095731  132235   \n",
       "5  ijustine|\"week with iPhone X\"|\"iphone x\"|\"appl...   119180    9763   \n",
       "6  SNL|\"Saturday Night Live\"|\"SNL Season 43\"|\"Epi...  2103417   15993   \n",
       "7  5 Ice Cream Gadgets|\"Ice Cream\"|\"Cream Sandwic...   817732   23663   \n",
       "8  Trailer|\"Hugh Jackman\"|\"Michelle Williams\"|\"Za...   826059    3543   \n",
       "9  vox.com|\"vox\"|\"explain\"|\"shift change\"|\"future...   256426   12654   \n",
       "\n",
       "   dislikes  comment_count                                  thumbnail_link  \\\n",
       "0      2966          15954  https://i.ytimg.com/vi/2kyS6SvSYSE/default.jpg   \n",
       "1      6146          12703  https://i.ytimg.com/vi/1ZAPwfrtAFY/default.jpg   \n",
       "2      5339           8181  https://i.ytimg.com/vi/5qpjK5DgCt4/default.jpg   \n",
       "3       666           2146  https://i.ytimg.com/vi/puqaWrEC7tY/default.jpg   \n",
       "4      1989          17518  https://i.ytimg.com/vi/d380meD0W0M/default.jpg   \n",
       "5       511           1434  https://i.ytimg.com/vi/gHZ1Qz0KiKM/default.jpg   \n",
       "6      2445           1970  https://i.ytimg.com/vi/39idVpFF7NQ/default.jpg   \n",
       "7       778           3432  https://i.ytimg.com/vi/nc99ccSXST0/default.jpg   \n",
       "8       119            340  https://i.ytimg.com/vi/jr9QtXwC9vc/default.jpg   \n",
       "9      1363           2368  https://i.ytimg.com/vi/TUmyygCMMGA/default.jpg   \n",
       "\n",
       "   comments_disabled  ratings_disabled  video_error_or_removed  \\\n",
       "0              False             False                   False   \n",
       "1              False             False                   False   \n",
       "2              False             False                   False   \n",
       "3              False             False                   False   \n",
       "4              False             False                   False   \n",
       "5              False             False                   False   \n",
       "6              False             False                   False   \n",
       "7              False             False                   False   \n",
       "8              False             False                   False   \n",
       "9              False             False                   False   \n",
       "\n",
       "                                         description  \n",
       "0  SHANTELL'S CHANNEL - https://www.youtube.com/s...  \n",
       "1  One year after the presidential election, John...  \n",
       "2  WATCH MY PREVIOUS VIDEO ▶ \\n\\nSUBSCRIBE ► http...  \n",
       "3  Today we find out if Link is a Nickelback amat...  \n",
       "4  I know it's been a while since we did this sho...  \n",
       "5  Using the iPhone for the past two weeks -- her...  \n",
       "6  Embattled Alabama Senate candidate Roy Moore (...  \n",
       "7  Ice Cream Pint Combination Lock - http://amzn....  \n",
       "8  Inspired by the imagination of P.T. Barnum, Th...  \n",
       "9  For now, at least, we have better things to wo...  "
      ]
     },
     "metadata": {},
     "output_type": "display_data"
    },
    {
     "name": "stdout",
     "output_type": "stream",
     "text": [
      "\n",
      "Informations générales:\n",
      "<class 'pandas.core.frame.DataFrame'>\n",
      "RangeIndex: 40949 entries, 0 to 40948\n",
      "Data columns (total 16 columns):\n",
      " #   Column                  Non-Null Count  Dtype \n",
      "---  ------                  --------------  ----- \n",
      " 0   video_id                40949 non-null  object\n",
      " 1   trending_date           40949 non-null  object\n",
      " 2   title                   40949 non-null  object\n",
      " 3   channel_title           40949 non-null  object\n",
      " 4   category_id             40949 non-null  int64 \n",
      " 5   publish_time            40949 non-null  object\n",
      " 6   tags                    40949 non-null  object\n",
      " 7   views                   40949 non-null  int64 \n",
      " 8   likes                   40949 non-null  int64 \n",
      " 9   dislikes                40949 non-null  int64 \n",
      " 10  comment_count           40949 non-null  int64 \n",
      " 11  thumbnail_link          40949 non-null  object\n",
      " 12  comments_disabled       40949 non-null  bool  \n",
      " 13  ratings_disabled        40949 non-null  bool  \n",
      " 14  video_error_or_removed  40949 non-null  bool  \n",
      " 15  description             40379 non-null  object\n",
      "dtypes: bool(3), int64(5), object(8)\n",
      "memory usage: 4.2+ MB\n"
     ]
    },
    {
     "data": {
      "text/plain": [
       "None"
      ]
     },
     "metadata": {},
     "output_type": "display_data"
    },
    {
     "name": "stdout",
     "output_type": "stream",
     "text": [
      "Shape: ....\n"
     ]
    },
    {
     "data": {
      "application/vnd.microsoft.datawrangler.viewer.v0+json": {
       "columns": [
        {
         "name": "index",
         "rawType": "object",
         "type": "string"
        },
        {
         "name": "count",
         "rawType": "object",
         "type": "unknown"
        },
        {
         "name": "unique",
         "rawType": "object",
         "type": "unknown"
        },
        {
         "name": "top",
         "rawType": "object",
         "type": "unknown"
        },
        {
         "name": "freq",
         "rawType": "object",
         "type": "unknown"
        },
        {
         "name": "mean",
         "rawType": "object",
         "type": "unknown"
        },
        {
         "name": "std",
         "rawType": "object",
         "type": "unknown"
        },
        {
         "name": "min",
         "rawType": "object",
         "type": "unknown"
        },
        {
         "name": "25%",
         "rawType": "object",
         "type": "unknown"
        },
        {
         "name": "50%",
         "rawType": "object",
         "type": "unknown"
        },
        {
         "name": "75%",
         "rawType": "object",
         "type": "unknown"
        },
        {
         "name": "max",
         "rawType": "object",
         "type": "unknown"
        }
       ],
       "ref": "03a01035-a8b2-43ae-84b5-c3f6ec2b7d7e",
       "rows": [
        [
         "video_id",
         "40949",
         "6351",
         "j4KvrAUjn6c",
         "30",
         null,
         null,
         null,
         null,
         null,
         null,
         null
        ],
        [
         "trending_date",
         "40949",
         "205",
         "17.14.11",
         "200",
         null,
         null,
         null,
         null,
         null,
         null,
         null
        ],
        [
         "title",
         "40949",
         "6455",
         "WE MADE OUR MOM CRY...HER DREAM CAME TRUE!",
         "30",
         null,
         null,
         null,
         null,
         null,
         null,
         null
        ],
        [
         "channel_title",
         "40949",
         "2207",
         "ESPN",
         "203",
         null,
         null,
         null,
         null,
         null,
         null,
         null
        ],
        [
         "category_id",
         "40949.0",
         null,
         null,
         null,
         "19.97242911914821",
         "7.56832682828046",
         "1.0",
         "17.0",
         "24.0",
         "25.0",
         "43.0"
        ],
        [
         "publish_time",
         "40949",
         "6269",
         "2018-05-18T14:00:04.000Z",
         "50",
         null,
         null,
         null,
         null,
         null,
         null,
         null
        ],
        [
         "tags",
         "40949",
         "6055",
         "[none]",
         "1535",
         null,
         null,
         null,
         null,
         null,
         null,
         null
        ],
        [
         "views",
         "40949.0",
         null,
         null,
         null,
         "2360784.6382573447",
         "7394113.75970394",
         "549.0",
         "242329.0",
         "681861.0",
         "1823157.0",
         "225211923.0"
        ],
        [
         "likes",
         "40949.0",
         null,
         null,
         null,
         "74266.7024347359",
         "228885.33820949917",
         "0.0",
         "5424.0",
         "18091.0",
         "55417.0",
         "5613827.0"
        ],
        [
         "dislikes",
         "40949.0",
         null,
         null,
         null,
         "3711.400888910596",
         "29029.705945001795",
         "0.0",
         "202.0",
         "631.0",
         "1938.0",
         "1674420.0"
        ],
        [
         "comment_count",
         "40949.0",
         null,
         null,
         null,
         "8446.803682629612",
         "37430.48699437981",
         "0.0",
         "614.0",
         "1856.0",
         "5755.0",
         "1361580.0"
        ],
        [
         "thumbnail_link",
         "40949",
         "6352",
         "https://i.ytimg.com/vi/j4KvrAUjn6c/default.jpg",
         "30",
         null,
         null,
         null,
         null,
         null,
         null,
         null
        ],
        [
         "comments_disabled",
         "40949",
         "2",
         "False",
         "40316",
         null,
         null,
         null,
         null,
         null,
         null,
         null
        ],
        [
         "ratings_disabled",
         "40949",
         "2",
         "False",
         "40780",
         null,
         null,
         null,
         null,
         null,
         null,
         null
        ],
        [
         "video_error_or_removed",
         "40949",
         "2",
         "False",
         "40926",
         null,
         null,
         null,
         null,
         null,
         null,
         null
        ],
        [
         "description",
         "40379",
         "6901",
         "► Listen LIVE: http://power1051fm.com/\\n► Facebook: https://www.facebook.com/Power1051NY/\\n► Twitter: https://twitter.com/power1051/\\n► Instagram: https://www.instagram.com/power1051/",
         "58",
         null,
         null,
         null,
         null,
         null,
         null,
         null
        ]
       ],
       "shape": {
        "columns": 11,
        "rows": 16
       }
      },
      "text/html": [
       "<div>\n",
       "<style scoped>\n",
       "    .dataframe tbody tr th:only-of-type {\n",
       "        vertical-align: middle;\n",
       "    }\n",
       "\n",
       "    .dataframe tbody tr th {\n",
       "        vertical-align: top;\n",
       "    }\n",
       "\n",
       "    .dataframe thead th {\n",
       "        text-align: right;\n",
       "    }\n",
       "</style>\n",
       "<table border=\"1\" class=\"dataframe\">\n",
       "  <thead>\n",
       "    <tr style=\"text-align: right;\">\n",
       "      <th></th>\n",
       "      <th>count</th>\n",
       "      <th>unique</th>\n",
       "      <th>top</th>\n",
       "      <th>freq</th>\n",
       "      <th>mean</th>\n",
       "      <th>std</th>\n",
       "      <th>min</th>\n",
       "      <th>25%</th>\n",
       "      <th>50%</th>\n",
       "      <th>75%</th>\n",
       "      <th>max</th>\n",
       "    </tr>\n",
       "  </thead>\n",
       "  <tbody>\n",
       "    <tr>\n",
       "      <th>video_id</th>\n",
       "      <td>40949</td>\n",
       "      <td>6351</td>\n",
       "      <td>j4KvrAUjn6c</td>\n",
       "      <td>30</td>\n",
       "      <td>NaN</td>\n",
       "      <td>NaN</td>\n",
       "      <td>NaN</td>\n",
       "      <td>NaN</td>\n",
       "      <td>NaN</td>\n",
       "      <td>NaN</td>\n",
       "      <td>NaN</td>\n",
       "    </tr>\n",
       "    <tr>\n",
       "      <th>trending_date</th>\n",
       "      <td>40949</td>\n",
       "      <td>205</td>\n",
       "      <td>17.14.11</td>\n",
       "      <td>200</td>\n",
       "      <td>NaN</td>\n",
       "      <td>NaN</td>\n",
       "      <td>NaN</td>\n",
       "      <td>NaN</td>\n",
       "      <td>NaN</td>\n",
       "      <td>NaN</td>\n",
       "      <td>NaN</td>\n",
       "    </tr>\n",
       "    <tr>\n",
       "      <th>title</th>\n",
       "      <td>40949</td>\n",
       "      <td>6455</td>\n",
       "      <td>WE MADE OUR MOM CRY...HER DREAM CAME TRUE!</td>\n",
       "      <td>30</td>\n",
       "      <td>NaN</td>\n",
       "      <td>NaN</td>\n",
       "      <td>NaN</td>\n",
       "      <td>NaN</td>\n",
       "      <td>NaN</td>\n",
       "      <td>NaN</td>\n",
       "      <td>NaN</td>\n",
       "    </tr>\n",
       "    <tr>\n",
       "      <th>channel_title</th>\n",
       "      <td>40949</td>\n",
       "      <td>2207</td>\n",
       "      <td>ESPN</td>\n",
       "      <td>203</td>\n",
       "      <td>NaN</td>\n",
       "      <td>NaN</td>\n",
       "      <td>NaN</td>\n",
       "      <td>NaN</td>\n",
       "      <td>NaN</td>\n",
       "      <td>NaN</td>\n",
       "      <td>NaN</td>\n",
       "    </tr>\n",
       "    <tr>\n",
       "      <th>category_id</th>\n",
       "      <td>40949.0</td>\n",
       "      <td>NaN</td>\n",
       "      <td>NaN</td>\n",
       "      <td>NaN</td>\n",
       "      <td>19.972429</td>\n",
       "      <td>7.568327</td>\n",
       "      <td>1.0</td>\n",
       "      <td>17.0</td>\n",
       "      <td>24.0</td>\n",
       "      <td>25.0</td>\n",
       "      <td>43.0</td>\n",
       "    </tr>\n",
       "    <tr>\n",
       "      <th>publish_time</th>\n",
       "      <td>40949</td>\n",
       "      <td>6269</td>\n",
       "      <td>2018-05-18T14:00:04.000Z</td>\n",
       "      <td>50</td>\n",
       "      <td>NaN</td>\n",
       "      <td>NaN</td>\n",
       "      <td>NaN</td>\n",
       "      <td>NaN</td>\n",
       "      <td>NaN</td>\n",
       "      <td>NaN</td>\n",
       "      <td>NaN</td>\n",
       "    </tr>\n",
       "    <tr>\n",
       "      <th>tags</th>\n",
       "      <td>40949</td>\n",
       "      <td>6055</td>\n",
       "      <td>[none]</td>\n",
       "      <td>1535</td>\n",
       "      <td>NaN</td>\n",
       "      <td>NaN</td>\n",
       "      <td>NaN</td>\n",
       "      <td>NaN</td>\n",
       "      <td>NaN</td>\n",
       "      <td>NaN</td>\n",
       "      <td>NaN</td>\n",
       "    </tr>\n",
       "    <tr>\n",
       "      <th>views</th>\n",
       "      <td>40949.0</td>\n",
       "      <td>NaN</td>\n",
       "      <td>NaN</td>\n",
       "      <td>NaN</td>\n",
       "      <td>2360784.638257</td>\n",
       "      <td>7394113.759704</td>\n",
       "      <td>549.0</td>\n",
       "      <td>242329.0</td>\n",
       "      <td>681861.0</td>\n",
       "      <td>1823157.0</td>\n",
       "      <td>225211923.0</td>\n",
       "    </tr>\n",
       "    <tr>\n",
       "      <th>likes</th>\n",
       "      <td>40949.0</td>\n",
       "      <td>NaN</td>\n",
       "      <td>NaN</td>\n",
       "      <td>NaN</td>\n",
       "      <td>74266.702435</td>\n",
       "      <td>228885.338209</td>\n",
       "      <td>0.0</td>\n",
       "      <td>5424.0</td>\n",
       "      <td>18091.0</td>\n",
       "      <td>55417.0</td>\n",
       "      <td>5613827.0</td>\n",
       "    </tr>\n",
       "    <tr>\n",
       "      <th>dislikes</th>\n",
       "      <td>40949.0</td>\n",
       "      <td>NaN</td>\n",
       "      <td>NaN</td>\n",
       "      <td>NaN</td>\n",
       "      <td>3711.400889</td>\n",
       "      <td>29029.705945</td>\n",
       "      <td>0.0</td>\n",
       "      <td>202.0</td>\n",
       "      <td>631.0</td>\n",
       "      <td>1938.0</td>\n",
       "      <td>1674420.0</td>\n",
       "    </tr>\n",
       "    <tr>\n",
       "      <th>comment_count</th>\n",
       "      <td>40949.0</td>\n",
       "      <td>NaN</td>\n",
       "      <td>NaN</td>\n",
       "      <td>NaN</td>\n",
       "      <td>8446.803683</td>\n",
       "      <td>37430.486994</td>\n",
       "      <td>0.0</td>\n",
       "      <td>614.0</td>\n",
       "      <td>1856.0</td>\n",
       "      <td>5755.0</td>\n",
       "      <td>1361580.0</td>\n",
       "    </tr>\n",
       "    <tr>\n",
       "      <th>thumbnail_link</th>\n",
       "      <td>40949</td>\n",
       "      <td>6352</td>\n",
       "      <td>https://i.ytimg.com/vi/j4KvrAUjn6c/default.jpg</td>\n",
       "      <td>30</td>\n",
       "      <td>NaN</td>\n",
       "      <td>NaN</td>\n",
       "      <td>NaN</td>\n",
       "      <td>NaN</td>\n",
       "      <td>NaN</td>\n",
       "      <td>NaN</td>\n",
       "      <td>NaN</td>\n",
       "    </tr>\n",
       "    <tr>\n",
       "      <th>comments_disabled</th>\n",
       "      <td>40949</td>\n",
       "      <td>2</td>\n",
       "      <td>False</td>\n",
       "      <td>40316</td>\n",
       "      <td>NaN</td>\n",
       "      <td>NaN</td>\n",
       "      <td>NaN</td>\n",
       "      <td>NaN</td>\n",
       "      <td>NaN</td>\n",
       "      <td>NaN</td>\n",
       "      <td>NaN</td>\n",
       "    </tr>\n",
       "    <tr>\n",
       "      <th>ratings_disabled</th>\n",
       "      <td>40949</td>\n",
       "      <td>2</td>\n",
       "      <td>False</td>\n",
       "      <td>40780</td>\n",
       "      <td>NaN</td>\n",
       "      <td>NaN</td>\n",
       "      <td>NaN</td>\n",
       "      <td>NaN</td>\n",
       "      <td>NaN</td>\n",
       "      <td>NaN</td>\n",
       "      <td>NaN</td>\n",
       "    </tr>\n",
       "    <tr>\n",
       "      <th>video_error_or_removed</th>\n",
       "      <td>40949</td>\n",
       "      <td>2</td>\n",
       "      <td>False</td>\n",
       "      <td>40926</td>\n",
       "      <td>NaN</td>\n",
       "      <td>NaN</td>\n",
       "      <td>NaN</td>\n",
       "      <td>NaN</td>\n",
       "      <td>NaN</td>\n",
       "      <td>NaN</td>\n",
       "      <td>NaN</td>\n",
       "    </tr>\n",
       "    <tr>\n",
       "      <th>description</th>\n",
       "      <td>40379</td>\n",
       "      <td>6901</td>\n",
       "      <td>► Listen LIVE: http://power1051fm.com/\\n► Face...</td>\n",
       "      <td>58</td>\n",
       "      <td>NaN</td>\n",
       "      <td>NaN</td>\n",
       "      <td>NaN</td>\n",
       "      <td>NaN</td>\n",
       "      <td>NaN</td>\n",
       "      <td>NaN</td>\n",
       "      <td>NaN</td>\n",
       "    </tr>\n",
       "  </tbody>\n",
       "</table>\n",
       "</div>"
      ],
      "text/plain": [
       "                          count unique  \\\n",
       "video_id                  40949   6351   \n",
       "trending_date             40949    205   \n",
       "title                     40949   6455   \n",
       "channel_title             40949   2207   \n",
       "category_id             40949.0    NaN   \n",
       "publish_time              40949   6269   \n",
       "tags                      40949   6055   \n",
       "views                   40949.0    NaN   \n",
       "likes                   40949.0    NaN   \n",
       "dislikes                40949.0    NaN   \n",
       "comment_count           40949.0    NaN   \n",
       "thumbnail_link            40949   6352   \n",
       "comments_disabled         40949      2   \n",
       "ratings_disabled          40949      2   \n",
       "video_error_or_removed    40949      2   \n",
       "description               40379   6901   \n",
       "\n",
       "                                                                      top  \\\n",
       "video_id                                                      j4KvrAUjn6c   \n",
       "trending_date                                                    17.14.11   \n",
       "title                          WE MADE OUR MOM CRY...HER DREAM CAME TRUE!   \n",
       "channel_title                                                        ESPN   \n",
       "category_id                                                           NaN   \n",
       "publish_time                                     2018-05-18T14:00:04.000Z   \n",
       "tags                                                               [none]   \n",
       "views                                                                 NaN   \n",
       "likes                                                                 NaN   \n",
       "dislikes                                                              NaN   \n",
       "comment_count                                                         NaN   \n",
       "thumbnail_link             https://i.ytimg.com/vi/j4KvrAUjn6c/default.jpg   \n",
       "comments_disabled                                                   False   \n",
       "ratings_disabled                                                    False   \n",
       "video_error_or_removed                                              False   \n",
       "description             ► Listen LIVE: http://power1051fm.com/\\n► Face...   \n",
       "\n",
       "                         freq            mean             std    min  \\\n",
       "video_id                   30             NaN             NaN    NaN   \n",
       "trending_date             200             NaN             NaN    NaN   \n",
       "title                      30             NaN             NaN    NaN   \n",
       "channel_title             203             NaN             NaN    NaN   \n",
       "category_id               NaN       19.972429        7.568327    1.0   \n",
       "publish_time               50             NaN             NaN    NaN   \n",
       "tags                     1535             NaN             NaN    NaN   \n",
       "views                     NaN  2360784.638257  7394113.759704  549.0   \n",
       "likes                     NaN    74266.702435   228885.338209    0.0   \n",
       "dislikes                  NaN     3711.400889    29029.705945    0.0   \n",
       "comment_count             NaN     8446.803683    37430.486994    0.0   \n",
       "thumbnail_link             30             NaN             NaN    NaN   \n",
       "comments_disabled       40316             NaN             NaN    NaN   \n",
       "ratings_disabled        40780             NaN             NaN    NaN   \n",
       "video_error_or_removed  40926             NaN             NaN    NaN   \n",
       "description                58             NaN             NaN    NaN   \n",
       "\n",
       "                             25%       50%        75%          max  \n",
       "video_id                     NaN       NaN        NaN          NaN  \n",
       "trending_date                NaN       NaN        NaN          NaN  \n",
       "title                        NaN       NaN        NaN          NaN  \n",
       "channel_title                NaN       NaN        NaN          NaN  \n",
       "category_id                 17.0      24.0       25.0         43.0  \n",
       "publish_time                 NaN       NaN        NaN          NaN  \n",
       "tags                         NaN       NaN        NaN          NaN  \n",
       "views                   242329.0  681861.0  1823157.0  225211923.0  \n",
       "likes                     5424.0   18091.0    55417.0    5613827.0  \n",
       "dislikes                   202.0     631.0     1938.0    1674420.0  \n",
       "comment_count              614.0    1856.0     5755.0    1361580.0  \n",
       "thumbnail_link               NaN       NaN        NaN          NaN  \n",
       "comments_disabled            NaN       NaN        NaN          NaN  \n",
       "ratings_disabled             NaN       NaN        NaN          NaN  \n",
       "video_error_or_removed       NaN       NaN        NaN          NaN  \n",
       "description                  NaN       NaN        NaN          NaN  "
      ]
     },
     "metadata": {},
     "output_type": "display_data"
    }
   ],
   "source": [
    "# VOTRE CODE ICI - Section 2.1\n",
    "import pandas as pd\n",
    "df = pd.read_csv('~/youtube-popularity-ml/archive/USvideos.csv', encoding='utf-8')\n",
    "print(\"Premières lignes:\")\n",
    "display(df.head(10))\n",
    "print(\"\\nInformations générales:\")\n",
    "display(df.info())\n",
    "print(\"Shape: ....\")\n",
    "display(df.describe(include='all').transpose())"
   ]
  },
  {
   "cell_type": "markdown",
   "id": "ba03a263",
   "metadata": {},
   "source": [
    "**Consigne 2.2 — Analyse des valeurs manquantes**  \n",
    "- Comptez les valeurs manquantes par colonne  \n",
    "- Identifiez les colonnes avec le plus de valeurs manquantes  \n",
    "- Affichez le pourcentage de valeurs manquantes"
   ]
  },
  {
   "cell_type": "code",
   "execution_count": 4,
   "id": "44aa87cf",
   "metadata": {},
   "outputs": [
    {
     "name": "stdout",
     "output_type": "stream",
     "text": [
      "Valeurs manquantes (nombre):\n"
     ]
    },
    {
     "data": {
      "application/vnd.microsoft.datawrangler.viewer.v0+json": {
       "columns": [
        {
         "name": "index",
         "rawType": "object",
         "type": "string"
        },
        {
         "name": "0",
         "rawType": "int64",
         "type": "integer"
        }
       ],
       "ref": "0b74a1c2-7738-414b-a404-33093783bf5f",
       "rows": [
        [
         "video_id",
         "0"
        ],
        [
         "trending_date",
         "0"
        ],
        [
         "title",
         "0"
        ],
        [
         "channel_title",
         "0"
        ],
        [
         "category_id",
         "0"
        ],
        [
         "publish_time",
         "0"
        ],
        [
         "tags",
         "0"
        ],
        [
         "views",
         "0"
        ],
        [
         "likes",
         "0"
        ],
        [
         "dislikes",
         "0"
        ],
        [
         "comment_count",
         "0"
        ],
        [
         "thumbnail_link",
         "0"
        ],
        [
         "comments_disabled",
         "0"
        ],
        [
         "ratings_disabled",
         "0"
        ],
        [
         "video_error_or_removed",
         "0"
        ],
        [
         "description",
         "570"
        ]
       ],
       "shape": {
        "columns": 1,
        "rows": 16
       }
      },
      "text/plain": [
       "video_id                    0\n",
       "trending_date               0\n",
       "title                       0\n",
       "channel_title               0\n",
       "category_id                 0\n",
       "publish_time                0\n",
       "tags                        0\n",
       "views                       0\n",
       "likes                       0\n",
       "dislikes                    0\n",
       "comment_count               0\n",
       "thumbnail_link              0\n",
       "comments_disabled           0\n",
       "ratings_disabled            0\n",
       "video_error_or_removed      0\n",
       "description               570\n",
       "dtype: int64"
      ]
     },
     "metadata": {},
     "output_type": "display_data"
    },
    {
     "name": "stdout",
     "output_type": "stream",
     "text": [
      "\n",
      "Valeurs manquantes (pourcentage):\n"
     ]
    },
    {
     "data": {
      "application/vnd.microsoft.datawrangler.viewer.v0+json": {
       "columns": [
        {
         "name": "index",
         "rawType": "object",
         "type": "string"
        },
        {
         "name": "0",
         "rawType": "float64",
         "type": "float"
        }
       ],
       "ref": "ee646cfb-425f-4a9a-aa8d-f99111439ad0",
       "rows": [
        [
         "video_id",
         "0.0"
        ],
        [
         "trending_date",
         "0.0"
        ],
        [
         "title",
         "0.0"
        ],
        [
         "channel_title",
         "0.0"
        ],
        [
         "category_id",
         "0.0"
        ],
        [
         "publish_time",
         "0.0"
        ],
        [
         "tags",
         "0.0"
        ],
        [
         "views",
         "0.0"
        ],
        [
         "likes",
         "0.0"
        ],
        [
         "dislikes",
         "0.0"
        ],
        [
         "comment_count",
         "0.0"
        ],
        [
         "thumbnail_link",
         "0.0"
        ],
        [
         "comments_disabled",
         "0.0"
        ],
        [
         "ratings_disabled",
         "0.0"
        ],
        [
         "video_error_or_removed",
         "0.0"
        ],
        [
         "description",
         "1.3919753840142617"
        ]
       ],
       "shape": {
        "columns": 1,
        "rows": 16
       }
      },
      "text/plain": [
       "video_id                  0.000000\n",
       "trending_date             0.000000\n",
       "title                     0.000000\n",
       "channel_title             0.000000\n",
       "category_id               0.000000\n",
       "publish_time              0.000000\n",
       "tags                      0.000000\n",
       "views                     0.000000\n",
       "likes                     0.000000\n",
       "dislikes                  0.000000\n",
       "comment_count             0.000000\n",
       "thumbnail_link            0.000000\n",
       "comments_disabled         0.000000\n",
       "ratings_disabled          0.000000\n",
       "video_error_or_removed    0.000000\n",
       "description               1.391975\n",
       "dtype: float64"
      ]
     },
     "metadata": {},
     "output_type": "display_data"
    }
   ],
   "source": [
    "# VOTRE CODE ICI - Section 2.2\n",
    "missing = df.isna().sum()\n",
    "pct_missing = (missing / len(df)) * 100\n",
    "print(\"Valeurs manquantes (nombre):\")\n",
    "display(missing)\n",
    "print(\"\\nValeurs manquantes (pourcentage):\")\n",
    "display(pct_missing)"
   ]
  },
  {
   "cell_type": "markdown",
   "id": "f43660bf",
   "metadata": {},
   "source": [
    "**Consigne 2.3 — Exploration des catégories**  \n",
    "- Chargez le fichier JSON des catégories (`US_category_id.json`)  \n",
    "- Fusionnez avec le DataFrame principal  \n",
    "- Affichez la distribution des catégories\n",
    "\n",
    "*Aide* : La structure JSON est du type:  \n",
    "`{\"items\": [{\"id\": \"1\", \"snippet\": {\"title\": \"Film & Animation\"}}, ...]}`"
   ]
  },
  {
   "cell_type": "code",
   "execution_count": 5,
   "id": "53717a80",
   "metadata": {},
   "outputs": [
    {
     "name": "stdout",
     "output_type": "stream",
     "text": [
      "Distribution des catégories:\n"
     ]
    },
    {
     "data": {
      "application/vnd.microsoft.datawrangler.viewer.v0+json": {
       "columns": [
        {
         "name": "category_title",
         "rawType": "object",
         "type": "string"
        },
        {
         "name": "count",
         "rawType": "int64",
         "type": "integer"
        }
       ],
       "ref": "341cc5f4-bcab-4c5f-a9df-3e3de1693ffc",
       "rows": [
        [
         "Entertainment",
         "9964"
        ],
        [
         "Music",
         "6472"
        ],
        [
         "Howto & Style",
         "4146"
        ],
        [
         "Comedy",
         "3457"
        ],
        [
         "People & Blogs",
         "3210"
        ],
        [
         "News & Politics",
         "2487"
        ],
        [
         "Science & Technology",
         "2401"
        ],
        [
         "Film & Animation",
         "2345"
        ],
        [
         "Sports",
         "2174"
        ],
        [
         "Education",
         "1656"
        ],
        [
         "Pets & Animals",
         "920"
        ],
        [
         "Gaming",
         "817"
        ],
        [
         "Travel & Events",
         "402"
        ],
        [
         "Autos & Vehicles",
         "384"
        ],
        [
         "Nonprofits & Activism",
         "57"
        ],
        [
         "Shows",
         "57"
        ]
       ],
       "shape": {
        "columns": 1,
        "rows": 16
       }
      },
      "text/html": [
       "<div>\n",
       "<style scoped>\n",
       "    .dataframe tbody tr th:only-of-type {\n",
       "        vertical-align: middle;\n",
       "    }\n",
       "\n",
       "    .dataframe tbody tr th {\n",
       "        vertical-align: top;\n",
       "    }\n",
       "\n",
       "    .dataframe thead th {\n",
       "        text-align: right;\n",
       "    }\n",
       "</style>\n",
       "<table border=\"1\" class=\"dataframe\">\n",
       "  <thead>\n",
       "    <tr style=\"text-align: right;\">\n",
       "      <th></th>\n",
       "      <th>count</th>\n",
       "    </tr>\n",
       "    <tr>\n",
       "      <th>category_title</th>\n",
       "      <th></th>\n",
       "    </tr>\n",
       "  </thead>\n",
       "  <tbody>\n",
       "    <tr>\n",
       "      <th>Entertainment</th>\n",
       "      <td>9964</td>\n",
       "    </tr>\n",
       "    <tr>\n",
       "      <th>Music</th>\n",
       "      <td>6472</td>\n",
       "    </tr>\n",
       "    <tr>\n",
       "      <th>Howto &amp; Style</th>\n",
       "      <td>4146</td>\n",
       "    </tr>\n",
       "    <tr>\n",
       "      <th>Comedy</th>\n",
       "      <td>3457</td>\n",
       "    </tr>\n",
       "    <tr>\n",
       "      <th>People &amp; Blogs</th>\n",
       "      <td>3210</td>\n",
       "    </tr>\n",
       "    <tr>\n",
       "      <th>News &amp; Politics</th>\n",
       "      <td>2487</td>\n",
       "    </tr>\n",
       "    <tr>\n",
       "      <th>Science &amp; Technology</th>\n",
       "      <td>2401</td>\n",
       "    </tr>\n",
       "    <tr>\n",
       "      <th>Film &amp; Animation</th>\n",
       "      <td>2345</td>\n",
       "    </tr>\n",
       "    <tr>\n",
       "      <th>Sports</th>\n",
       "      <td>2174</td>\n",
       "    </tr>\n",
       "    <tr>\n",
       "      <th>Education</th>\n",
       "      <td>1656</td>\n",
       "    </tr>\n",
       "    <tr>\n",
       "      <th>Pets &amp; Animals</th>\n",
       "      <td>920</td>\n",
       "    </tr>\n",
       "    <tr>\n",
       "      <th>Gaming</th>\n",
       "      <td>817</td>\n",
       "    </tr>\n",
       "    <tr>\n",
       "      <th>Travel &amp; Events</th>\n",
       "      <td>402</td>\n",
       "    </tr>\n",
       "    <tr>\n",
       "      <th>Autos &amp; Vehicles</th>\n",
       "      <td>384</td>\n",
       "    </tr>\n",
       "    <tr>\n",
       "      <th>Nonprofits &amp; Activism</th>\n",
       "      <td>57</td>\n",
       "    </tr>\n",
       "    <tr>\n",
       "      <th>Shows</th>\n",
       "      <td>57</td>\n",
       "    </tr>\n",
       "  </tbody>\n",
       "</table>\n",
       "</div>"
      ],
      "text/plain": [
       "                       count\n",
       "category_title              \n",
       "Entertainment           9964\n",
       "Music                   6472\n",
       "Howto & Style           4146\n",
       "Comedy                  3457\n",
       "People & Blogs          3210\n",
       "News & Politics         2487\n",
       "Science & Technology    2401\n",
       "Film & Animation        2345\n",
       "Sports                  2174\n",
       "Education               1656\n",
       "Pets & Animals           920\n",
       "Gaming                   817\n",
       "Travel & Events          402\n",
       "Autos & Vehicles         384\n",
       "Nonprofits & Activism     57\n",
       "Shows                     57"
      ]
     },
     "metadata": {},
     "output_type": "display_data"
    }
   ],
   "source": [
    "# VOTRE CODE ICI - Section 2.3\n",
    "import pandas as pd\n",
    "import json\n",
    "categories_raw = pd.read_json(\"~/youtube-popularity-ml/archive/US_category_id.json\")\n",
    "items = categories_raw['items'].tolist()\n",
    "category_dict = {int(item['id']): item['snippet']['title'] for item in items}\n",
    "cat_df = pd.DataFrame(list(category_dict.items()), columns=['category_id', 'category_title'])\n",
    "df_merged = df.merge(cat_df, how='left', left_on='category_id', right_on='category_id')\n",
    "print(\"Distribution des catégories:\")\n",
    "display(df_merged['category_title'].value_counts().to_frame('count'))"
   ]
  },
  {
   "cell_type": "markdown",
   "id": "7f86ba1a",
   "metadata": {},
   "source": [
    "## 3. Nettoyage des données"
   ]
  },
  {
   "cell_type": "markdown",
   "id": "981825a0",
   "metadata": {},
   "source": [
    "**Consigne 3.1 — Nettoyage des données**\n",
    "- Supprimez les doublons basés sur `video_id`  \n",
    "- Gérez les valeurs manquantes dans `description` (remplacez par string vide)  \n",
    "- Convertissez `publish_time` en datetime  \n",
    "- Supprimez les lignes avec des valeurs aberrantes (ex: `views` négatives)"
   ]
  },
  {
   "cell_type": "code",
   "execution_count": 6,
   "id": "4966e9d4",
   "metadata": {},
   "outputs": [
    {
     "data": {
      "application/vnd.microsoft.datawrangler.viewer.v0+json": {
       "columns": [
        {
         "name": "index",
         "rawType": "object",
         "type": "string"
        },
        {
         "name": "0",
         "rawType": "int64",
         "type": "integer"
        }
       ],
       "ref": "21eee82e-2aa2-40ee-ac94-b4a9e4f5a4ba",
       "rows": [
        [
         "video_id",
         "0"
        ],
        [
         "trending_date",
         "0"
        ],
        [
         "title",
         "0"
        ],
        [
         "channel_title",
         "0"
        ],
        [
         "category_id",
         "0"
        ],
        [
         "publish_time",
         "0"
        ],
        [
         "tags",
         "0"
        ],
        [
         "views",
         "0"
        ],
        [
         "likes",
         "0"
        ],
        [
         "dislikes",
         "0"
        ],
        [
         "comment_count",
         "0"
        ],
        [
         "thumbnail_link",
         "0"
        ],
        [
         "comments_disabled",
         "0"
        ],
        [
         "ratings_disabled",
         "0"
        ],
        [
         "video_error_or_removed",
         "0"
        ],
        [
         "description",
         "0"
        ]
       ],
       "shape": {
        "columns": 1,
        "rows": 16
       }
      },
      "text/plain": [
       "video_id                  0\n",
       "trending_date             0\n",
       "title                     0\n",
       "channel_title             0\n",
       "category_id               0\n",
       "publish_time              0\n",
       "tags                      0\n",
       "views                     0\n",
       "likes                     0\n",
       "dislikes                  0\n",
       "comment_count             0\n",
       "thumbnail_link            0\n",
       "comments_disabled         0\n",
       "ratings_disabled          0\n",
       "video_error_or_removed    0\n",
       "description               0\n",
       "dtype: int64"
      ]
     },
     "metadata": {},
     "output_type": "display_data"
    },
    {
     "name": "stdout",
     "output_type": "stream",
     "text": [
      "<class 'pandas.core.frame.DataFrame'>\n",
      "Index: 6351 entries, 0 to 40766\n",
      "Data columns (total 16 columns):\n",
      " #   Column                  Non-Null Count  Dtype              \n",
      "---  ------                  --------------  -----              \n",
      " 0   video_id                6351 non-null   object             \n",
      " 1   trending_date           6351 non-null   object             \n",
      " 2   title                   6351 non-null   object             \n",
      " 3   channel_title           6351 non-null   object             \n",
      " 4   category_id             6351 non-null   int64              \n",
      " 5   publish_time            6351 non-null   datetime64[ns, UTC]\n",
      " 6   tags                    6351 non-null   object             \n",
      " 7   views                   6351 non-null   int64              \n",
      " 8   likes                   6351 non-null   int64              \n",
      " 9   dislikes                6351 non-null   int64              \n",
      " 10  comment_count           6351 non-null   int64              \n",
      " 11  thumbnail_link          6351 non-null   object             \n",
      " 12  comments_disabled       6351 non-null   bool               \n",
      " 13  ratings_disabled        6351 non-null   bool               \n",
      " 14  video_error_or_removed  6351 non-null   bool               \n",
      " 15  description             6351 non-null   object             \n",
      "dtypes: bool(3), datetime64[ns, UTC](1), int64(5), object(7)\n",
      "memory usage: 713.2+ KB\n"
     ]
    },
    {
     "data": {
      "text/plain": [
       "None"
      ]
     },
     "metadata": {},
     "output_type": "display_data"
    }
   ],
   "source": [
    "# VOTRE CODE ICI - Section 3.1\n",
    "df_clean = df.drop_duplicates(subset='video_id').copy()\n",
    "df_clean['description'] = df_clean[\"description\"].fillna(\"Unknown\")\n",
    "display(df_clean.isna().sum())\n",
    "import pandas as pd\n",
    "df_clean['publish_time'] = pd.to_datetime(df_clean[\"publish_time\"], errors='coerce')\n",
    "df_clean = df_clean[(df_clean['views'] >= 0) & (df_clean['likes'] >= 0) & (df_clean['dislikes'] >= 0) & (df_clean['comment_count'] >= 0)]\n",
    "df_clean = df_clean.dropna(subset=['publish_time'])\n",
    "display(df_clean.info())"
   ]
  },
  {
   "cell_type": "markdown",
   "id": "f6c110ca",
   "metadata": {},
   "source": [
    "## 4. Feature Engineering"
   ]
  },
  {
   "cell_type": "markdown",
   "id": "460ce78b",
   "metadata": {},
   "source": [
    "**Consigne 4.1 — Variables d'engagement**\n",
    "** définition : https://support.google.com/youtube/answer/2991785?hl=fr**"
   ]
  },
  {
   "cell_type": "code",
   "execution_count": 7,
   "id": "eab13049",
   "metadata": {},
   "outputs": [
    {
     "data": {
      "application/vnd.microsoft.datawrangler.viewer.v0+json": {
       "columns": [
        {
         "name": "index",
         "rawType": "int64",
         "type": "integer"
        },
        {
         "name": "comments_per_view",
         "rawType": "float64",
         "type": "float"
        }
       ],
       "ref": "622df74b-087a-4a0b-9a80-ca0b7faf59c5",
       "rows": [
        [
         "0",
         "0.021318217896399365"
        ],
        [
         "1",
         "0.005251814652244536"
        ],
        [
         "2",
         "0.002563424466869751"
        ],
        [
         "3",
         "0.006253496829541198"
        ],
        [
         "4",
         "0.00835889720579597"
        ],
        [
         "5",
         "0.012032220171169557"
        ],
        [
         "6",
         "0.0009365713027896985"
        ],
        [
         "7",
         "0.004196974069744116"
        ],
        [
         "8",
         "0.00041159287653787387"
        ],
        [
         "9",
         "0.00923463299353416"
        ],
        [
         "10",
         "0.002175061749634391"
        ],
        [
         "11",
         "0.012230105758381186"
        ],
        [
         "12",
         "0.012174547908467627"
        ],
        [
         "13",
         "0.007307671127264703"
        ],
        [
         "14",
         "0.01021529209953159"
        ],
        [
         "15",
         "0.016237195057556022"
        ],
        [
         "16",
         "0.004248424598919614"
        ],
        [
         "17",
         "0.00493311465327245"
        ],
        [
         "18",
         "0.022792169637242437"
        ],
        [
         "19",
         "0.005422765789226808"
        ],
        [
         "20",
         "0.02418149942568918"
        ],
        [
         "21",
         "0.0009284926724965252"
        ],
        [
         "22",
         "0.007021285435333498"
        ],
        [
         "23",
         "0.004612084621130581"
        ],
        [
         "24",
         "0.006886403766921517"
        ],
        [
         "25",
         "0.006239997848276576"
        ],
        [
         "26",
         "0.005414782231584097"
        ],
        [
         "27",
         "0.011149121571810687"
        ],
        [
         "28",
         "0.0029703324625128666"
        ],
        [
         "29",
         "0.004836141309689881"
        ],
        [
         "30",
         "0.004940128890605573"
        ],
        [
         "31",
         "0.0"
        ],
        [
         "32",
         "0.007336408926848109"
        ],
        [
         "33",
         "0.00925200632565275"
        ],
        [
         "34",
         "0.0016720038541105672"
        ],
        [
         "35",
         "0.0053755835337388055"
        ],
        [
         "36",
         "0.0073064702584088185"
        ],
        [
         "37",
         "0.005460947043184202"
        ],
        [
         "38",
         "0.005630994897117159"
        ],
        [
         "39",
         "0.009882978537319004"
        ],
        [
         "40",
         "0.007519915380292739"
        ],
        [
         "41",
         "0.011872933735805323"
        ],
        [
         "42",
         "0.008465608465599508"
        ],
        [
         "43",
         "0.022794140042030814"
        ],
        [
         "44",
         "0.0027877017190308055"
        ],
        [
         "45",
         "0.001483035719189932"
        ],
        [
         "46",
         "0.0022908195406906493"
        ],
        [
         "47",
         "0.0015133308023999924"
        ],
        [
         "48",
         "0.00415845918143923"
        ],
        [
         "49",
         "0.004062313910430597"
        ]
       ],
       "shape": {
        "columns": 1,
        "rows": 6351
       }
      },
      "text/plain": [
       "0        0.021318\n",
       "1        0.005252\n",
       "2        0.002563\n",
       "3        0.006253\n",
       "4        0.008359\n",
       "           ...   \n",
       "40760    0.005790\n",
       "40761    0.003082\n",
       "40762    0.001243\n",
       "40764    0.002242\n",
       "40766    0.002579\n",
       "Name: comments_per_view, Length: 6351, dtype: float64"
      ]
     },
     "metadata": {},
     "output_type": "display_data"
    },
    {
     "data": {
      "application/vnd.microsoft.datawrangler.viewer.v0+json": {
       "columns": [
        {
         "name": "index",
         "rawType": "int64",
         "type": "integer"
        },
        {
         "name": "engagement_rate",
         "rawType": "float64",
         "type": "float"
        }
       ],
       "ref": "e4336c6a-8e3d-4e4d-8469-6ab43bf83f2b",
       "rows": [
        [
         "0",
         "0.10215079625962406"
        ],
        [
         "1",
         "0.04797205867578859"
        ],
        [
         "2",
         "0.049994140565024985"
        ],
        [
         "3",
         "0.03783569563595662"
        ],
        [
         "4",
         "0.07240528483855987"
        ],
        [
         "5",
         "0.09823795938915843"
        ],
        [
         "6",
         "0.009702308196615312"
        ],
        [
         "7",
         "0.03408573958216135"
        ],
        [
         "8",
         "0.004844690270307562"
        ],
        [
         "9",
         "0.06389757668879106"
        ],
        [
         "10",
         "0.01053123118325804"
        ],
        [
         "11",
         "0.03019755589129616"
        ],
        [
         "12",
         "0.18018505429170603"
        ],
        [
         "13",
         "0.02386328175193196"
        ],
        [
         "14",
         "0.047409556116646843"
        ],
        [
         "15",
         "0.14126359700073737"
        ],
        [
         "16",
         "0.0335036987677538"
        ],
        [
         "17",
         "0.07477833017272212"
        ],
        [
         "18",
         "0.1464842743307169"
        ],
        [
         "19",
         "0.04389134814245685"
        ],
        [
         "20",
         "0.10761630869411173"
        ],
        [
         "21",
         "0.017547618728768463"
        ],
        [
         "22",
         "0.08905399603927427"
        ],
        [
         "23",
         "0.020271242658698747"
        ],
        [
         "24",
         "0.1521483225426677"
        ],
        [
         "25",
         "0.04599757034566519"
        ],
        [
         "26",
         "0.06399851310327657"
        ],
        [
         "27",
         "0.08782625261954585"
        ],
        [
         "28",
         "0.009841462978205281"
        ],
        [
         "29",
         "0.02357127410698442"
        ],
        [
         "30",
         "0.05098700929069455"
        ],
        [
         "31",
         "0.007230769230768952"
        ],
        [
         "32",
         "0.05575774522888935"
        ],
        [
         "33",
         "0.06637501662700719"
        ],
        [
         "34",
         "0.013935727038285956"
        ],
        [
         "35",
         "0.0323545460056986"
        ],
        [
         "36",
         "0.03605817487072623"
        ],
        [
         "37",
         "0.10188977509519997"
        ],
        [
         "38",
         "0.07128852742551957"
        ],
        [
         "39",
         "0.13386625618779174"
        ],
        [
         "40",
         "0.0983373549730589"
        ],
        [
         "41",
         "0.021474773609313744"
        ],
        [
         "42",
         "0.021164021163998768"
        ],
        [
         "43",
         "0.11609661011786887"
        ],
        [
         "44",
         "0.02217079423023606"
        ],
        [
         "45",
         "0.02562699454572417"
        ],
        [
         "46",
         "0.05168661588683277"
        ],
        [
         "47",
         "0.006158953072103355"
        ],
        [
         "48",
         "0.015758371634927607"
        ],
        [
         "49",
         "0.027651015505141804"
        ]
       ],
       "shape": {
        "columns": 1,
        "rows": 6351
       }
      },
      "text/plain": [
       "0        0.102151\n",
       "1        0.047972\n",
       "2        0.049994\n",
       "3        0.037836\n",
       "4        0.072405\n",
       "           ...   \n",
       "40760    0.050341\n",
       "40761    0.012950\n",
       "40762    0.023472\n",
       "40764    0.029825\n",
       "40766    0.031101\n",
       "Name: engagement_rate, Length: 6351, dtype: float64"
      ]
     },
     "metadata": {},
     "output_type": "display_data"
    }
   ],
   "source": [
    "# VOTRE CODE ICI - Section 4.1\n",
    "import numpy as np\n",
    "eps = 1e-9  # eps protège contre la division par zéro\n",
    "denom = df_clean['likes'] + df_clean['dislikes']\n",
    "df_clean['like_ratio'] = np.where(denom > 0, df_clean['likes'] / denom, 0)\n",
    "df_clean['engagement_rate'] = np.where(df_clean['views'] > 0,\n",
    "                                       (df_clean['likes'] + df_clean['dislikes'] + df_clean['comment_count']) / (df_clean['views'] + eps),\n",
    "                                       0)\n",
    "df_clean['comments_per_view'] = np.where(df_clean['views'] > 0, df_clean['comment_count'] / (df_clean['views'] + eps), 0)\n",
    "display(df_clean['comments_per_view'], df_clean['engagement_rate'])"
   ]
  },
  {
   "cell_type": "markdown",
   "id": "d76ad347",
   "metadata": {},
   "source": [
    "**Consigne 4.2 — Variables temporelles**"
   ]
  },
  {
   "cell_type": "code",
   "execution_count": 8,
   "id": "b4c4ab58",
   "metadata": {},
   "outputs": [
    {
     "data": {
      "application/vnd.microsoft.datawrangler.viewer.v0+json": {
       "columns": [
        {
         "name": "index",
         "rawType": "int64",
         "type": "integer"
        },
        {
         "name": "publish_hour",
         "rawType": "int32",
         "type": "integer"
        }
       ],
       "ref": "92ec8844-d470-457b-b278-bd480cafb8bb",
       "rows": [
        [
         "0",
         "17"
        ],
        [
         "1",
         "7"
        ],
        [
         "2",
         "19"
        ],
        [
         "3",
         "11"
        ],
        [
         "4",
         "18"
        ],
        [
         "5",
         "19"
        ],
        [
         "6",
         "5"
        ],
        [
         "7",
         "21"
        ],
        [
         "8",
         "14"
        ],
        [
         "9",
         "13"
        ],
        [
         "10",
         "2"
        ],
        [
         "11",
         "3"
        ],
        [
         "12",
         "17"
        ],
        [
         "13",
         "14"
        ],
        [
         "14",
         "18"
        ],
        [
         "15",
         "20"
        ],
        [
         "16",
         "17"
        ],
        [
         "17",
         "16"
        ],
        [
         "18",
         "15"
        ],
        [
         "19",
         "22"
        ],
        [
         "20",
         "14"
        ],
        [
         "21",
         "15"
        ],
        [
         "22",
         "16"
        ],
        [
         "23",
         "16"
        ],
        [
         "24",
         "14"
        ],
        [
         "25",
         "14"
        ],
        [
         "26",
         "12"
        ],
        [
         "27",
         "16"
        ],
        [
         "28",
         "15"
        ],
        [
         "29",
         "17"
        ],
        [
         "30",
         "1"
        ],
        [
         "31",
         "17"
        ],
        [
         "32",
         "17"
        ],
        [
         "33",
         "23"
        ],
        [
         "34",
         "5"
        ],
        [
         "35",
         "6"
        ],
        [
         "36",
         "18"
        ],
        [
         "37",
         "15"
        ],
        [
         "38",
         "23"
        ],
        [
         "39",
         "15"
        ],
        [
         "40",
         "17"
        ],
        [
         "41",
         "21"
        ],
        [
         "42",
         "15"
        ],
        [
         "43",
         "16"
        ],
        [
         "44",
         "15"
        ],
        [
         "45",
         "0"
        ],
        [
         "46",
         "13"
        ],
        [
         "47",
         "18"
        ],
        [
         "48",
         "2"
        ],
        [
         "49",
         "23"
        ]
       ],
       "shape": {
        "columns": 1,
        "rows": 6351
       }
      },
      "text/plain": [
       "0        17\n",
       "1         7\n",
       "2        19\n",
       "3        11\n",
       "4        18\n",
       "         ..\n",
       "40760    18\n",
       "40761    15\n",
       "40762     5\n",
       "40764    16\n",
       "40766     9\n",
       "Name: publish_hour, Length: 6351, dtype: int32"
      ]
     },
     "metadata": {},
     "output_type": "display_data"
    },
    {
     "data": {
      "application/vnd.microsoft.datawrangler.viewer.v0+json": {
       "columns": [
        {
         "name": "index",
         "rawType": "int64",
         "type": "integer"
        },
        {
         "name": "publish_day_of_week",
         "rawType": "int32",
         "type": "integer"
        }
       ],
       "ref": "afbd6e1b-1093-4411-8339-3fe50f0f2ec7",
       "rows": [
        [
         "0",
         "13"
        ],
        [
         "1",
         "13"
        ],
        [
         "2",
         "12"
        ],
        [
         "3",
         "13"
        ],
        [
         "4",
         "12"
        ],
        [
         "5",
         "13"
        ],
        [
         "6",
         "12"
        ],
        [
         "7",
         "12"
        ],
        [
         "8",
         "13"
        ],
        [
         "9",
         "13"
        ],
        [
         "10",
         "13"
        ],
        [
         "11",
         "13"
        ],
        [
         "12",
         "13"
        ],
        [
         "13",
         "12"
        ],
        [
         "14",
         "12"
        ],
        [
         "15",
         "13"
        ],
        [
         "16",
         "12"
        ],
        [
         "17",
         "13"
        ],
        [
         "18",
         "13"
        ],
        [
         "19",
         "12"
        ],
        [
         "20",
         "13"
        ],
        [
         "21",
         "12"
        ],
        [
         "22",
         "13"
        ],
        [
         "23",
         "12"
        ],
        [
         "24",
         "13"
        ],
        [
         "25",
         "12"
        ],
        [
         "26",
         "13"
        ],
        [
         "27",
         "13"
        ],
        [
         "28",
         "13"
        ],
        [
         "29",
         "29"
        ],
        [
         "30",
         "13"
        ],
        [
         "31",
         "6"
        ],
        [
         "32",
         "10"
        ],
        [
         "33",
         "12"
        ],
        [
         "34",
         "12"
        ],
        [
         "35",
         "21"
        ],
        [
         "36",
         "12"
        ],
        [
         "37",
         "13"
        ],
        [
         "38",
         "12"
        ],
        [
         "39",
         "13"
        ],
        [
         "40",
         "13"
        ],
        [
         "41",
         "12"
        ],
        [
         "42",
         "13"
        ],
        [
         "43",
         "11"
        ],
        [
         "44",
         "11"
        ],
        [
         "45",
         "12"
        ],
        [
         "46",
         "13"
        ],
        [
         "47",
         "10"
        ],
        [
         "48",
         "13"
        ],
        [
         "49",
         "10"
        ]
       ],
       "shape": {
        "columns": 1,
        "rows": 6351
       }
      },
      "text/plain": [
       "0        13\n",
       "1        13\n",
       "2        12\n",
       "3        13\n",
       "4        12\n",
       "         ..\n",
       "40760    12\n",
       "40761    13\n",
       "40762    13\n",
       "40764    12\n",
       "40766    13\n",
       "Name: publish_day_of_week, Length: 6351, dtype: int32"
      ]
     },
     "metadata": {},
     "output_type": "display_data"
    },
    {
     "data": {
      "application/vnd.microsoft.datawrangler.viewer.v0+json": {
       "columns": [
        {
         "name": "index",
         "rawType": "int64",
         "type": "integer"
        },
        {
         "name": "publish_month",
         "rawType": "int32",
         "type": "integer"
        }
       ],
       "ref": "affc0317-e3c2-47e6-8c77-2f70454b6cb5",
       "rows": [
        [
         "0",
         "11"
        ],
        [
         "1",
         "11"
        ],
        [
         "2",
         "11"
        ],
        [
         "3",
         "11"
        ],
        [
         "4",
         "11"
        ],
        [
         "5",
         "11"
        ],
        [
         "6",
         "11"
        ],
        [
         "7",
         "11"
        ],
        [
         "8",
         "11"
        ],
        [
         "9",
         "11"
        ],
        [
         "10",
         "11"
        ],
        [
         "11",
         "11"
        ],
        [
         "12",
         "11"
        ],
        [
         "13",
         "11"
        ],
        [
         "14",
         "11"
        ],
        [
         "15",
         "11"
        ],
        [
         "16",
         "11"
        ],
        [
         "17",
         "11"
        ],
        [
         "18",
         "11"
        ],
        [
         "19",
         "11"
        ],
        [
         "20",
         "11"
        ],
        [
         "21",
         "11"
        ],
        [
         "22",
         "11"
        ],
        [
         "23",
         "11"
        ],
        [
         "24",
         "11"
        ],
        [
         "25",
         "11"
        ],
        [
         "26",
         "11"
        ],
        [
         "27",
         "11"
        ],
        [
         "28",
         "11"
        ],
        [
         "29",
         "5"
        ],
        [
         "30",
         "11"
        ],
        [
         "31",
         "11"
        ],
        [
         "32",
         "11"
        ],
        [
         "33",
         "11"
        ],
        [
         "34",
         "11"
        ],
        [
         "35",
         "4"
        ],
        [
         "36",
         "11"
        ],
        [
         "37",
         "11"
        ],
        [
         "38",
         "11"
        ],
        [
         "39",
         "11"
        ],
        [
         "40",
         "11"
        ],
        [
         "41",
         "11"
        ],
        [
         "42",
         "11"
        ],
        [
         "43",
         "11"
        ],
        [
         "44",
         "11"
        ],
        [
         "45",
         "11"
        ],
        [
         "46",
         "11"
        ],
        [
         "47",
         "11"
        ],
        [
         "48",
         "11"
        ],
        [
         "49",
         "11"
        ]
       ],
       "shape": {
        "columns": 1,
        "rows": 6351
       }
      },
      "text/plain": [
       "0        11\n",
       "1        11\n",
       "2        11\n",
       "3        11\n",
       "4        11\n",
       "         ..\n",
       "40760     6\n",
       "40761     6\n",
       "40762     6\n",
       "40764     6\n",
       "40766     6\n",
       "Name: publish_month, Length: 6351, dtype: int32"
      ]
     },
     "metadata": {},
     "output_type": "display_data"
    }
   ],
   "source": [
    "# VOTRE CODE ICI - Section 4.2\n",
    "df_clean['publish_hour'] = df_clean['publish_time'].dt.hour\n",
    "display(df_clean['publish_hour'])\n",
    "df_clean['publish_day_of_week'] = df_clean['publish_time'].dt.day\n",
    "display(df_clean['publish_day_of_week'])\n",
    "df_clean['publish_month'] = df_clean['publish_time'].dt.month\n",
    "display(df_clean['publish_month'])"
   ]
  },
  {
   "cell_type": "markdown",
   "id": "0252ebee",
   "metadata": {},
   "source": [
    "**Consigne 4.3 — Variables textuelles (titre)**"
   ]
  },
  {
   "cell_type": "code",
   "execution_count": 9,
   "id": "786ebdac",
   "metadata": {},
   "outputs": [
    {
     "data": {
      "application/vnd.microsoft.datawrangler.viewer.v0+json": {
       "columns": [
        {
         "name": "index",
         "rawType": "int64",
         "type": "integer"
        },
        {
         "name": "title_length",
         "rawType": "int64",
         "type": "integer"
        }
       ],
       "ref": "2ddb1b73-4676-4145-8a64-e8a0bbb77ce7",
       "rows": [
        [
         "0",
         "34"
        ],
        [
         "1",
         "62"
        ],
        [
         "2",
         "53"
        ],
        [
         "3",
         "32"
        ],
        [
         "4",
         "24"
        ],
        [
         "5",
         "21"
        ],
        [
         "6",
         "41"
        ],
        [
         "7",
         "35"
        ],
        [
         "8",
         "65"
        ],
        [
         "9",
         "53"
        ],
        [
         "10",
         "86"
        ],
        [
         "11",
         "78"
        ],
        [
         "12",
         "42"
        ],
        [
         "13",
         "38"
        ],
        [
         "14",
         "24"
        ],
        [
         "15",
         "16"
        ],
        [
         "16",
         "48"
        ],
        [
         "17",
         "52"
        ],
        [
         "18",
         "26"
        ],
        [
         "19",
         "40"
        ],
        [
         "20",
         "32"
        ],
        [
         "21",
         "50"
        ],
        [
         "22",
         "50"
        ],
        [
         "23",
         "67"
        ],
        [
         "24",
         "28"
        ],
        [
         "25",
         "38"
        ],
        [
         "26",
         "36"
        ],
        [
         "27",
         "47"
        ],
        [
         "28",
         "100"
        ],
        [
         "29",
         "23"
        ],
        [
         "30",
         "60"
        ],
        [
         "31",
         "43"
        ],
        [
         "32",
         "42"
        ],
        [
         "33",
         "31"
        ],
        [
         "34",
         "54"
        ],
        [
         "35",
         "20"
        ],
        [
         "36",
         "46"
        ],
        [
         "37",
         "57"
        ],
        [
         "38",
         "33"
        ],
        [
         "39",
         "50"
        ],
        [
         "40",
         "17"
        ],
        [
         "41",
         "65"
        ],
        [
         "42",
         "51"
        ],
        [
         "43",
         "75"
        ],
        [
         "44",
         "75"
        ],
        [
         "45",
         "48"
        ],
        [
         "46",
         "65"
        ],
        [
         "47",
         "50"
        ],
        [
         "48",
         "54"
        ],
        [
         "49",
         "55"
        ]
       ],
       "shape": {
        "columns": 1,
        "rows": 6351
       }
      },
      "text/plain": [
       "0        34\n",
       "1        62\n",
       "2        53\n",
       "3        32\n",
       "4        24\n",
       "         ..\n",
       "40760    29\n",
       "40761    94\n",
       "40762    49\n",
       "40764    65\n",
       "40766    64\n",
       "Name: title_length, Length: 6351, dtype: int64"
      ]
     },
     "metadata": {},
     "output_type": "display_data"
    },
    {
     "data": {
      "application/vnd.microsoft.datawrangler.viewer.v0+json": {
       "columns": [
        {
         "name": "index",
         "rawType": "int64",
         "type": "integer"
        },
        {
         "name": "title_word_count",
         "rawType": "int64",
         "type": "integer"
        }
       ],
       "ref": "cb0d64aa-bc2d-4217-b401-e8599a7ada70",
       "rows": [
        [
         "0",
         "7"
        ],
        [
         "1",
         "10"
        ],
        [
         "2",
         "10"
        ],
        [
         "3",
         "5"
        ],
        [
         "4",
         "5"
        ],
        [
         "5",
         "5"
        ],
        [
         "6",
         "9"
        ],
        [
         "7",
         "8"
        ],
        [
         "8",
         "12"
        ],
        [
         "9",
         "12"
        ],
        [
         "10",
         "16"
        ],
        [
         "11",
         "14"
        ],
        [
         "12",
         "6"
        ],
        [
         "13",
         "6"
        ],
        [
         "14",
         "4"
        ],
        [
         "15",
         "3"
        ],
        [
         "16",
         "9"
        ],
        [
         "17",
         "10"
        ],
        [
         "18",
         "3"
        ],
        [
         "19",
         "5"
        ],
        [
         "20",
         "6"
        ],
        [
         "21",
         "8"
        ],
        [
         "22",
         "10"
        ],
        [
         "23",
         "14"
        ],
        [
         "24",
         "4"
        ],
        [
         "25",
         "5"
        ],
        [
         "26",
         "6"
        ],
        [
         "27",
         "9"
        ],
        [
         "28",
         "17"
        ],
        [
         "29",
         "3"
        ],
        [
         "30",
         "10"
        ],
        [
         "31",
         "8"
        ],
        [
         "32",
         "8"
        ],
        [
         "33",
         "5"
        ],
        [
         "34",
         "10"
        ],
        [
         "35",
         "3"
        ],
        [
         "36",
         "8"
        ],
        [
         "37",
         "11"
        ],
        [
         "38",
         "4"
        ],
        [
         "39",
         "8"
        ],
        [
         "40",
         "4"
        ],
        [
         "41",
         "10"
        ],
        [
         "42",
         "10"
        ],
        [
         "43",
         "13"
        ],
        [
         "44",
         "13"
        ],
        [
         "45",
         "8"
        ],
        [
         "46",
         "11"
        ],
        [
         "47",
         "8"
        ],
        [
         "48",
         "7"
        ],
        [
         "49",
         "8"
        ]
       ],
       "shape": {
        "columns": 1,
        "rows": 6351
       }
      },
      "text/plain": [
       "0         7\n",
       "1        10\n",
       "2        10\n",
       "3         5\n",
       "4         5\n",
       "         ..\n",
       "40760     6\n",
       "40761    16\n",
       "40762    10\n",
       "40764    12\n",
       "40766    10\n",
       "Name: title_word_count, Length: 6351, dtype: int64"
      ]
     },
     "metadata": {},
     "output_type": "display_data"
    },
    {
     "data": {
      "application/vnd.microsoft.datawrangler.viewer.v0+json": {
       "columns": [
        {
         "name": "index",
         "rawType": "int64",
         "type": "integer"
        },
        {
         "name": "has_caps",
         "rawType": "bool",
         "type": "boolean"
        }
       ],
       "ref": "96e5179e-3c67-41bb-9bb6-e173e2257b37",
       "rows": [
        [
         "0",
         "True"
        ],
        [
         "1",
         "True"
        ],
        [
         "2",
         "True"
        ],
        [
         "3",
         "True"
        ],
        [
         "4",
         "True"
        ],
        [
         "5",
         "True"
        ],
        [
         "6",
         "True"
        ],
        [
         "7",
         "True"
        ],
        [
         "8",
         "True"
        ],
        [
         "9",
         "True"
        ],
        [
         "10",
         "True"
        ],
        [
         "11",
         "True"
        ],
        [
         "12",
         "True"
        ],
        [
         "13",
         "True"
        ],
        [
         "14",
         "True"
        ],
        [
         "15",
         "True"
        ],
        [
         "16",
         "True"
        ],
        [
         "17",
         "True"
        ],
        [
         "18",
         "True"
        ],
        [
         "19",
         "True"
        ],
        [
         "20",
         "True"
        ],
        [
         "21",
         "True"
        ],
        [
         "22",
         "True"
        ],
        [
         "23",
         "True"
        ],
        [
         "24",
         "True"
        ],
        [
         "25",
         "True"
        ],
        [
         "26",
         "True"
        ],
        [
         "27",
         "True"
        ],
        [
         "28",
         "True"
        ],
        [
         "29",
         "True"
        ],
        [
         "30",
         "True"
        ],
        [
         "31",
         "True"
        ],
        [
         "32",
         "True"
        ],
        [
         "33",
         "True"
        ],
        [
         "34",
         "True"
        ],
        [
         "35",
         "True"
        ],
        [
         "36",
         "True"
        ],
        [
         "37",
         "True"
        ],
        [
         "38",
         "True"
        ],
        [
         "39",
         "True"
        ],
        [
         "40",
         "True"
        ],
        [
         "41",
         "True"
        ],
        [
         "42",
         "True"
        ],
        [
         "43",
         "True"
        ],
        [
         "44",
         "True"
        ],
        [
         "45",
         "True"
        ],
        [
         "46",
         "True"
        ],
        [
         "47",
         "True"
        ],
        [
         "48",
         "True"
        ],
        [
         "49",
         "True"
        ]
       ],
       "shape": {
        "columns": 1,
        "rows": 6351
       }
      },
      "text/plain": [
       "0        True\n",
       "1        True\n",
       "2        True\n",
       "3        True\n",
       "4        True\n",
       "         ... \n",
       "40760    True\n",
       "40761    True\n",
       "40762    True\n",
       "40764    True\n",
       "40766    True\n",
       "Name: has_caps, Length: 6351, dtype: bool"
      ]
     },
     "metadata": {},
     "output_type": "display_data"
    },
    {
     "data": {
      "application/vnd.microsoft.datawrangler.viewer.v0+json": {
       "columns": [
        {
         "name": "index",
         "rawType": "int64",
         "type": "integer"
        },
        {
         "name": "has_numbers",
         "rawType": "bool",
         "type": "boolean"
        }
       ],
       "ref": "f2bc03c4-fa21-4e9f-ae8e-828a05664442",
       "rows": [
        [
         "0",
         "False"
        ],
        [
         "1",
         "False"
        ],
        [
         "2",
         "False"
        ],
        [
         "3",
         "False"
        ],
        [
         "4",
         "False"
        ],
        [
         "5",
         "True"
        ],
        [
         "6",
         "False"
        ],
        [
         "7",
         "True"
        ],
        [
         "8",
         "True"
        ],
        [
         "9",
         "False"
        ],
        [
         "10",
         "True"
        ],
        [
         "11",
         "True"
        ],
        [
         "12",
         "False"
        ],
        [
         "13",
         "False"
        ],
        [
         "14",
         "False"
        ],
        [
         "15",
         "False"
        ],
        [
         "16",
         "False"
        ],
        [
         "17",
         "False"
        ],
        [
         "18",
         "False"
        ],
        [
         "19",
         "False"
        ],
        [
         "20",
         "False"
        ],
        [
         "21",
         "False"
        ],
        [
         "22",
         "False"
        ],
        [
         "23",
         "True"
        ],
        [
         "24",
         "False"
        ],
        [
         "25",
         "False"
        ],
        [
         "26",
         "True"
        ],
        [
         "27",
         "False"
        ],
        [
         "28",
         "False"
        ],
        [
         "29",
         "False"
        ],
        [
         "30",
         "True"
        ],
        [
         "31",
         "True"
        ],
        [
         "32",
         "False"
        ],
        [
         "33",
         "False"
        ],
        [
         "34",
         "True"
        ],
        [
         "35",
         "False"
        ],
        [
         "36",
         "False"
        ],
        [
         "37",
         "False"
        ],
        [
         "38",
         "True"
        ],
        [
         "39",
         "False"
        ],
        [
         "40",
         "True"
        ],
        [
         "41",
         "False"
        ],
        [
         "42",
         "False"
        ],
        [
         "43",
         "False"
        ],
        [
         "44",
         "True"
        ],
        [
         "45",
         "False"
        ],
        [
         "46",
         "False"
        ],
        [
         "47",
         "False"
        ],
        [
         "48",
         "False"
        ],
        [
         "49",
         "False"
        ]
       ],
       "shape": {
        "columns": 1,
        "rows": 6351
       }
      },
      "text/plain": [
       "0        False\n",
       "1        False\n",
       "2        False\n",
       "3        False\n",
       "4        False\n",
       "         ...  \n",
       "40760    False\n",
       "40761    False\n",
       "40762    False\n",
       "40764    False\n",
       "40766     True\n",
       "Name: has_numbers, Length: 6351, dtype: bool"
      ]
     },
     "metadata": {},
     "output_type": "display_data"
    }
   ],
   "source": [
    "# VOTRE CODE ICI - Section 4.3\n",
    "df_clean['title_length'] = df_clean['title'].str.strip().str.len()\n",
    "display(df_clean['title_length'])\n",
    "df_clean['title_word_count'] = df_clean['title'].str.rsplit().str.len()\n",
    "display(df_clean['title_word_count'])\n",
    "df_clean['has_caps'] = df_clean['title'].str.contains(r'[A-Z]')\n",
    "display(df_clean['has_caps'])\n",
    "df_clean['has_numbers'] = df_clean['title'].str.contains(r'[0-9]')\n",
    "display(df_clean['has_numbers'])"
   ]
  },
  {
   "cell_type": "markdown",
   "id": "a1b7eb43",
   "metadata": {},
   "source": [
    "## 5. Création de la variable cible"
   ]
  },
  {
   "cell_type": "markdown",
   "id": "e8ad73d8",
   "metadata": {},
   "source": [
    "**Consigne 5.1 — Définition de `is_trending`**  \n",
    "- Une vidéo est *trending* si elle a plus de vues que le 80e percentile de sa catégorie"
   ]
  },
  {
   "cell_type": "code",
   "execution_count": 10,
   "id": "53bbcd85",
   "metadata": {},
   "outputs": [
    {
     "name": "stdout",
     "output_type": "stream",
     "text": [
      "Distribution de la variable cible:\n",
      "             count\n",
      "is_trending       \n",
      "0             5078\n",
      "1             1273\n"
     ]
    }
   ],
   "source": [
    "# VOTRE CODE ICI - Section 5.1\n",
    "df_clean['is_trending'] = (df_clean.groupby('category_id')['views']\n",
    "                                  .transform(lambda x: x > x.quantile(0.8))).astype(int)\n",
    "print(\"Distribution de la variable cible:\")\n",
    "print(df_clean['is_trending'].value_counts().to_frame('count'))"
   ]
  },
  {
   "cell_type": "markdown",
   "id": "bfac7477",
   "metadata": {},
   "source": [
    "## 6. Préparation des données pour l'entraînement"
   ]
  },
  {
   "cell_type": "markdown",
   "id": "828d672c",
   "metadata": {},
   "source": [
    "**Consignes 6.1 & 6.2 — Sélection des features & split train/test**"
   ]
  },
  {
   "cell_type": "code",
   "execution_count": 11,
   "id": "c91a2b35",
   "metadata": {},
   "outputs": [
    {
     "name": "stdout",
     "output_type": "stream",
     "text": [
      "Accuracy: 0.9355\n",
      "              precision    recall  f1-score   support\n",
      "\n",
      "           0       0.93      0.99      0.96      1001\n",
      "           1       0.94      0.74      0.83       270\n",
      "\n",
      "    accuracy                           0.94      1271\n",
      "   macro avg       0.94      0.86      0.90      1271\n",
      "weighted avg       0.94      0.94      0.93      1271\n",
      "\n",
      "Taille train: (5080, 9)\n",
      "Taille test: (1271, 9)\n"
     ]
    }
   ],
   "source": [
    "# VOTRE CODE ICI - Section 6.1 et 6.2\n",
    "features = ['views', 'likes', 'dislikes', 'comment_count',\n",
    "            'like_ratio', 'engagement_rate', 'title_length', 'publish_hour', 'category_id']\n",
    "X = df_clean[features].copy() #features\n",
    "y = df_clean['is_trending'].copy() #target \n",
    "\n",
    "X_train, X_test, y_train, y_test = train_test_split(X, y, test_size=0.2, random_state=42)\n",
    "\n",
    "cfi = svm.SVC()\n",
    "cfi.fit(X_train, y_train)\n",
    "\n",
    "predict = cfi.predict(X_test)\n",
    "\n",
    "acc = accuracy_score(y_test, predict)\n",
    "print(f\"Accuracy: {acc:.4f}\")\n",
    "clasr = classification_report(y_test, predict)\n",
    "print(clasr)\n",
    "print(f\"Taille train: {X_train.shape}\")\n",
    "print(f\"Taille test: {X_test.shape}\")"
   ]
  },
  {
   "cell_type": "markdown",
   "id": "fbd9f34b",
   "metadata": {},
   "source": [
    "**Consigne 6.3 — Normalisation des données (StandardScaler)**"
   ]
  },
  {
   "cell_type": "code",
   "execution_count": null,
   "id": "173c3a0f",
   "metadata": {},
   "outputs": [
    {
     "name": "stdout",
     "output_type": "stream",
     "text": [
      "Accuracy: 0.9355\n",
      "              precision    recall  f1-score   support\n",
      "\n",
      "           0       0.93      0.99      0.96      1001\n",
      "           1       0.94      0.74      0.83       270\n",
      "\n",
      "    accuracy                           0.94      1271\n",
      "   macro avg       0.94      0.86      0.90      1271\n",
      "weighted avg       0.94      0.94      0.93      1271\n",
      "\n",
      "Taille train: (5080, 9)\n",
      "Taille test: (1271, 9)\n",
      "Rapport de classification : \n",
      "              precision    recall  f1-score   support\n",
      "\n",
      "           0       0.93      0.99      0.96      1001\n",
      "           1       0.94      0.74      0.83       270\n",
      "\n",
      "    accuracy                           0.94      1271\n",
      "   macro avg       0.94      0.86      0.90      1271\n",
      "weighted avg       0.94      0.94      0.93      1271\n",
      "\n",
      "     views   likes  dislikes  comment_count  like_ratio  engagement_rate  \\\n",
      "0   748374   57527      2966          15954    0.950970         0.102151   \n",
      "1  2418783   97185      6146          12703    0.940521         0.047972   \n",
      "2  3191434  146033      5339           8181    0.964729         0.049994   \n",
      "3   343168   10172       666           2146    0.938550         0.037836   \n",
      "4  2095731  132235      1989          17518    0.985181         0.072405   \n",
      "\n",
      "   title_length  publish_hour  category_id  \n",
      "0            34            17           22  \n",
      "1            62             7           24  \n",
      "2            53            19           23  \n",
      "3            32            11           24  \n",
      "4            24            18           24  \n"
     ]
    }
   ],
   "source": [
    "# VOTRE CODE ICI - Section 6.3\n",
    "scaler = StandardScaler()\n",
    "X_train[features] = scaler.fit_transform(X_train[features])\n",
    "X_test[features] = scaler.transform(X_test[features]) \n",
    "# Fit uniquement sur train\n",
    "X_train, X_test, y_train, y_test = train_test_split(X, y, test_size=0.2, random_state=42)\n",
    "\n",
    "cfi = svm.SVC()\n",
    "cfi.fit(X_train, y_train)\n",
    "\n",
    "predict = cfi.predict(X_test)\n",
    "\n",
    "acc = accuracy_score(y_test, predict)\n",
    "print(f\"Accuracy: {acc:.4f}\")\n",
    "clasr = classification_report(y_test, predict)\n",
    "print(clasr)\n",
    "print(f\"Taille train: {X_train.shape}\")\n",
    "print(f\"Taille test: {X_test.shape}\")\n",
    "print(X[features].head())\n"
   ]
  },
  {
   "cell_type": "markdown",
   "id": "27586c4a",
   "metadata": {},
   "source": [
    "## 7. Modèle 1 — Random Forest"
   ]
  },
  {
   "cell_type": "markdown",
   "id": "4dc20f6b",
   "metadata": {},
   "source": [
    "**Consigne 7.1 — Entraînement**"
   ]
  },
  {
   "cell_type": "code",
   "execution_count": null,
   "id": "6bd08b5c",
   "metadata": {},
   "outputs": [],
   "source": [
    "# VOTRE CODE ICI - Section 7.1\n",
    "from sklearn.ensemble import RandomForestClassifier\n",
    "\n",
    "# Modèle\n",
    "rf_model = RandomForestClassifier()\n",
    "\n",
    "rf_model.fit(X_train, y_train)\n",
    "# Prédictions sur le test set\n",
    "rf_predictions = rf_model.predict(X_test)\n"
   ]
  },
  {
   "cell_type": "markdown",
   "id": "4ee70bbb",
   "metadata": {},
   "source": [
    "**Consigne 7.2 — Évaluation**"
   ]
  },
  {
   "cell_type": "code",
   "execution_count": 14,
   "id": "ecc1abe3",
   "metadata": {},
   "outputs": [
    {
     "name": "stdout",
     "output_type": "stream",
     "text": [
      "Random Forest - Résultats:\n",
      "Accuracy: 0.9685\n",
      "Precision: 0.9563\n",
      "Classification report:               precision    recall  f1-score   support\n",
      "\n",
      "           0       0.97      0.99      0.98      1001\n",
      "           1       0.96      0.89      0.92       270\n",
      "\n",
      "    accuracy                           0.97      1271\n",
      "   macro avg       0.96      0.94      0.95      1271\n",
      "weighted avg       0.97      0.97      0.97      1271\n",
      "\n",
      "Recall: 0.8926\n",
      "F1-Score: 0.9234\n",
      "\n",
      "Top 10 variables importantes:\n"
     ]
    },
    {
     "data": {
      "application/vnd.microsoft.datawrangler.viewer.v0+json": {
       "columns": [
        {
         "name": "index",
         "rawType": "int64",
         "type": "integer"
        },
        {
         "name": "feature",
         "rawType": "object",
         "type": "string"
        },
        {
         "name": "importance",
         "rawType": "float64",
         "type": "float"
        }
       ],
       "ref": "698e709e-6c9f-4296-bc77-5899e2ca2cf3",
       "rows": [
        [
         "0",
         "views",
         "0.4812868370657899"
        ],
        [
         "2",
         "dislikes",
         "0.16287909145660948"
        ],
        [
         "1",
         "likes",
         "0.09141542255851383"
        ],
        [
         "3",
         "comment_count",
         "0.08454607158356608"
        ],
        [
         "8",
         "category_id",
         "0.07931271001370627"
        ],
        [
         "5",
         "engagement_rate",
         "0.04704287827846752"
        ],
        [
         "4",
         "like_ratio",
         "0.021169386798383316"
        ],
        [
         "6",
         "title_length",
         "0.016829803998533326"
        ],
        [
         "7",
         "publish_hour",
         "0.015517798246430339"
        ]
       ],
       "shape": {
        "columns": 2,
        "rows": 9
       }
      },
      "text/html": [
       "<div>\n",
       "<style scoped>\n",
       "    .dataframe tbody tr th:only-of-type {\n",
       "        vertical-align: middle;\n",
       "    }\n",
       "\n",
       "    .dataframe tbody tr th {\n",
       "        vertical-align: top;\n",
       "    }\n",
       "\n",
       "    .dataframe thead th {\n",
       "        text-align: right;\n",
       "    }\n",
       "</style>\n",
       "<table border=\"1\" class=\"dataframe\">\n",
       "  <thead>\n",
       "    <tr style=\"text-align: right;\">\n",
       "      <th></th>\n",
       "      <th>feature</th>\n",
       "      <th>importance</th>\n",
       "    </tr>\n",
       "  </thead>\n",
       "  <tbody>\n",
       "    <tr>\n",
       "      <th>0</th>\n",
       "      <td>views</td>\n",
       "      <td>0.481287</td>\n",
       "    </tr>\n",
       "    <tr>\n",
       "      <th>2</th>\n",
       "      <td>dislikes</td>\n",
       "      <td>0.162879</td>\n",
       "    </tr>\n",
       "    <tr>\n",
       "      <th>1</th>\n",
       "      <td>likes</td>\n",
       "      <td>0.091415</td>\n",
       "    </tr>\n",
       "    <tr>\n",
       "      <th>3</th>\n",
       "      <td>comment_count</td>\n",
       "      <td>0.084546</td>\n",
       "    </tr>\n",
       "    <tr>\n",
       "      <th>8</th>\n",
       "      <td>category_id</td>\n",
       "      <td>0.079313</td>\n",
       "    </tr>\n",
       "    <tr>\n",
       "      <th>5</th>\n",
       "      <td>engagement_rate</td>\n",
       "      <td>0.047043</td>\n",
       "    </tr>\n",
       "    <tr>\n",
       "      <th>4</th>\n",
       "      <td>like_ratio</td>\n",
       "      <td>0.021169</td>\n",
       "    </tr>\n",
       "    <tr>\n",
       "      <th>6</th>\n",
       "      <td>title_length</td>\n",
       "      <td>0.016830</td>\n",
       "    </tr>\n",
       "    <tr>\n",
       "      <th>7</th>\n",
       "      <td>publish_hour</td>\n",
       "      <td>0.015518</td>\n",
       "    </tr>\n",
       "  </tbody>\n",
       "</table>\n",
       "</div>"
      ],
      "text/plain": [
       "           feature  importance\n",
       "0            views    0.481287\n",
       "2         dislikes    0.162879\n",
       "1            likes    0.091415\n",
       "3    comment_count    0.084546\n",
       "8      category_id    0.079313\n",
       "5  engagement_rate    0.047043\n",
       "4       like_ratio    0.021169\n",
       "6     title_length    0.016830\n",
       "7     publish_hour    0.015518"
      ]
     },
     "metadata": {},
     "output_type": "display_data"
    }
   ],
   "source": [
    "# VOTRE CODE ICI - Section 7.2\n",
    "from sklearn.metrics import accuracy_score, precision_score, recall_score, f1_score, confusion_matrix\n",
    "print(\"Random Forest - Résultats:\")\n",
    "print(f\"Accuracy: {accuracy_score(y_test, rf_predictions):.4f}\")\n",
    "print(f\"Precision: {precision_score(y_test, rf_predictions):.4f}\")\n",
    "print(f\"Classification report: {classification_report(y_test, rf_predictions)}\")\n",
    "print(f\"Recall: {recall_score(y_test, rf_predictions):.4f}\")\n",
    "print(f\"F1-Score: {f1_score(y_test, rf_predictions):.4f}\")\n",
    "# Importance des variables\n",
    "import pandas as pd\n",
    "feature_importance = pd.DataFrame({\n",
    "    'feature': X.columns,\n",
    "    'importance': rf_model.feature_importances_\n",
    "}).sort_values('importance', ascending=False)\n",
    "print(\"\\nTop 10 variables importantes:\")\n",
    "display(feature_importance.head(10))"
   ]
  },
  {
   "cell_type": "markdown",
   "id": "34bd0a5c",
   "metadata": {},
   "source": [
    "## 8. Modèle 2 — Support Vector Machine (SVM)"
   ]
  },
  {
   "cell_type": "markdown",
   "id": "2aad95c6",
   "metadata": {},
   "source": [
    "**Consigne 8.1 — Entraînement (utiliser données normalisées)**"
   ]
  },
  {
   "cell_type": "code",
   "execution_count": 15,
   "id": "711bf04b",
   "metadata": {},
   "outputs": [],
   "source": [
    "# VOTRE CODE ICI - Section 8.1\n",
    "from sklearn.svm import SVC\n",
    "#Regardez la consigne 6.3"
   ]
  },
  {
   "cell_type": "markdown",
   "id": "979a3ce6",
   "metadata": {},
   "source": [
    "**Consigne 8.2 — Évaluation**"
   ]
  },
  {
   "cell_type": "code",
   "execution_count": 16,
   "id": "29d067ed",
   "metadata": {},
   "outputs": [],
   "source": [
    "# VOTRE CODE ICI - Section 8.2\n",
    "# print(\"SVM - Résultats:\")\n",
    "# print(f\"Accuracy: {accuracy_score(y_test, svm_predictions):.4f}\")\n",
    "#Regardez la consigne 6.3"
   ]
  },
  {
   "cell_type": "markdown",
   "id": "d4372dac",
   "metadata": {},
   "source": [
    "## 9. Modèle 3 — Gradient Boosting (XGBoost)"
   ]
  },
  {
   "cell_type": "markdown",
   "id": "7c4c3bfd",
   "metadata": {},
   "source": [
    "**Consigne 9.1 — Entraînement**"
   ]
  },
  {
   "cell_type": "code",
   "execution_count": 17,
   "id": "d831f458",
   "metadata": {},
   "outputs": [],
   "source": [
    "# VOTRE CODE ICI - Section 9.1\n",
    "try:\n",
    "    from xgboost import XGBClassifier\n",
    "    xgb_model = XGBClassifier(n_estimators=100, max_depth=6, learning_rate=0.1, subsample=1.0, colsample_bytree=1.0, random_state=42, n_jobs=-1, eval_metric='logloss')\n",
    "    xgb_model.fit(X_train, y_train)\n",
    "    xgb_predictions = xgb_model.predict(X_test)\n",
    "except ImportError:\n",
    "    print(\"XGBoost n'est pas installé. Installez avec: pip install xgboost\")\n",
    "    xgb_model = None\n",
    "    xgb_predictions = None"
   ]
  },
  {
   "cell_type": "markdown",
   "id": "b9311d79",
   "metadata": {},
   "source": [
    "**Consigne 9.2 — Évaluation**"
   ]
  },
  {
   "cell_type": "code",
   "execution_count": 18,
   "id": "462bb271",
   "metadata": {},
   "outputs": [
    {
     "name": "stdout",
     "output_type": "stream",
     "text": [
      "XGBoost - Résultats:\n",
      "Accuracy: 0.9921\n",
      "Precision: 0.9924\n",
      "Recall: 0.9704\n",
      "F1-Score: 0.9813\n"
     ]
    }
   ],
   "source": [
    "# VOTRE CODE ICI - Section 9.2\n",
    "if xgb_predictions is not None:\n",
    "    print(\"XGBoost - Résultats:\")\n",
    "    print(f\"Accuracy: {accuracy_score(y_test, xgb_predictions):.4f}\")\n",
    "    print(f\"Precision: {precision_score(y_test, xgb_predictions):.4f}\")\n",
    "    print(f\"Recall: {recall_score(y_test, xgb_predictions):.4f}\")\n",
    "    print(f\"F1-Score: {f1_score(y_test, xgb_predictions):.4f}\")"
   ]
  },
  {
   "cell_type": "markdown",
   "id": "2e11ab75",
   "metadata": {},
   "source": [
    "## 10. Modèle 4 — Réseau de Neurones (MLPClassifier)"
   ]
  },
  {
   "cell_type": "markdown",
   "id": "c346cba0",
   "metadata": {},
   "source": [
    "**Consigne 10.1 — Entraînement (données normalisées)**"
   ]
  },
  {
   "cell_type": "code",
   "execution_count": 19,
   "id": "80c15608",
   "metadata": {},
   "outputs": [],
   "source": [
    "# VOTRE CODE ICI - Section 10.1\n",
    "from sklearn.neural_network import MLPClassifier\n",
    "\n",
    "scaler = StandardScaler()\n",
    "X_train_scaled = scaler.fit_transform(X_train)\n",
    "X_test_scaled = scaler.transform(X_test)\n",
    "nn_model = MLPClassifier(hidden_layer_sizes=(100, 50), alpha=0.01, activation='relu', solver='adam', max_iter=1000, random_state=42)\n",
    "nn_model.fit(X_train_scaled, y_train)\n",
    "nn_predictions = nn_model.predict(X_test_scaled)"
   ]
  },
  {
   "cell_type": "markdown",
   "id": "b77af7a2",
   "metadata": {},
   "source": [
    "**Consigne 10.2 — Évaluation**"
   ]
  },
  {
   "cell_type": "code",
   "execution_count": 20,
   "id": "ae67284a",
   "metadata": {},
   "outputs": [
    {
     "name": "stdout",
     "output_type": "stream",
     "text": [
      "Réseau de Neurones - Résultats:\n",
      "Precision: 0.9585\n",
      "Recall: 0.8556\n",
      "F1-Score: 0.9041\n",
      "Iterations: 189\n"
     ]
    }
   ],
   "source": [
    "# VOTRE CODE ICI - Section 10.2\n",
    "print(\"Réseau de Neurones - Résultats:\")\n",
    "\n",
    "print(f\"Precision: {precision_score(y_test, nn_predictions):.4f}\")\n",
    "print(f\"Recall: {recall_score(y_test, nn_predictions):.4f}\")\n",
    "print(f\"F1-Score: {f1_score(y_test, nn_predictions):.4f}\")\n",
    "# # Nombre d'itérations\n",
    "print(f\"Iterations: {nn_model.n_iter_}\")"
   ]
  },
  {
   "cell_type": "markdown",
   "id": "7bc77978",
   "metadata": {},
   "source": [
    "## 11. Comparaison des modèles"
   ]
  },
  {
   "cell_type": "code",
   "execution_count": 21,
   "id": "9681619f",
   "metadata": {},
   "outputs": [
    {
     "data": {
      "application/vnd.microsoft.datawrangler.viewer.v0+json": {
       "columns": [
        {
         "name": "index",
         "rawType": "int64",
         "type": "integer"
        },
        {
         "name": "Model",
         "rawType": "object",
         "type": "string"
        },
        {
         "name": "Accuracy",
         "rawType": "float64",
         "type": "float"
        },
        {
         "name": "Precision",
         "rawType": "float64",
         "type": "float"
        },
        {
         "name": "Recall",
         "rawType": "float64",
         "type": "float"
        },
        {
         "name": "F1-Score",
         "rawType": "float64",
         "type": "float"
        }
       ],
       "ref": "41be6e99-f85c-4b73-a4fd-224f9a70e29e",
       "rows": [
        [
         "0",
         "Random Forest",
         "0.96852871754524",
         "0.9563492063492064",
         "0.8925925925925926",
         "0.9233716475095786"
        ],
        [
         "1",
         "SVM",
         "0.9354838709677419",
         "0.9433962264150944",
         "0.7407407407407407",
         "0.8298755186721992"
        ],
        [
         "2",
         "XGBoost",
         "0.99213217938631",
         "0.9924242424242424",
         "0.9703703703703703",
         "0.9812734082397003"
        ],
        [
         "3",
         "Neural Network",
         "0.9614476789929189",
         "0.9585062240663901",
         "0.8555555555555555",
         "0.9041095890410958"
        ]
       ],
       "shape": {
        "columns": 5,
        "rows": 4
       }
      },
      "text/html": [
       "<div>\n",
       "<style scoped>\n",
       "    .dataframe tbody tr th:only-of-type {\n",
       "        vertical-align: middle;\n",
       "    }\n",
       "\n",
       "    .dataframe tbody tr th {\n",
       "        vertical-align: top;\n",
       "    }\n",
       "\n",
       "    .dataframe thead th {\n",
       "        text-align: right;\n",
       "    }\n",
       "</style>\n",
       "<table border=\"1\" class=\"dataframe\">\n",
       "  <thead>\n",
       "    <tr style=\"text-align: right;\">\n",
       "      <th></th>\n",
       "      <th>Model</th>\n",
       "      <th>Accuracy</th>\n",
       "      <th>Precision</th>\n",
       "      <th>Recall</th>\n",
       "      <th>F1-Score</th>\n",
       "    </tr>\n",
       "  </thead>\n",
       "  <tbody>\n",
       "    <tr>\n",
       "      <th>0</th>\n",
       "      <td>Random Forest</td>\n",
       "      <td>0.968529</td>\n",
       "      <td>0.956349</td>\n",
       "      <td>0.892593</td>\n",
       "      <td>0.923372</td>\n",
       "    </tr>\n",
       "    <tr>\n",
       "      <th>1</th>\n",
       "      <td>SVM</td>\n",
       "      <td>0.935484</td>\n",
       "      <td>0.943396</td>\n",
       "      <td>0.740741</td>\n",
       "      <td>0.829876</td>\n",
       "    </tr>\n",
       "    <tr>\n",
       "      <th>2</th>\n",
       "      <td>XGBoost</td>\n",
       "      <td>0.992132</td>\n",
       "      <td>0.992424</td>\n",
       "      <td>0.970370</td>\n",
       "      <td>0.981273</td>\n",
       "    </tr>\n",
       "    <tr>\n",
       "      <th>3</th>\n",
       "      <td>Neural Network</td>\n",
       "      <td>0.961448</td>\n",
       "      <td>0.958506</td>\n",
       "      <td>0.855556</td>\n",
       "      <td>0.904110</td>\n",
       "    </tr>\n",
       "  </tbody>\n",
       "</table>\n",
       "</div>"
      ],
      "text/plain": [
       "            Model  Accuracy  Precision    Recall  F1-Score\n",
       "0   Random Forest  0.968529   0.956349  0.892593  0.923372\n",
       "1             SVM  0.935484   0.943396  0.740741  0.829876\n",
       "2         XGBoost  0.992132   0.992424  0.970370  0.981273\n",
       "3  Neural Network  0.961448   0.958506  0.855556  0.904110"
      ]
     },
     "metadata": {},
     "output_type": "display_data"
    },
    {
     "data": {
      "image/png": "[encoded data removed]",
      "text/plain": [
       "<Figure size 640x480 with 1 Axes>"
      ]
     },
     "metadata": {},
     "output_type": "display_data"
    }
   ],
   "source": [
    "# VOTRE CODE ICI - Section 11.1\n",
    "import pandas as pd\n",
    "results = []\n",
    "# Remplir en fonction des métriques calculées plus haut\n",
    "results.append({'Model': 'Random Forest', 'Accuracy': accuracy_score(y_test, rf_predictions), 'Precision': precision_score(y_test, rf_predictions), 'Recall': recall_score(y_test, rf_predictions), 'F1-Score': f1_score(y_test, rf_predictions)})\n",
    "results.append({'Model': 'SVM', 'Accuracy': acc, 'Precision': precision_score(y_test, predict), 'Recall': recall_score(y_test, predict), 'F1-Score': f1_score(y_test, predict)})\n",
    "if xgb_predictions is not None: results.append({'Model': 'XGBoost', 'Accuracy': accuracy_score(y_test, xgb_predictions), 'Precision': precision_score(y_test, xgb_predictions), 'Recall': recall_score(y_test, xgb_predictions), 'F1-Score': f1_score(y_test, xgb_predictions)})\n",
    "results.append({'Model': 'Neural Network', 'Accuracy': accuracy_score(y_test, nn_predictions), 'Precision': precision_score(y_test, nn_predictions), 'Recall': recall_score(y_test, nn_predictions), 'F1-Score': f1_score(y_test, nn_predictions)})\n",
    "results_df = pd.DataFrame(results)\n",
    "display(results_df)\n",
    "# Graphique comparatif des F1-scores (optionnel)\n",
    "import matplotlib.pyplot as plt\n",
    "plt.figure()\n",
    "bars = plt.bar(results_df['Model'], results_df['F1-Score'])\n",
    "# Affichage % \n",
    "plt.bar_label(bars, labels=[f'{v*100:.1f}%' for v in results_df['F1-Score']])\n",
    "plt.title('Comparaison des F1-scores')\n",
    "plt.ylabel('F1-Score')\n",
    "plt.show()"
   ]
  },
  {
   "cell_type": "markdown",
   "id": "ecb2a166",
   "metadata": {},
   "source": [
    "## 12. Validation croisée"
   ]
  },
  {
   "cell_type": "code",
   "execution_count": 22,
   "id": "aac69276",
   "metadata": {},
   "outputs": [
    {
     "name": "stdout",
     "output_type": "stream",
     "text": [
      "Validation croisée - F1-Score: 0.9070 (+/- 0.0121)\n"
     ]
    }
   ],
   "source": [
    "# VOTRE CODE ICI - Section 12.1\n",
    "from sklearn.model_selection import cross_val_score\n",
    "# Exemple avec Random Forest (remplacez par votre meilleur modèle)\n",
    "scores = cross_val_score(nn_model, X_train_scaled, y_train, cv=5, scoring='f1', n_jobs=-1)\n",
    "print(f\"Validation croisée - F1-Score: {scores.mean():.4f} (+/- {scores.std() * 2:.4f})\")"
   ]
  },
  {
   "cell_type": "markdown",
   "id": "38b7ac2d",
   "metadata": {},
   "source": [
    "## 13. Optimisation des hyperparamètres (Grid Search)"
   ]
  },
  {
   "cell_type": "code",
   "execution_count": 23,
   "id": "509756b9",
   "metadata": {},
   "outputs": [
    {
     "name": "stdout",
     "output_type": "stream",
     "text": [
      "Meilleurs paramètres: {'max_depth': None, 'min_samples_split': 2, 'n_estimators': 100}\n",
      "Meilleur score CV: 0.9310711755108757\n"
     ]
    }
   ],
   "source": [
    "# VOTRE CODE ICI - Section 13.1\n",
    "from sklearn.model_selection import GridSearchCV\n",
    "from sklearn.ensemble import RandomForestClassifier\n",
    "param_grid = {\n",
    "    'n_estimators': [50, 100, 200],\n",
    "    'max_depth': [5, 10, None],\n",
    "    'min_samples_split': [2, 5, 10]\n",
    "}\n",
    "grid_search = GridSearchCV(\n",
    "    RandomForestClassifier(random_state=42),\n",
    "    param_grid,\n",
    "    cv=3,\n",
    "    scoring='f1',\n",
    "    n_jobs=-1\n",
    ")\n",
    "grid_search.fit(X_train, y_train)\n",
    "print(\"Meilleurs paramètres:\", grid_search.best_params_)\n",
    "print(\"Meilleur score CV:\", grid_search.best_score_)\n",
    "best_rf = grid_search.best_estimator_\n",
    "best_rf_pred = best_rf.predict(X_test)"
   ]
  },
  {
   "cell_type": "markdown",
   "id": "a4a30039",
   "metadata": {},
   "source": [
    "## 14. Analyse des erreurs"
   ]
  },
  {
   "cell_type": "code",
   "execution_count": 24,
   "id": "686bb0d4",
   "metadata": {},
   "outputs": [
    {
     "data": {
      "image/png": "[encoded data removed]",
      "text/plain": [
       "<Figure size 800x600 with 2 Axes>"
      ]
     },
     "metadata": {},
     "output_type": "display_data"
    }
   ],
   "source": [
    "# VOTRE CODE ICI - Section 14.1\n",
    "import matplotlib.pyplot as plt\n",
    "import seaborn as sns\n",
    "from sklearn.metrics import confusion_matrix\n",
    "# Exemple: matrice de confusion pour le meilleur modèle (remplacez best_rf_pred)\n",
    "cm = confusion_matrix(y_test, best_rf_pred)\n",
    "plt.figure(figsize=(8, 6))\n",
    "sns.heatmap(cm, annot=True, fmt='d', cmap='Blues',\n",
    "            xticklabels=['Non-Trending', 'Trending'],\n",
    "            yticklabels=['Non-Trending', 'Trending'])\n",
    "plt.title('Matrice de Confusion - Meilleur Modèle')\n",
    "plt.ylabel('Valeurs Réelles')\n",
    "plt.xlabel('Prédictions')\n",
    "plt.show()"
   ]
  },
  {
   "cell_type": "code",
   "execution_count": 45,
   "id": "d05fb987",
   "metadata": {},
   "outputs": [
    {
     "name": "stdout",
     "output_type": "stream",
     "text": [
      "Exemples de vidéos mal classifiées (Random Forest):\n",
      "\n",
      "Index 27578: Réel=1, Prédit=0\n",
      "Index 31781: Réel=0, Prédit=1\n",
      "Index 22565: Réel=0, Prédit=1\n",
      "Index 36752: Réel=1, Prédit=0\n",
      "Index 30360: Réel=1, Prédit=0\n",
      "\n",
      "Exemples de vidéos mal classifiées (Support Vector Machine):\n",
      "\n",
      "Index 27578: Réel=1, Prédit=0\n",
      "Index 35155: Réel=1, Prédit=0\n",
      "Index 22565: Réel=0, Prédit=1\n",
      "Index 14009: Réel=1, Prédit=0\n",
      "Index 10347: Réel=0, Prédit=1\n",
      "\n",
      "Exemples de vidéos mal classifiées (Gradient Boosting):\n",
      "\n",
      "Index 257: Réel=0, Prédit=1\n",
      "Index 36752: Réel=1, Prédit=0\n",
      "Index 20974: Réel=1, Prédit=0\n",
      "Index 6807: Réel=1, Prédit=0\n",
      "Index 16598: Réel=1, Prédit=0\n",
      "\n",
      "Exemples de vidéos mal classifiées (MLP Classifier):\n",
      "\n",
      "Index 27578: Réel=1, Prédit=0\n",
      "Index 31781: Réel=0, Prédit=1\n",
      "Index 14009: Réel=1, Prédit=0\n",
      "Index 36752: Réel=1, Prédit=0\n",
      "Index 30360: Réel=1, Prédit=0\n"
     ]
    }
   ],
   "source": [
    "# Random Forest\n",
    "errors_mask = (y_test != best_rf_pred)\n",
    "error_indices = X_test[errors_mask].index\n",
    "print(\"Exemples de vidéos mal classifiées (Random Forest):\\n\")\n",
    "for idx in list(error_indices)[:5]:\n",
    "    real_label = y_test.loc[idx]\n",
    "    predicted_label = best_rf_pred[y_test.index.get_loc(idx)]\n",
    "    print(f\"Index {idx}: Réel={real_label}, Prédit={predicted_label}\")\n",
    "\n",
    "# Support Vector Machine\n",
    "errors_mask = (y_test != predict)\n",
    "error_indices = X_test[errors_mask].index\n",
    "print(\"\\nExemples de vidéos mal classifiées (Support Vector Machine):\\n\")\n",
    "for idx in list(error_indices)[:5]:\n",
    "    real_label = y_test.loc[idx]\n",
    "    predicted_label = predict[y_test.index.get_loc(idx)]\n",
    "    print(f\"Index {idx}: Réel={real_label}, Prédit={predicted_label}\")\n",
    "\n",
    "# Gradient Boosting\n",
    "errors_mask = (y_test != xgb_predictions)\n",
    "error_indices = X_test[errors_mask].index\n",
    "print(\"\\nExemples de vidéos mal classifiées (Gradient Boosting):\\n\")\n",
    "for idx in list(error_indices)[:5]:\n",
    "    real_label = y_test.loc[idx]\n",
    "    predicted_label = xgb_predictions[y_test.index.get_loc(idx)]\n",
    "    print(f\"Index {idx}: Réel={real_label}, Prédit={predicted_label}\")\n",
    "\n",
    "# MLP Classifier\n",
    "errors_mask = (y_test != nn_predictions)\n",
    "error_indices = X_test[errors_mask].index\n",
    "print(\"\\nExemples de vidéos mal classifiées (MLP Classifier):\\n\")\n",
    "for idx in list(error_indices)[:5]:\n",
    "    real_label = y_test.loc[idx]\n",
    "    predicted_label = nn_predictions[y_test.index.get_loc(idx)]\n",
    "    print(f\"Index {idx}: Réel={real_label}, Prédit={predicted_label}\")"
   ]
  },
  {
   "cell_type": "markdown",
   "id": "7338b06f",
   "metadata": {},
   "source": [
    "## 15. Sauvegarde & conclusions"
   ]
  },
  {
   "cell_type": "code",
   "execution_count": 59,
   "id": "1eab9baf",
   "metadata": {},
   "outputs": [
    {
     "name": "stdout",
     "output_type": "stream",
     "text": [
      "Modèle et scaler sauvegardés avec succès!\n"
     ]
    }
   ],
   "source": [
    "# VOTRE CODE ICI - Section 15.1\n",
    "import joblib\n",
    "import os\n",
    "\n",
    "# Extension ~ vers le chemin d'accès au répertoire personnel\n",
    "path_model = os.path.expanduser('~/youtube-popularity-ml/model/best_youtube_classifier.pkl')\n",
    "path_scaler = os.path.expanduser('~/youtube-popularity-ml/model/feature_scaler.pkl')\n",
    "\n",
    "# Remplacez 'best_rf' / 'scaler' par vos objets\n",
    "joblib.dump(xgb_model, path_model)\n",
    "joblib.dump(scaler, path_scaler)\n",
    "print(\"Modèle et scaler sauvegardés avec succès!\")"
   ]
  },
  {
   "cell_type": "markdown",
   "id": "ed7eddb3",
   "metadata": {},
   "source": [
    "### Conclusions à rédiger\n",
    "\n",
    "1. **Meilleur modèle**  \n",
    "   - Modèle: *XGBoost*  \n",
    "   - Performances: *XGBoost: F1-Score: 0.9774 (+/- 0.0155)*  \n",
    "   - Raisons: *[À compléter]*\n",
    "\n",
    "2. **Variables les plus importantes**  \n",
    "   - Top 10:\n",
    "   - *Views*\n",
    "   - *Dislikes*\n",
    "   - *Likes*\n",
    "   - *comment_count*\n",
    "   - *category_id*\n",
    "   - *engagement_rate*\n",
    "   - *like_ratio*\n",
    "   - *title_length*\n",
    "   - *publish_hour*\n",
    "\n",
    "3. **Limitations**  \n",
    "   - *Facteurs qualitatifs non inclus, dataset déséquilibré, Neural Network sensible à l’échelle.*\n",
    "\n",
    "4. **Améliorations suggérées**  \n",
    "   - *Features temporelles, tuning hyperparamètres*\n",
    "\n",
    "5. **Apprentissages**  \n",
    "   - *importance du scaling, cross-validation pour métriques fiables, puissance du boosting, compréhension de F1, Precision et Recall.*"
   ]
  },
  {
   "cell_type": "markdown",
   "id": "72c6e844",
   "metadata": {},
   "source": [
    "---\n",
    "## Guide de testing pour les étudiants\n",
    "\n",
    "**Comment tester vos implémentations :**\n",
    "1. **Vérifications de base** : `.shape`, `.info()`, `.head()`  \n",
    "2. **Validation des features** : pas de NaN, ratios entre 0 et 1, plages temporelles correctes  \n",
    "3. **Validation des modèles** : prédictions binaires {0,1}, longueurs cohérentes, comparaisons rigoureuses  \n",
    "4. **Tests de cohérence** : scores réalistes, F1 entre précision et rappel, impact de la normalisation  \n",
    "5. **Debugging** : augmenter `max_iter` si nécessaire, vérifier entrées/sorties et dimensions"
   ]
  }
 ],
 "metadata": {
  "kernelspec": {
   "display_name": ".venv",
   "language": "python",
   "name": "python3"
  },
  "language_info": {
   "codemirror_mode": {
    "name": "ipython",
    "version": 3
   },
   "file_extension": ".py",
   "mimetype": "text/x-python",
   "name": "python",
   "nbconvert_exporter": "python",
   "pygments_lexer": "ipython3",
   "version": "3.12.3"
  }
 },
 "nbformat": 4,
 "nbformat_minor": 5
}
